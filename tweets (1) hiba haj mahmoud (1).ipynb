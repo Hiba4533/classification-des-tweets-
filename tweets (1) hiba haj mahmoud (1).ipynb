{
 "cells": [
  {
   "cell_type": "markdown",
   "id": "03de2b23-9de1-48b0-9d72-af04f3a7a31a",
   "metadata": {},
   "source": [
    "## charger 500 tweets ##"
   ]
  },
  {
   "cell_type": "code",
   "execution_count": 13,
   "id": "aa80bc5a-85ed-45e3-adcb-bffdd80de15f",
   "metadata": {},
   "outputs": [
    {
     "name": "stdout",
     "output_type": "stream",
     "text": [
      "                   id                                               link  \\\n",
      "0  385862325875376128  https://twitter.com/realDonaldTrump/status/385...   \n",
      "1  689804695221600256  https://twitter.com/realDonaldTrump/status/689...   \n",
      "2  664628393921544192  https://twitter.com/realDonaldTrump/status/664...   \n",
      "3  667366321999495168  https://twitter.com/realDonaldTrump/status/667...   \n",
      "4  199573450485006336  https://twitter.com/realDonaldTrump/status/199...   \n",
      "\n",
      "                                             content                 date  \\\n",
      "0  Great ruling on wind farm in Scotland—very sma...  2013-10-03 22:22:02   \n",
      "1  # MakeAmericaGreatAgain # Trump2016 LIFE CHANG...  2016-01-20 14:40:29   \n",
      "2  \" @ ellenEspence: I'm not convinced that any c...  2015-11-12 03:18:51   \n",
      "3  Dopey @ GeorgeWill, a big proponent of the Ira...  2015-11-19 16:38:24   \n",
      "4  The election result in France is very disappoi...  2012-05-07 20:56:33   \n",
      "\n",
      "   retweets  favorites mentions hashtags  geo  \n",
      "0        22         14      NaN      NaN  NaN  \n",
      "1      1424       3543      NaN      # #  NaN  \n",
      "2      1251       3125      @ @        #  NaN  \n",
      "3       849       2211        @      NaN  NaN  \n",
      "4       145         30      NaN      NaN  NaN  \n"
     ]
    }
   ],
   "source": [
    "import pandas as pd\n",
    "\n",
    "data = pd.read_csv('C:/Users/USER_/Downloads/Documents/MR2/Data mining/sample_500_tweets.csv')\n",
    "print(data.head())  \n"
   ]
  },
  {
   "cell_type": "markdown",
   "id": "f9b89e99-1ef1-4c2b-b199-d6872d139ea7",
   "metadata": {},
   "source": [
    "## Prétraitement des Tweets ## "
   ]
  },
  {
   "cell_type": "code",
   "execution_count": 17,
   "id": "389104f6-2749-460f-a4fe-74cc1cf8543c",
   "metadata": {},
   "outputs": [
    {
     "name": "stdout",
     "output_type": "stream",
     "text": [
      "                                             content  \\\n",
      "0  Great ruling on wind farm in Scotland—very sma...   \n",
      "1  # MakeAmericaGreatAgain # Trump2016 LIFE CHANG...   \n",
      "2  \" @ ellenEspence: I'm not convinced that any c...   \n",
      "3  Dopey @ GeorgeWill, a big proponent of the Ira...   \n",
      "4  The election result in France is very disappoi...   \n",
      "\n",
      "                                     cleaned_content  \n",
      "0  Great ruling on wind farm in Scotlandvery smar...  \n",
      "1  MakeAmericaGreatAgain  Trump2016 LIFE CHANGING...  \n",
      "2  ellenEspence Im not convinced that any candida...  \n",
      "3  Dopey  GeorgeWill a big proponent of the Iraq ...  \n",
      "4  The election result in France is very disappoi...  \n"
     ]
    }
   ],
   "source": [
    "import pandas as pd\n",
    "import re\n",
    "import string\n",
    "\n",
    "# Fonction de nettoyage\n",
    "def clean_tweet(tweet):\n",
    "    # Supprimer les mentions (@username)\n",
    "    tweet = re.sub(r'@\\w+', '', tweet)\n",
    "    # Supprimer les hashtags (#hashtag)\n",
    "    tweet = re.sub(r'#', '', tweet)\n",
    "    # Supprimer les URL\n",
    "    tweet = re.sub(r'http\\S+|www.\\S+', '', tweet)\n",
    "    # Supprimer les caractères spéciaux\n",
    "    tweet = re.sub(r'[^\\w\\s]', '', tweet)\n",
    "    # Supprimer les espaces multiples\n",
    "    tweet = tweet.strip()\n",
    "    return tweet\n",
    "\n",
    "# Charger le fichier complet\n",
    "file_path = 'C:/Users/USER_/Downloads/Documents/MR2/Data mining/sample_500_tweets.csv'  # Remplacez par le chemin réel\n",
    "df = pd.read_csv(file_path)\n",
    "\n",
    "# Vérifier si la colonne contenant les tweets existe\n",
    "if 'content' in df.columns:  # Remplacez 'content' par le vrai nom de la colonne contenant les tweets\n",
    "    # Appliquer la fonction de nettoyage\n",
    "    df['cleaned_content'] = df['content'].apply(clean_tweet)\n",
    "else:\n",
    "    raise ValueError(\"La colonne 'content' contenant les tweets n'a pas été trouvée.\")\n",
    "\n",
    "# Afficher un aperçu du DataFrame\n",
    "print(df[['content', 'cleaned_content']].head())\n"
   ]
  },
  {
   "cell_type": "markdown",
   "id": "cff75c35-2471-4fd6-b444-efa471710a2f",
   "metadata": {},
   "source": [
    "## afficher la  Les données nettoyées ## "
   ]
  },
  {
   "cell_type": "code",
   "execution_count": 19,
   "id": "3fac35cc-9f04-4a40-ba60-17f78a37a14e",
   "metadata": {},
   "outputs": [
    {
     "name": "stdout",
     "output_type": "stream",
     "text": [
      "                                     cleaned_content\n",
      "0  Great ruling on wind farm in Scotlandvery smar...\n",
      "1  MakeAmericaGreatAgain  Trump2016 LIFE CHANGING...\n",
      "2  ellenEspence Im not convinced that any candida...\n",
      "3  Dopey  GeorgeWill a big proponent of the Iraq ...\n",
      "4  The election result in France is very disappoi...\n",
      "5  PerryGolf Top 100 Golf Courses  golf_com   The...\n",
      "6  VOTER REGISTRATION DEADLINES TODAY You can reg...\n",
      "7  MrTrump speaks the TRUTH And Will NOT Back Dow...\n",
      "8      wvcarsong Okay please say hello to her for me\n",
      "9  Entrepreneurs Set the bar high Do the best you...\n"
     ]
    }
   ],
   "source": [
    "import pandas as pd\n",
    "\n",
    "# Charger le dataset nettoyé\n",
    "output_file = 'cleaned_dataset.csv'  \n",
    "cleaned_data = pd.read_csv(output_file)\n",
    "\n",
    "# Garder uniquement la colonne nettoyée\n",
    "cleaned_only = cleaned_data[['cleaned_content']]\n",
    "\n",
    "# Afficher les premières lignes pour vérifier\n",
    "print(cleaned_only.head(10))\n",
    "\n",
    "#  Sauvegarder dans un nouveau fichier\n",
    "cleaned_only.to_csv('cleaned_only_dataset.csv', index=False)"
   ]
  },
  {
   "cell_type": "markdown",
   "id": "742f66e4-b4e3-4422-bf70-e90f1ca634c7",
   "metadata": {},
   "source": [
    " ## installer nltk ## "
   ]
  },
  {
   "cell_type": "code",
   "execution_count": 331,
   "id": "296059ec-b34a-4ec5-8c76-354535107848",
   "metadata": {},
   "outputs": [
    {
     "name": "stdout",
     "output_type": "stream",
     "text": [
      "Requirement already satisfied: nltk in c:\\users\\user_\\anaconda3\\lib\\site-packages (3.8.1)\n",
      "Requirement already satisfied: click in c:\\users\\user_\\anaconda3\\lib\\site-packages (from nltk) (8.1.7)\n",
      "Requirement already satisfied: joblib in c:\\users\\user_\\anaconda3\\lib\\site-packages (from nltk) (1.4.2)\n",
      "Requirement already satisfied: regex>=2021.8.3 in c:\\users\\user_\\anaconda3\\lib\\site-packages (from nltk) (2023.10.3)\n",
      "Requirement already satisfied: tqdm in c:\\users\\user_\\anaconda3\\lib\\site-packages (from nltk) (4.66.4)\n",
      "Requirement already satisfied: colorama in c:\\users\\user_\\anaconda3\\lib\\site-packages (from click->nltk) (0.4.6)\n",
      "Note: you may need to restart the kernel to use updated packages.\n"
     ]
    }
   ],
   "source": [
    "pip install nltk "
   ]
  },
  {
   "cell_type": "code",
   "execution_count": 21,
   "id": "c9c48c04-27d2-43ea-805e-91c9e0ac4af1",
   "metadata": {},
   "outputs": [],
   "source": [
    "import nltk\n",
    "from nltk.tokenize import word_tokenize\n",
    "from nltk.corpus import stopwords\n",
    "from nltk.stem import PorterStemmer, WordNetLemmatizer\n",
    "import re\n"
   ]
  },
  {
   "cell_type": "markdown",
   "id": "34cbc195-ec0b-44c0-8190-87d5ad233bdb",
   "metadata": {},
   "source": [
    "## Effectuer le tokenization (séparer les mots) ## "
   ]
  },
  {
   "cell_type": "code",
   "execution_count": 23,
   "id": "d55982a7-6b05-4ed7-88f2-0d7e46c309ef",
   "metadata": {},
   "outputs": [
    {
     "name": "stdout",
     "output_type": "stream",
     "text": [
      "                                     cleaned_content  \\\n",
      "0  Great ruling on wind farm in Scotlandvery smar...   \n",
      "1  MakeAmericaGreatAgain  Trump2016 LIFE CHANGING...   \n",
      "2  ellenEspence Im not convinced that any candida...   \n",
      "3  Dopey  GeorgeWill a big proponent of the Iraq ...   \n",
      "4  The election result in France is very disappoi...   \n",
      "\n",
      "                                              tokens  \n",
      "0  [Great, ruling, on, wind, farm, in, Scotlandve...  \n",
      "1  [MakeAmericaGreatAgain, Trump2016, LIFE, CHANG...  \n",
      "2  [ellenEspence, Im, not, convinced, that, any, ...  \n",
      "3  [Dopey, GeorgeWill, a, big, proponent, of, the...  \n",
      "4  [The, election, result, in, France, is, very, ...  \n"
     ]
    },
    {
     "name": "stderr",
     "output_type": "stream",
     "text": [
      "[nltk_data] Downloading package punkt to\n",
      "[nltk_data]     C:\\Users\\USER_\\AppData\\Roaming\\nltk_data...\n",
      "[nltk_data]   Package punkt is already up-to-date!\n"
     ]
    }
   ],
   "source": [
    "from nltk.tokenize import word_tokenize\n",
    "import nltk\n",
    "\n",
    "nltk.download('punkt')  # Téléchargez les ressources nécessaires\n",
    "\n",
    "# Appliquer la tokenisation\n",
    "df['tokens'] = df['cleaned_content'].apply(word_tokenize)\n",
    "print(df[['cleaned_content', 'tokens']].head())\n"
   ]
  },
  {
   "cell_type": "markdown",
   "id": "015c6187-0663-4c91-bde6-87d4652f0ca4",
   "metadata": {},
   "source": [
    "## Filtrer les stopwords ## "
   ]
  },
  {
   "cell_type": "code",
   "execution_count": 25,
   "id": "639c85f7-63c7-4f80-b0f8-bed10e2a6e3c",
   "metadata": {},
   "outputs": [
    {
     "name": "stdout",
     "output_type": "stream",
     "text": [
      "                                              tokens  \\\n",
      "0  [Great, ruling, on, wind, farm, in, Scotlandve...   \n",
      "1  [MakeAmericaGreatAgain, Trump2016, LIFE, CHANG...   \n",
      "2  [ellenEspence, Im, not, convinced, that, any, ...   \n",
      "3  [Dopey, GeorgeWill, a, big, proponent, of, the...   \n",
      "4  [The, election, result, in, France, is, very, ...   \n",
      "\n",
      "                                     filtered_tokens  \n",
      "0  [Great, ruling, wind, farm, Scotlandvery, smar...  \n",
      "1  [MakeAmericaGreatAgain, Trump2016, LIFE, CHANG...  \n",
      "2  [ellenEspence, Im, convinced, candidate, realD...  \n",
      "3  [Dopey, GeorgeWill, big, proponent, Iraq, War,...  \n",
      "4  [election, result, France, disappointing, Euro...  \n"
     ]
    },
    {
     "name": "stderr",
     "output_type": "stream",
     "text": [
      "[nltk_data] Downloading package stopwords to\n",
      "[nltk_data]     C:\\Users\\USER_\\AppData\\Roaming\\nltk_data...\n",
      "[nltk_data]   Package stopwords is already up-to-date!\n"
     ]
    }
   ],
   "source": [
    "from nltk.corpus import stopwords\n",
    "\n",
    "nltk.download('stopwords')  # Téléchargez les stopwords\n",
    "stop_words = set(stopwords.words('english'))  # Changez en 'french' si vos tweets sont en français\n",
    "\n",
    "# Supprimer les stopwords\n",
    "df['filtered_tokens'] = df['tokens'].apply(lambda tokens: [word for word in tokens if word.lower() not in stop_words])\n",
    "print(df[['tokens', 'filtered_tokens']].head())\n"
   ]
  },
  {
   "cell_type": "markdown",
   "id": "69687192-b110-4005-870c-0d69ec37922d",
   "metadata": {},
   "source": [
    "## effectuer une lemmatisation ## "
   ]
  },
  {
   "cell_type": "code",
   "execution_count": 27,
   "id": "476c56db-f045-4557-ab69-d998d08dcd74",
   "metadata": {},
   "outputs": [
    {
     "name": "stderr",
     "output_type": "stream",
     "text": [
      "[nltk_data] Downloading package wordnet to\n",
      "[nltk_data]     C:\\Users\\USER_\\AppData\\Roaming\\nltk_data...\n",
      "[nltk_data]   Package wordnet is already up-to-date!\n",
      "[nltk_data] Downloading package omw-1.4 to\n",
      "[nltk_data]     C:\\Users\\USER_\\AppData\\Roaming\\nltk_data...\n",
      "[nltk_data]   Package omw-1.4 is already up-to-date!\n"
     ]
    },
    {
     "name": "stdout",
     "output_type": "stream",
     "text": [
      "                                     filtered_tokens  \\\n",
      "0  [Great, ruling, wind, farm, Scotlandvery, smar...   \n",
      "1  [MakeAmericaGreatAgain, Trump2016, LIFE, CHANG...   \n",
      "2  [ellenEspence, Im, convinced, candidate, realD...   \n",
      "3  [Dopey, GeorgeWill, big, proponent, Iraq, War,...   \n",
      "4  [election, result, France, disappointing, Euro...   \n",
      "\n",
      "                                   lemmatized_tokens  \n",
      "0  [Great, ruling, wind, farm, Scotlandvery, smar...  \n",
      "1  [MakeAmericaGreatAgain, Trump2016, LIFE, CHANG...  \n",
      "2  [ellenEspence, Im, convinced, candidate, realD...  \n",
      "3  [Dopey, GeorgeWill, big, proponent, Iraq, War,...  \n",
      "4  [election, result, France, disappointing, Euro...  \n"
     ]
    }
   ],
   "source": [
    "from nltk.stem import WordNetLemmatizer\n",
    "\n",
    "nltk.download('wordnet')  # Téléchargez WordNet pour la lemmatisation\n",
    "nltk.download('omw-1.4')  # Données linguistiques additionnelles\n",
    "lemmatizer = WordNetLemmatizer()\n",
    "\n",
    "# Appliquer la lemmatisation\n",
    "df['lemmatized_tokens'] = df['filtered_tokens'].apply(lambda tokens: [lemmatizer.lemmatize(word) for word in tokens])\n",
    "print(df[['filtered_tokens', 'lemmatized_tokens']].head())\n"
   ]
  },
  {
   "cell_type": "markdown",
   "id": "b512c7c1-52e3-41ba-9ff6-f6724534deb6",
   "metadata": {},
   "source": [
    "## Reconstruire les tweets à partir des tokens lemmatisés ## "
   ]
  },
  {
   "cell_type": "code",
   "execution_count": 31,
   "id": "2137941f-44d3-4d0d-8871-12d9c02e8f99",
   "metadata": {},
   "outputs": [
    {
     "name": "stdout",
     "output_type": "stream",
     "text": [
      "Index(['id', 'link', 'content', 'date', 'retweets', 'favorites', 'mentions',\n",
      "       'hashtags', 'geo', 'cleaned_content', 'tokens', 'filtered_tokens',\n",
      "       'lemmatized_tokens', 'final_tweet'],\n",
      "      dtype='object')\n",
      "                                     cleaned_content  \\\n",
      "0  Great ruling on wind farm in Scotlandvery smar...   \n",
      "1  MakeAmericaGreatAgain  Trump2016 LIFE CHANGING...   \n",
      "2  ellenEspence Im not convinced that any candida...   \n",
      "3  Dopey  GeorgeWill a big proponent of the Iraq ...   \n",
      "4  The election result in France is very disappoi...   \n",
      "\n",
      "                                         final_tweet  \n",
      "0  Great ruling wind farm Scotlandvery smart judg...  \n",
      "1  MakeAmericaGreatAgain Trump2016 LIFE CHANGING ...  \n",
      "2  ellenEspence Im convinced candidate realDonald...  \n",
      "3  Dopey GeorgeWill big proponent Iraq War catast...  \n",
      "4  election result France disappointing Europeans...  \n"
     ]
    }
   ],
   "source": [
    "# Ajouter une colonne pour reconstruire les tweets après lemmatisation\n",
    "df['final_tweet'] = df['lemmatized_tokens'].apply(lambda tokens: ' '.join(tokens))\n",
    "\n",
    "# Vérifier les colonnes disponibles\n",
    "print(df.columns)\n",
    "\n",
    "# Afficher les 5 premières lignes des colonnes cleaned_content et final_tweet\n",
    "print(df[['cleaned_content', 'final_tweet']].head())\n",
    "\n"
   ]
  },
  {
   "cell_type": "code",
   "execution_count": 33,
   "id": "d98087b0-fc29-418a-a0f2-b5ef3bf4f99c",
   "metadata": {},
   "outputs": [
    {
     "name": "stdout",
     "output_type": "stream",
     "text": [
      "Dataset analysé et sauvegardé dans 'final_tweets_dataset.csv'\n"
     ]
    }
   ],
   "source": [
    "df.to_csv('final_tweets_dataset.csv', index=False)\n",
    "print(\"Dataset analysé et sauvegardé dans 'final_tweets_dataset.csv'\")\n"
   ]
  },
  {
   "cell_type": "markdown",
   "id": "6607f452-26de-427c-bdc5-1f7d5751bc43",
   "metadata": {},
   "source": [
    "## Convertir les listes de mots en texte (chaîne de caractères) ## "
   ]
  },
  {
   "cell_type": "code",
   "execution_count": 35,
   "id": "6c1d5b81-a105-4c3b-8f40-aed43d296acb",
   "metadata": {},
   "outputs": [
    {
     "name": "stdout",
     "output_type": "stream",
     "text": [
      "0    Great ruling wind farm Scotlandvery smart judg...\n",
      "1    MakeAmericaGreatAgain Trump2016 LIFE CHANGING ...\n",
      "2    ellenEspence Im convinced candidate realDonald...\n",
      "3    Dopey GeorgeWill big proponent Iraq War catast...\n",
      "4    election result France disappointing Europeans...\n",
      "Name: lemmatized_text, dtype: object\n"
     ]
    }
   ],
   "source": [
    "\n",
    "df['lemmatized_text'] = df['lemmatized_tokens'].apply(lambda x: ' '.join(x))\n",
    "\n",
    "# Vérifiez le résultat\n",
    "print(df['lemmatized_text'].head())\n"
   ]
  },
  {
   "cell_type": "markdown",
   "id": "44dcf91c-b715-4b4e-8a96-a7cf4334691d",
   "metadata": {},
   "source": [
    "##  Transformer les tweets en matrice TF-IDF ##"
   ]
  },
  {
   "cell_type": "code",
   "execution_count": 37,
   "id": "4e5622a0-a8db-47a6-ad53-113d1d2b225a",
   "metadata": {},
   "outputs": [
    {
     "name": "stdout",
     "output_type": "stream",
     "text": [
      "Dimensions de la matrice TF-IDF : (500, 1000)\n"
     ]
    }
   ],
   "source": [
    "from sklearn.feature_extraction.text import TfidfVectorizer\n",
    "\n",
    "# Initialiser le vectoriseur\n",
    "vectorizer = TfidfVectorizer(\n",
    "    max_features=1000,       # Limiter à 1000 mots les plus fréquents\n",
    "    stop_words='english',    # Ignorer les mots vides (en anglais)\n",
    "    ngram_range=(1, 1)       # Considérer seulement les mots uniques\n",
    ")\n",
    "\n",
    "# Transformer les tweets en matrice TF-IDF\n",
    "X = vectorizer.fit_transform(df['lemmatized_text'])\n",
    "\n",
    "# Afficher la dimension de la matrice\n",
    "print(\"Dimensions de la matrice TF-IDF :\", X.shape)\n"
   ]
  },
  {
   "cell_type": "markdown",
   "id": "197a973a-c6d3-4bc2-9541-1079041a71a1",
   "metadata": {},
   "source": [
    "## Afficher les mots-clés extraits par TF-IDF ##"
   ]
  },
  {
   "cell_type": "code",
   "execution_count": 39,
   "id": "80f161be-4cc6-43ab-8a22-ede2f42eab6e",
   "metadata": {},
   "outputs": [
    {
     "name": "stdout",
     "output_type": "stream",
     "text": [
      "Mots-clés :\n",
      "['100' '1st' '2016' '2nd' '30' '46' '500' '700' 'absolutely' 'abuse'\n",
      " 'accomplished' 'action' 'actually' 'additional' 'administration' 'admit'\n",
      " 'adorable' 'againhe' 'agent' 'ago']\n"
     ]
    }
   ],
   "source": [
    "# Afficher les mots-clés extraits par TF-IDF\n",
    "keywords = vectorizer.get_feature_names_out()\n",
    "print(\"Mots-clés :\")\n",
    "print(keywords[:20])  # Afficher les 20 premiers mots-clés\n"
   ]
  },
  {
   "cell_type": "markdown",
   "id": "04326dee-d22e-4d31-99c9-214820652fe8",
   "metadata": {},
   "source": [
    "## réaliser un clustering K-Means sur tes données (ici des tweets transformés en matrice TF-IDF) et d'optimiser le nombre de clusters k en fonction de l'inertie## "
   ]
  },
  {
   "cell_type": "code",
   "execution_count": 41,
   "id": "a73d41bd-6863-4fec-a593-78a516af1280",
   "metadata": {},
   "outputs": [
    {
     "data": {
      "image/png": "[encoded data removed]",
      "text/plain": [
       "<Figure size 640x480 with 1 Axes>"
      ]
     },
     "metadata": {},
     "output_type": "display_data"
    },
    {
     "name": "stdout",
     "output_type": "stream",
     "text": [
      "                                       lemmatized_text  kmeans_cluster\n",
      "0    Great ruling wind farm Scotlandvery smart judg...               1\n",
      "1    MakeAmericaGreatAgain Trump2016 LIFE CHANGING ...               3\n",
      "2    ellenEspence Im convinced candidate realDonald...               3\n",
      "3    Dopey GeorgeWill big proponent Iraq War catast...               3\n",
      "4    election result France disappointing Europeans...               3\n",
      "..                                                 ...             ...\n",
      "495  happened Orlando beginning leadership weak ine...               3\n",
      "496  RafmyMillan Thanks realDonaldTrump tip entrepr...               0\n",
      "497  Trump National Doral featured GolfChannel morn...               3\n",
      "498  Democrats slam GOP healthcare proposal Obamaca...               3\n",
      "499  FFXFamilyFunMy boy 6 REALLY PassGoMonopoly get...               3\n",
      "\n",
      "[500 rows x 2 columns]\n"
     ]
    }
   ],
   "source": [
    "from sklearn.cluster import KMeans\n",
    "import matplotlib.pyplot as plt\n",
    "\n",
    "# Définir une gamme de valeurs de k à tester (par exemple 2 à 30)\n",
    "k_values = range(2, 31)\n",
    "inertia_values = []\n",
    "\n",
    "# Tester plusieurs valeurs de k et enregistrer l'inertie pour chaque k\n",
    "for k in k_values:\n",
    "    kmeans = KMeans(n_clusters=k, random_state=42)\n",
    "    kmeans.fit(X)  # X est la matrice TF-IDF\n",
    "    inertia_values.append(kmeans.inertia_)\n",
    "\n",
    "# Afficher l'évolution de l'inertie en fonction de k\n",
    "plt.plot(k_values, inertia_values, marker='o')\n",
    "plt.title('Évolution de l\\'inertie selon k')\n",
    "plt.xlabel('k (nombre de clusters)')\n",
    "plt.ylabel('Inertie')\n",
    "plt.show()\n",
    "\n",
    "# Choisir le meilleur k en fonction de l'inertie (par exemple, où l'inertie diminue moins fortement)\n",
    "best_k = 5 # Exemple, vous pouvez choisir k basé sur l'inertie\n",
    "\n",
    "# Appliquer K-Means avec le meilleur k\n",
    "kmeans = KMeans(n_clusters=best_k, random_state=42)\n",
    "kmeans.fit(X)\n",
    "\n",
    "# Ajouter les étiquettes de cluster à vos données\n",
    "df['kmeans_cluster'] = kmeans.labels_\n",
    "\n",
    "# Afficher les résultats des clusters\n",
    "print(df[['lemmatized_text', 'kmeans_cluster']])\n"
   ]
  },
  {
   "cell_type": "code",
   "execution_count": null,
   "id": "5bb86fce-10d1-4eba-b09f-22404145e4c7",
   "metadata": {},
   "outputs": [],
   "source": [
    "from sklearn.cluster import KMeans\n",
    "\n",
    "# Appliquer K-Means\n",
    "kmeans = KMeans(n_clusters=5, random_state=42)\n",
    "kmeans.fit(X)\n",
    "\n",
    "# Ajouter les clusters au dataset\n",
    "data[\"cluster\"] = kmeans.labels_\n",
    "for i in range(5):  # 5 clusters\n",
    "    print(f\"\\nCluster {i}:\")\n",
    "    print(data[data[\"cluster\"] == i][\"lemmatized_text\"].head(10))\n",
    "\n"
   ]
  },
  {
   "cell_type": "markdown",
   "id": "e531d1bb-2c3d-4d78-8311-0863b870b3db",
   "metadata": {},
   "source": [
    "## extraire et afficher les mots-clés les plus importants pour chaque cluster, après avoir appliqué l'algorithme K-Means ##"
   ]
  },
  {
   "cell_type": "code",
   "execution_count": 43,
   "id": "af772979-27be-487d-bb16-6fe17ba28a71",
   "metadata": {},
   "outputs": [
    {
     "name": "stdout",
     "output_type": "stream",
     "text": [
      "Cluster 0:\n",
      "['thanks', 'james', 'apprenticenbc', 'true', 'good', 'support', 'agree', 'club', 'realdonaldtrump', '2016']\n",
      "Cluster 1:\n",
      "['great', 'interview', 'thank', 'honor', 'congratulations', 'people', 'leader', 'good', 'case', 'foxandfriends']\n",
      "Cluster 2:\n",
      "['new', 'america', 'day', 'trump', 'job', 'make', 'today', 'big', 'york', 'coming']\n",
      "Cluster 3:\n",
      "['realdonaldtrump', 'trump', 'thank', 'president', 'like', 'people', 'love', 'good', 'donald', 'dont']\n",
      "Cluster 4:\n",
      "['best', 'realdonaldtrump', 'set', 'amazing', 'entrepreneurs', 'skill', 'talent', 'high', 'thing', 'time']\n"
     ]
    }
   ],
   "source": [
    "terms = vectorizer.get_feature_names_out()\n",
    "best_k = 5 # Exemple, vous pouvez choisir k basé sur l'inertie\n",
    "for i in range( best_k) :\n",
    "    print(f\"Cluster {i}:\")\n",
    "    cluster_center = kmeans.cluster_centers_[i]\n",
    "    sorted_terms_idx = cluster_center.argsort()[::-1]\n",
    "    top_terms = [terms[idx] for idx in sorted_terms_idx[:10]]\n",
    "    print(top_terms)\n"
   ]
  },
  {
   "cell_type": "markdown",
   "id": "2b4d44d3-17ca-43a3-a59a-bbb518e7ccb2",
   "metadata": {},
   "source": [
    "## réduire la dimensionnalité de la matrice de caractéristiques TF-IDF (ou toute autre matrice de vecteurs de texte) et à visualiser les données dans un espace bidimensionnel (2D) à l'aide de la méthode t-SNE  ##"
   ]
  },
  {
   "cell_type": "code",
   "execution_count": 47,
   "id": "0696cb1f-af02-4cc6-9a95-71c3da277cb0",
   "metadata": {},
   "outputs": [],
   "source": [
    "from sklearn.manifold import TSNE\n",
    "import matplotlib.pyplot as plt\n",
    "\n",
    "# Réduction de dimension avec t-SNE\n",
    "tsne = TSNE(n_components=2, random_state=42, perplexity=30, n_iter=300)\n",
    "X_2d = tsne.fit_transform(X.toarray())  # Convertir X (TF-IDF) en dense si ce n'est pas déjà fait\n",
    "\n",
    "# Ajouter les coordonnées 2D au DataFrame\n",
    "df['x'] = X_2d[:, 0]\n",
    "df['y'] = X_2d[:, 1]\n"
   ]
  },
  {
   "cell_type": "code",
   "execution_count": 49,
   "id": "dd339a45-7751-44d4-b621-fc6f892bf040",
   "metadata": {},
   "outputs": [
    {
     "data": {
      "image/png": "[encoded data removed]",
      "text/plain": [
       "<Figure size 1000x700 with 1 Axes>"
      ]
     },
     "metadata": {},
     "output_type": "display_data"
    }
   ],
   "source": [
    "# Tracer les points avec matplotlib\n",
    "plt.figure(figsize=(10, 7))\n",
    "for cluster in range(best_k):  # Parcourir chaque cluster\n",
    "    cluster_points = df[df['kmeans_cluster'] == cluster]\n",
    "    plt.scatter(cluster_points['x'], cluster_points['y'], label=f'Cluster {cluster}')\n",
    "\n",
    "plt.title('Visualisation des clusters K-Means')\n",
    "plt.xlabel('Dimension 1')\n",
    "plt.ylabel('Dimension 2')\n",
    "plt.legend()\n",
    "plt.show()\n"
   ]
  },
  {
   "cell_type": "code",
   "execution_count": 181,
   "id": "a356e0fc-eff0-4c32-a8f7-8ca3bcaf65f0",
   "metadata": {},
   "outputs": [
    {
     "data": {
      "application/vnd.plotly.v1+json": {
       "config": {
        "plotlyServerURL": "https://plot.ly"
       },
       "data": [
        {
         "hovertemplate": "x=%{x}<br>y=%{y}<br>kmeans_cluster=%{marker.color}<extra></extra>",
         "legendgroup": "",
         "marker": {
          "color": [
           1,
           3,
           3,
           3,
           3,
           3,
           3,
           3,
           3,
           4,
           3,
           3,
           3,
           3,
           3,
           3,
           1,
           3,
           3,
           3,
           3,
           4,
           2,
           4,
           3,
           3,
           3,
           2,
           1,
           3,
           4,
           3,
           3,
           3,
           3,
           2,
           3,
           1,
           3,
           3,
           3,
           3,
           3,
           3,
           3,
           2,
           3,
           2,
           3,
           3,
           3,
           2,
           3,
           3,
           2,
           3,
           1,
           1,
           3,
           3,
           3,
           3,
           3,
           2,
           3,
           3,
           1,
           2,
           1,
           2,
           3,
           3,
           2,
           3,
           3,
           4,
           3,
           0,
           3,
           3,
           3,
           2,
           3,
           3,
           3,
           3,
           3,
           3,
           4,
           2,
           3,
           1,
           3,
           3,
           3,
           3,
           3,
           3,
           3,
           3,
           3,
           3,
           3,
           3,
           3,
           3,
           3,
           1,
           3,
           3,
           3,
           3,
           3,
           3,
           3,
           3,
           3,
           3,
           4,
           4,
           3,
           3,
           3,
           3,
           1,
           3,
           3,
           2,
           3,
           3,
           3,
           3,
           3,
           3,
           3,
           1,
           2,
           3,
           3,
           3,
           3,
           3,
           3,
           3,
           3,
           3,
           3,
           3,
           3,
           3,
           3,
           3,
           3,
           3,
           3,
           1,
           2,
           3,
           4,
           3,
           1,
           3,
           3,
           3,
           3,
           3,
           3,
           3,
           3,
           0,
           3,
           3,
           3,
           3,
           3,
           3,
           2,
           2,
           3,
           3,
           4,
           3,
           3,
           3,
           3,
           0,
           3,
           0,
           1,
           3,
           3,
           3,
           4,
           3,
           3,
           3,
           3,
           4,
           0,
           3,
           1,
           3,
           3,
           3,
           2,
           3,
           3,
           3,
           3,
           3,
           3,
           4,
           3,
           3,
           3,
           3,
           0,
           3,
           1,
           3,
           3,
           4,
           3,
           3,
           3,
           1,
           3,
           3,
           2,
           3,
           2,
           3,
           2,
           3,
           2,
           3,
           3,
           3,
           3,
           1,
           3,
           2,
           3,
           2,
           2,
           3,
           3,
           0,
           3,
           3,
           3,
           3,
           4,
           3,
           3,
           4,
           3,
           3,
           3,
           1,
           3,
           2,
           3,
           2,
           4,
           1,
           3,
           1,
           2,
           1,
           3,
           3,
           4,
           0,
           4,
           2,
           3,
           3,
           3,
           3,
           3,
           2,
           3,
           3,
           3,
           3,
           3,
           3,
           3,
           3,
           0,
           3,
           1,
           1,
           3,
           1,
           3,
           1,
           2,
           1,
           3,
           3,
           3,
           3,
           1,
           2,
           3,
           3,
           3,
           3,
           3,
           3,
           3,
           3,
           3,
           1,
           3,
           3,
           3,
           0,
           1,
           1,
           2,
           4,
           2,
           3,
           3,
           3,
           3,
           3,
           3,
           3,
           3,
           0,
           3,
           0,
           3,
           4,
           3,
           3,
           3,
           4,
           3,
           3,
           3,
           3,
           3,
           3,
           3,
           3,
           3,
           1,
           3,
           1,
           1,
           3,
           3,
           3,
           3,
           1,
           0,
           3,
           3,
           3,
           3,
           3,
           2,
           3,
           4,
           3,
           1,
           2,
           3,
           1,
           3,
           3,
           0,
           3,
           3,
           3,
           3,
           2,
           3,
           3,
           3,
           2,
           0,
           3,
           3,
           3,
           3,
           1,
           3,
           1,
           3,
           3,
           3,
           3,
           3,
           3,
           3,
           3,
           3,
           3,
           3,
           3,
           3,
           3,
           1,
           1,
           3,
           2,
           3,
           4,
           3,
           0,
           3,
           3,
           1,
           3,
           3,
           3,
           3,
           3,
           3,
           3,
           3,
           3,
           3,
           3,
           3,
           3,
           3,
           3,
           3,
           3,
           3,
           3,
           1,
           3,
           3,
           3,
           3,
           2,
           3,
           3,
           3,
           3,
           3,
           3,
           3,
           3,
           3,
           3,
           3,
           3,
           3,
           1,
           3,
           4,
           3,
           3,
           4,
           3,
           3,
           3,
           3,
           2,
           3,
           4,
           4,
           3,
           3,
           1,
           3,
           3,
           3,
           3,
           3,
           3,
           3,
           3,
           1,
           4,
           3,
           2,
           3,
           3,
           3,
           3,
           3,
           3,
           3,
           3,
           3,
           3,
           0,
           3,
           3,
           3
          ],
          "coloraxis": "coloraxis",
          "symbol": "circle"
         },
         "mode": "markers",
         "name": "",
         "scene": "scene",
         "showlegend": false,
         "type": "scatter3d",
         "x": [
          -10.723982810974121,
          11.844029426574707,
          5.8069844245910645,
          17.31330680847168,
          8.059374809265137,
          -3.6810262203216553,
          14.341789245605469,
          17.14687156677246,
          -11.845352172851562,
          21.607404708862305,
          11.859792709350586,
          6.0039191246032715,
          -12.03382682800293,
          13.934806823730469,
          0.37092792987823486,
          -0.2617664039134979,
          -16.742921829223633,
          18.782155990600586,
          12.557843208312988,
          -3.2584047317504883,
          -2.699601173400879,
          -7.616203308105469,
          -4.004793643951416,
          -14.696386337280273,
          0.12529468536376953,
          2.477356195449829,
          5.242734909057617,
          5.7033891677856445,
          -13.434821128845215,
          -19.21622657775879,
          16.49099349975586,
          10.709364891052246,
          8.111143112182617,
          -8.552579879760742,
          -8.561406135559082,
          2.793154239654541,
          10.650489807128906,
          -23.73912811279297,
          6.01225471496582,
          5.985108375549316,
          -11.351990699768066,
          -4.12344217300415,
          1.964018702507019,
          -2.86026668548584,
          -10.380595207214355,
          7.156524658203125,
          -7.744838714599609,
          7.253109455108643,
          12.575713157653809,
          -7.587474346160889,
          0.7622835040092468,
          22.522735595703125,
          -12.619180679321289,
          0.7622835040092468,
          -7.335442543029785,
          -5.482299327850342,
          -8.068743705749512,
          0.214374378323555,
          -1.4896337985992432,
          -9.346051216125488,
          0.7179426550865173,
          -3.503051519393921,
          11.322364807128906,
          -1.1325163841247559,
          14.405559539794922,
          -5.835524559020996,
          -13.123566627502441,
          15.004778861999512,
          -1.321469783782959,
          12.431434631347656,
          9.142498016357422,
          8.090272903442383,
          9.827133178710938,
          3.717700481414795,
          -11.24678897857666,
          6.475178241729736,
          11.252069473266602,
          0.4947223663330078,
          -6.018725395202637,
          -4.129197120666504,
          5.2415995597839355,
          -9.84522819519043,
          -2.093183994293213,
          12.33645248413086,
          -12.387778282165527,
          10.055150032043457,
          9.128331184387207,
          4.880457878112793,
          -21.285974502563477,
          4.517449855804443,
          -0.45190104842185974,
          -15.451516151428223,
          11.469255447387695,
          13.375064849853516,
          8.339086532592773,
          -16.341535568237305,
          3.8348464965820312,
          -14.82642650604248,
          13.252243041992188,
          -8.477832794189453,
          0.6848481297492981,
          -0.9047764539718628,
          -8.794913291931152,
          11.999910354614258,
          1.8962069749832153,
          3.958050489425659,
          -10.750925064086914,
          -12.06216049194336,
          4.115851879119873,
          6.227722644805908,
          -0.7549499273300171,
          -10.888800621032715,
          16.909883499145508,
          10.199129104614258,
          -1.6273537874221802,
          -4.764000415802002,
          25.579345703125,
          -1.6402859687805176,
          9.539581298828125,
          -5.268808841705322,
          9.07470417022705,
          1.6294362545013428,
          10.570011138916016,
          20.74751091003418,
          -11.658185958862305,
          16.838699340820312,
          -14.592140197753906,
          -8.547049522399902,
          -12.541455268859863,
          1.522168517112732,
          14.738943099975586,
          -16.978307723999023,
          0.43128275871276855,
          2.096637725830078,
          16.31659698486328,
          -12.160200119018555,
          7.321803569793701,
          10.751011848449707,
          3.9238033294677734,
          12.593072891235352,
          17.229846954345703,
          21.690547943115234,
          -9.317377090454102,
          8.941431045532227,
          1.522168517112732,
          -3.9279019832611084,
          4.9083051681518555,
          2.97540283203125,
          -6.106502056121826,
          8.842179298400879,
          2.9613568782806396,
          3.5446159839630127,
          -3.900686502456665,
          -3.96836519241333,
          25.042678833007812,
          -19.191579818725586,
          3.5854358673095703,
          2.012385129928589,
          4.423895359039307,
          1.9135985374450684,
          -19.617908477783203,
          18.97464370727539,
          -18.8050537109375,
          18.31892204284668,
          -11.561421394348145,
          22.393115997314453,
          12.793874740600586,
          -1.3527010679244995,
          3.3124027252197266,
          -1.489789605140686,
          -17.512832641601562,
          -13.050919532775879,
          20.887771606445312,
          3.241117000579834,
          -3.263615369796753,
          -2.51503324508667,
          0.953157901763916,
          -11.710627555847168,
          -6.375668048858643,
          -18.27286148071289,
          -13.6969633102417,
          -7.056461334228516,
          10.056503295898438,
          9.637809753417969,
          3.8414807319641113,
          0.040565770119428635,
          1.522168517112732,
          0.040565770119428635,
          -17.83112144470215,
          6.339417934417725,
          3.044694185256958,
          -6.907535076141357,
          -5.311056613922119,
          18.006114959716797,
          9.046699523925781,
          7.724297046661377,
          -17.94657325744629,
          -10.441863059997559,
          -0.45531103014945984,
          -0.8094350099563599,
          -21.652667999267578,
          6.943822860717773,
          -3.300044298171997,
          7.52613639831543,
          -1.3865752220153809,
          -9.711990356445312,
          14.095012664794922,
          16.69234848022461,
          17.79619789123535,
          -0.3433765172958374,
          15.4170560836792,
          22.409639358520508,
          23.727998733520508,
          -16.55373764038086,
          -1.2474991083145142,
          -14.134425163269043,
          0.040565770119428635,
          -9.534534454345703,
          -23.274423599243164,
          15.727805137634277,
          16.113197326660156,
          -5.377342700958252,
          10.938730239868164,
          -5.3047308921813965,
          3.2571136951446533,
          -20.1722412109375,
          -7.955787181854248,
          -4.733565807342529,
          -7.342648029327393,
          4.7230000495910645,
          -9.228243827819824,
          -3.458411455154419,
          6.005954742431641,
          -0.22253283858299255,
          0.059410326182842255,
          -0.7105292081832886,
          -7.310466766357422,
          0.657344400882721,
          11.211264610290527,
          -12.627421379089355,
          -4.237534523010254,
          -7.802438735961914,
          -2.3928887844085693,
          -2.3663272857666016,
          -17.904767990112305,
          18.743473052978516,
          -2.8097076416015625,
          0.040565770119428635,
          24.09501838684082,
          -14.031160354614258,
          12.729608535766602,
          -3.3754336833953857,
          -6.4434075355529785,
          -2.372837543487549,
          21.14120864868164,
          -10.199098587036133,
          13.325981140136719,
          14.004414558410645,
          11.251849174499512,
          -3.9397523403167725,
          6.6355204582214355,
          6.582731246948242,
          -4.384462356567383,
          6.78654670715332,
          -7.591586112976074,
          1.2359851598739624,
          14.781892776489258,
          -16.982805252075195,
          19.047931671142578,
          -15.492713928222656,
          -10.705836296081543,
          -12.030563354492188,
          22.294235229492188,
          0.040565770119428635,
          4.977278709411621,
          -4.267537593841553,
          2.421502113342285,
          1.3109074831008911,
          -3.679748773574829,
          16.43787384033203,
          -14.767447471618652,
          3.475250720977783,
          12.710938453674316,
          7.085731506347656,
          20.065200805664062,
          -1.54524827003479,
          11.949278831481934,
          5.173381328582764,
          -23.066457748413086,
          5.105207920074463,
          -1.4324698448181152,
          8.207741737365723,
          -15.094775199890137,
          -13.755629539489746,
          -8.603622436523438,
          -20.961559295654297,
          1.6950784921646118,
          -21.997915267944336,
          12.246123313903809,
          -9.333131790161133,
          -7.252230167388916,
          10.73628044128418,
          -6.9978251457214355,
          2.2042236328125,
          -15.889628410339355,
          -23.01744270324707,
          0.9310833811759949,
          15.059210777282715,
          19.01245880126953,
          6.60372257232666,
          1.6319677829742432,
          18.22588348388672,
          8.993037223815918,
          -7.169591426849365,
          2.9980616569519043,
          -15.931329727172852,
          14.641860008239746,
          5.487074375152588,
          -10.705587387084961,
          2.302297353744507,
          -8.58212661743164,
          -16.031681060791016,
          -6.277652740478516,
          -11.543947219848633,
          -7.437341213226318,
          0.7622835040092468,
          -9.363105773925781,
          -14.05339241027832,
          1.1661746501922607,
          -13.92098617553711,
          10.905851364135742,
          2.5171988010406494,
          -19.700613021850586,
          0.040565770119428635,
          -3.2387630939483643,
          -5.713991641998291,
          10.170761108398438,
          -13.389044761657715,
          -9.058096885681152,
          7.594653606414795,
          -14.803869247436523,
          16.248537063598633,
          6.48732852935791,
          -0.8069316744804382,
          -9.214987754821777,
          9.783805847167969,
          -1.4902641773223877,
          -2.69779896736145,
          1.949759840965271,
          -5.4713454246521,
          -4.540060043334961,
          10.466763496398926,
          -15.882966995239258,
          -2.5946457386016846,
          4.253676414489746,
          -7.252230167388916,
          19.527870178222656,
          -6.664017677307129,
          -20.703996658325195,
          7.374732971191406,
          0.040565770119428635,
          -11.321946144104004,
          15.549782752990723,
          -3.8320188522338867,
          5.224381923675537,
          8.719937324523926,
          2.3377397060394287,
          -1.395998477935791,
          -14.190837860107422,
          19.92261505126953,
          -7.847696781158447,
          7.6262288093566895,
          24.17246437072754,
          -5.714532852172852,
          7.4126996994018555,
          17.818437576293945,
          0.040565770119428635,
          -5.446056842803955,
          -6.802929878234863,
          0.7622835040092468,
          16.445241928100586,
          8.466054916381836,
          -5.991698265075684,
          9.430805206298828,
          -17.732141494750977,
          -21.971771240234375,
          -2.5402889251708984,
          14.452391624450684,
          9.94205379486084,
          -16.96983528137207,
          -9.792146682739258,
          -13.755629539489746,
          -2.7111520767211914,
          -6.716386795043945,
          5.316103458404541,
          5.636622905731201,
          -17.138946533203125,
          0.7622835040092468,
          -1.2582906484603882,
          -2.2586333751678467,
          0.8738090991973877,
          11.734892845153809,
          -6.203250885009766,
          15.629565238952637,
          -9.292970657348633,
          -15.01235580444336,
          0.7622835040092468,
          4.997638702392578,
          -18.721420288085938,
          -13.755629539489746,
          6.412406921386719,
          14.105340003967285,
          0.16157682240009308,
          -10.156042098999023,
          18.50874137878418,
          0.040565770119428635,
          2.10725474357605,
          9.141005516052246,
          6.073249816894531,
          8.376909255981445,
          -1.6652370691299438,
          1.860175371170044,
          -14.010560035705566,
          4.011662006378174,
          -4.969919681549072,
          16.16801643371582,
          4.005771160125732,
          11.486222267150879,
          3.4959561824798584,
          13.367349624633789,
          11.75296401977539,
          4.171543598175049,
          19.238723754882812,
          11.682971000671387,
          6.901347637176514,
          6.691983699798584,
          0.7646142244338989,
          2.6524529457092285,
          -11.698320388793945,
          -11.782611846923828,
          -1.2896134853363037,
          -4.388131141662598,
          21.159862518310547,
          2.809464693069458,
          -5.686582565307617,
          0.654427170753479,
          7.448881149291992,
          -6.515932559967041,
          14.251814842224121,
          -16.82086181640625,
          1.4942104816436768,
          -5.78390645980835,
          -1.0108141899108887,
          0.7361314296722412,
          0.7622835040092468,
          -14.896428108215332,
          8.569734573364258,
          -15.926042556762695,
          -10.238425254821777,
          3.6160976886749268,
          -2.795832395553589,
          4.2075676918029785,
          -4.788684844970703,
          -3.574368715286255,
          -1.3659441471099854,
          -0.16212475299835205,
          -12.591660499572754,
          -20.494056701660156,
          14.73748779296875,
          -3.183807611465454,
          14.341239929199219,
          0.4479657709598541,
          17.74015998840332,
          -2.529573440551758,
          -12.178619384765625,
          -4.942327499389648,
          -7.567650318145752,
          -19.67005157470703,
          13.08324909210205,
          0.37445536255836487,
          4.766744136810303,
          -0.7875445485115051,
          -19.527429580688477,
          -5.976385593414307,
          21.384126663208008,
          8.562155723571777,
          -14.531054496765137,
          -5.783743858337402,
          -13.035223007202148,
          -0.09530705958604813,
          -0.06439772993326187,
          -8.771647453308105,
          9.9523286819458,
          3.1960527896881104,
          9.345881462097168,
          4.687891960144043,
          2.93947172164917,
          -9.071223258972168,
          -20.21057891845703,
          -9.80693244934082
         ],
         "y": [
          3.6701812744140625,
          4.260776042938232,
          10.691640853881836,
          2.9924092292785645,
          3.463456630706787,
          0.36802852153778076,
          1.059035062789917,
          -1.7572911977767944,
          -21.777833938598633,
          0.5477694272994995,
          -18.327869415283203,
          14.05199146270752,
          9.284489631652832,
          -4.858778476715088,
          -1.0757408142089844,
          0.23498207330703735,
          -2.7307939529418945,
          6.834991931915283,
          11.904382705688477,
          11.114514350891113,
          -14.835000038146973,
          1.6493823528289795,
          -8.341509819030762,
          -1.6528222560882568,
          4.256310939788818,
          -2.02303147315979,
          -14.5114164352417,
          -9.481179237365723,
          -0.09660182148218155,
          -9.628637313842773,
          4.6988677978515625,
          -9.640331268310547,
          -2.1708648204803467,
          3.506161689758301,
          18.918743133544922,
          -6.19697380065918,
          -16.31851577758789,
          0.51933354139328,
          6.555765867233276e-05,
          19.793766021728516,
          14.096492767333984,
          9.284392356872559,
          -0.3705235719680786,
          -6.060757160186768,
          8.968219757080078,
          -11.654029846191406,
          10.291568756103516,
          -6.060837268829346,
          6.107965469360352,
          11.540132522583008,
          -4.286282539367676,
          -9.46332836151123,
          -6.116642951965332,
          -4.286282539367676,
          -10.54262638092041,
          -10.578311920166016,
          -5.371777534484863,
          -3.79650616645813,
          -4.2949090003967285,
          4.908890247344971,
          -10.813396453857422,
          -24.23965072631836,
          -3.7001490592956543,
          -5.940834045410156,
          -11.735581398010254,
          -4.998075008392334,
          11.660981178283691,
          -7.38740348815918,
          -1.4863176345825195,
          -10.309173583984375,
          9.342902183532715,
          7.743056774139404,
          -14.203088760375977,
          2.351391315460205,
          -15.601004600524902,
          2.5691702365875244,
          2.292419195175171,
          21.201669692993164,
          12.047624588012695,
          -3.517725706100464,
          17.47620391845703,
          -0.8042062520980835,
          0.13896489143371582,
          -12.280800819396973,
          -10.22485637664795,
          13.751998901367188,
          -5.251250743865967,
          -3.608137845993042,
          -4.811248779296875,
          -7.575636863708496,
          11.878485679626465,
          -11.051353454589844,
          -5.800132751464844,
          -6.323050498962402,
          19.900760650634766,
          10.716875076293945,
          5.589144229888916,
          -9.118858337402344,
          -1.228897213935852,
          0.3531857430934906,
          -8.929352760314941,
          1.6149413585662842,
          23.523624420166016,
          16.401500701904297,
          11.881270408630371,
          7.681361198425293,
          -2.324723482131958,
          1.9269599914550781,
          -5.134171962738037,
          -25.066757202148438,
          8.008752822875977,
          -6.322967052459717,
          -6.864142894744873,
          0.7886826395988464,
          12.492199897766113,
          17.242412567138672,
          -3.2630834579467773,
          10.347326278686523,
          -3.6847002506256104,
          3.4356977939605713,
          -8.8086519241333,
          -23.326927185058594,
          5.204716682434082,
          -1.6635117530822754,
          5.916079998016357,
          18.587167739868164,
          9.835647583007812,
          -14.378073692321777,
          22.276174545288086,
          12.454134941101074,
          -9.302652359008789,
          -4.854720115661621,
          -28.68840789794922,
          -13.773639678955078,
          -13.737186431884766,
          4.255319595336914,
          1.1719237565994263,
          23.735790252685547,
          -23.683149337768555,
          -3.4912707805633545,
          -4.283507347106934,
          4.838372230529785,
          -17.15613555908203,
          -17.865070343017578,
          12.454134941101074,
          -11.432190895080566,
          -17.195819854736328,
          -11.365887641906738,
          15.597086906433105,
          1.8561168909072876,
          4.120761871337891,
          10.430074691772461,
          -4.942013740539551,
          9.49657917022705,
          2.3924648761749268,
          -3.888092041015625,
          -16.197919845581055,
          7.351521968841553,
          -21.04707145690918,
          4.366372585296631,
          2.0878379344940186,
          -5.678012847900391,
          -6.903070449829102,
          -15.0264310836792,
          -11.891615867614746,
          12.38995361328125,
          0.27210432291030884,
          16.000720977783203,
          12.740690231323242,
          18.980270385742188,
          0.1351647675037384,
          -5.041323661804199,
          10.314882278442383,
          0.39304882287979126,
          -9.916616439819336,
          2.188544988632202,
          -2.372091770172119,
          -4.491772174835205,
          -24.81182861328125,
          16.946687698364258,
          5.663959980010986,
          20.220766067504883,
          9.423274993896484,
          16.714017868041992,
          13.083131790161133,
          22.63629722595215,
          12.454134941101074,
          22.63629722595215,
          14.130510330200195,
          -4.392941474914551,
          17.543947219848633,
          3.7325806617736816,
          5.236713409423828,
          0.5849151611328125,
          -0.3359915614128113,
          -3.8009612560272217,
          8.539789199829102,
          -8.489439964294434,
          24.730772018432617,
          -15.06563949584961,
          -7.593225479125977,
          -22.12138557434082,
          5.934353351593018,
          17.745805740356445,
          -13.656116485595703,
          20.763343811035156,
          7.37052583694458,
          14.762617111206055,
          -8.906441688537598,
          -7.4362359046936035,
          -16.03125762939453,
          2.5336556434631348,
          -6.398272514343262,
          -7.066378116607666,
          -11.350140571594238,
          -18.975046157836914,
          22.63629722595215,
          -10.026803970336914,
          -2.8512604236602783,
          12.332971572875977,
          8.50769329071045,
          -2.8818840980529785,
          18.887950897216797,
          -16.195589065551758,
          25.065227508544922,
          0.06387682259082794,
          -2.249856948852539,
          12.514908790588379,
          -0.885540246963501,
          9.25846004486084,
          -11.772717475891113,
          19.196613311767578,
          -7.800611972808838,
          17.738685607910156,
          -12.825237274169922,
          6.255020618438721,
          6.675085067749023,
          -5.434359550476074,
          -0.6659408211708069,
          -13.780320167541504,
          1.9145532846450806,
          -8.41451644897461,
          8.716388702392578,
          -7.639998435974121,
          6.188717842102051,
          9.415761947631836,
          -2.4218802452087402,
          22.63629722595215,
          6.927475929260254,
          -15.860738754272461,
          -8.33102035522461,
          12.377079010009766,
          -17.618331909179688,
          -18.1785945892334,
          -5.76924991607666,
          -13.518430709838867,
          19.920610427856445,
          -13.881399154663086,
          7.78507137298584,
          4.189886093139648,
          4.372437000274658,
          -13.33668327331543,
          14.68852424621582,
          -15.747040748596191,
          -16.12801170349121,
          -13.756135940551758,
          -18.595439910888672,
          -13.224830627441406,
          4.61342191696167,
          16.356229782104492,
          16.74323081970215,
          7.90871524810791,
          -3.3609745502471924,
          22.63629722595215,
          3.1515016555786133,
          -14.088777542114258,
          -17.470142364501953,
          18.50821876525879,
          21.50821304321289,
          9.600630760192871,
          10.391950607299805,
          -14.631669998168945,
          -15.932182312011719,
          -19.81410026550293,
          -8.338623046875,
          4.721596717834473,
          14.14778995513916,
          6.6301727294921875,
          7.919031143188477,
          -18.998653411865234,
          21.058589935302734,
          5.368823528289795,
          1.2215900421142578,
          2.6963863372802734,
          6.949402332305908,
          -1.9893091917037964,
          -12.397224426269531,
          1.0678086280822754,
          1.9838297367095947,
          1.8755614757537842,
          22.00188446044922,
          11.398725509643555,
          5.265141487121582,
          5.888084411621094,
          12.85799503326416,
          4.575958251953125,
          1.4948853254318237,
          3.2909390926361084,
          -2.9677011966705322,
          6.991576194763184,
          14.604598999023438,
          15.118721961975098,
          11.594879150390625,
          -3.6513869762420654,
          -8.273221969604492,
          7.368546962738037,
          -2.534937858581543,
          -6.013134956359863,
          16.74297332763672,
          21.693510055541992,
          8.69204044342041,
          -0.5693590044975281,
          -14.441115379333496,
          19.06348419189453,
          -12.534607887268066,
          -4.286282539367676,
          12.703936576843262,
          -7.358769416809082,
          3.233886480331421,
          7.729238033294678,
          -7.658336639404297,
          -19.329654693603516,
          10.756178855895996,
          22.63629722595215,
          16.212459564208984,
          22.41952896118164,
          -2.0837113857269287,
          -2.5975100994110107,
          -21.755800247192383,
          12.691193580627441,
          -3.89111328125,
          1.5308457612991333,
          8.68956184387207,
          -23.135282516479492,
          -19.261388778686523,
          3.418383836746216,
          -16.70368766784668,
          -20.468706130981445,
          -4.36976957321167,
          -12.493825912475586,
          25.62994384765625,
          -12.299728393554688,
          5.657279968261719,
          -12.43305778503418,
          -12.844911575317383,
          22.00188446044922,
          2.6772494316101074,
          8.585441589355469,
          8.527013778686523,
          -0.8419293761253357,
          22.63629722595215,
          12.123467445373535,
          -0.5561051964759827,
          -1.2297927141189575,
          -11.308161735534668,
          -23.217710494995117,
          2.112010955810547,
          -3.1205244064331055,
          5.0962018966674805,
          -11.243874549865723,
          14.27743148803711,
          -7.787357330322266,
          -0.5743463039398193,
          10.290983200073242,
          -9.83090591430664,
          -12.097429275512695,
          22.63629722595215,
          7.8601789474487305,
          -21.945419311523438,
          -4.286282539367676,
          6.521083354949951,
          -13.066638946533203,
          2.0274994373321533,
          -6.766052722930908,
          2.385547161102295,
          4.021737098693848,
          24.043115615844727,
          17.017749786376953,
          6.794272422790527,
          -9.285801887512207,
          10.748011589050293,
          2.6963863372802734,
          3.7407476902008057,
          -6.374255657196045,
          4.898675918579102,
          12.300347328186035,
          4.418116569519043,
          -4.286282539367676,
          15.889396667480469,
          -26.61476707458496,
          8.365740776062012,
          -14.36270523071289,
          13.618951797485352,
          -4.320601940155029,
          -3.366781234741211,
          -5.759585857391357,
          -4.286282539367676,
          1.2120752334594727,
          -1.5965851545333862,
          2.6963863372802734,
          22.901050567626953,
          14.170367240905762,
          -21.305999755859375,
          6.736433506011963,
          12.040124893188477,
          22.63629722595215,
          -9.755404472351074,
          -10.977232933044434,
          -2.400851249694824,
          5.497840404510498,
          6.447188377380371,
          10.75893783569336,
          13.843165397644043,
          -1.7914304733276367,
          6.6948041915893555,
          -10.654659271240234,
          -9.935044288635254,
          -23.417972564697266,
          -26.41193389892578,
          3.3730287551879883,
          -20.674375534057617,
          14.800968170166016,
          0.225663959980011,
          9.45959758758545,
          -17.027904510498047,
          15.892146110534668,
          15.818166732788086,
          8.83094310760498,
          -0.21855475008487701,
          -18.323917388916016,
          -9.661286354064941,
          -18.74736976623535,
          7.495249271392822,
          -21.273380279541016,
          -1.2324442863464355,
          -17.4439697265625,
          10.371615409851074,
          -19.424779891967773,
          5.268527984619141,
          -16.433578491210938,
          -7.1878156661987305,
          0.4254498779773712,
          -19.6870174407959,
          10.995438575744629,
          -4.286282539367676,
          19.516401290893555,
          14.829071998596191,
          2.9437713623046875,
          1.3927476406097412,
          16.132583618164062,
          -22.916851043701172,
          22.72488021850586,
          -21.05677032470703,
          -16.465139389038086,
          -8.494915962219238,
          13.917232513427734,
          -8.414546966552734,
          13.10975170135498,
          -21.31256866455078,
          7.414273738861084,
          10.544620513916016,
          6.080443859100342,
          -17.940078735351562,
          14.025728225708008,
          -2.8592286109924316,
          -6.8753252029418945,
          16.797250747680664,
          4.638980388641357,
          9.1480131149292,
          -18.514249801635742,
          20.394826889038086,
          3.0399680137634277,
          -12.21739673614502,
          18.541120529174805,
          -13.77087116241455,
          -15.461995124816895,
          -12.799980163574219,
          -8.717121124267578,
          16.077693939208984,
          9.440988540649414,
          -24.96111297607422,
          15.142887115478516,
          21.354524612426758,
          -3.5203347206115723,
          -20.192895889282227,
          -0.6530062556266785,
          19.545509338378906,
          -6.992753982543945,
          5.794079780578613,
          -4.842387676239014
         ],
         "z": [
          1,
          3,
          3,
          3,
          3,
          3,
          3,
          3,
          3,
          4,
          3,
          3,
          3,
          3,
          3,
          3,
          1,
          3,
          3,
          3,
          3,
          4,
          2,
          4,
          3,
          3,
          3,
          2,
          1,
          3,
          4,
          3,
          3,
          3,
          3,
          2,
          3,
          1,
          3,
          3,
          3,
          3,
          3,
          3,
          3,
          2,
          3,
          2,
          3,
          3,
          3,
          2,
          3,
          3,
          2,
          3,
          1,
          1,
          3,
          3,
          3,
          3,
          3,
          2,
          3,
          3,
          1,
          2,
          1,
          2,
          3,
          3,
          2,
          3,
          3,
          4,
          3,
          0,
          3,
          3,
          3,
          2,
          3,
          3,
          3,
          3,
          3,
          3,
          4,
          2,
          3,
          1,
          3,
          3,
          3,
          3,
          3,
          3,
          3,
          3,
          3,
          3,
          3,
          3,
          3,
          3,
          3,
          1,
          3,
          3,
          3,
          3,
          3,
          3,
          3,
          3,
          3,
          3,
          4,
          4,
          3,
          3,
          3,
          3,
          1,
          3,
          3,
          2,
          3,
          3,
          3,
          3,
          3,
          3,
          3,
          1,
          2,
          3,
          3,
          3,
          3,
          3,
          3,
          3,
          3,
          3,
          3,
          3,
          3,
          3,
          3,
          3,
          3,
          3,
          3,
          1,
          2,
          3,
          4,
          3,
          1,
          3,
          3,
          3,
          3,
          3,
          3,
          3,
          3,
          0,
          3,
          3,
          3,
          3,
          3,
          3,
          2,
          2,
          3,
          3,
          4,
          3,
          3,
          3,
          3,
          0,
          3,
          0,
          1,
          3,
          3,
          3,
          4,
          3,
          3,
          3,
          3,
          4,
          0,
          3,
          1,
          3,
          3,
          3,
          2,
          3,
          3,
          3,
          3,
          3,
          3,
          4,
          3,
          3,
          3,
          3,
          0,
          3,
          1,
          3,
          3,
          4,
          3,
          3,
          3,
          1,
          3,
          3,
          2,
          3,
          2,
          3,
          2,
          3,
          2,
          3,
          3,
          3,
          3,
          1,
          3,
          2,
          3,
          2,
          2,
          3,
          3,
          0,
          3,
          3,
          3,
          3,
          4,
          3,
          3,
          4,
          3,
          3,
          3,
          1,
          3,
          2,
          3,
          2,
          4,
          1,
          3,
          1,
          2,
          1,
          3,
          3,
          4,
          0,
          4,
          2,
          3,
          3,
          3,
          3,
          3,
          2,
          3,
          3,
          3,
          3,
          3,
          3,
          3,
          3,
          0,
          3,
          1,
          1,
          3,
          1,
          3,
          1,
          2,
          1,
          3,
          3,
          3,
          3,
          1,
          2,
          3,
          3,
          3,
          3,
          3,
          3,
          3,
          3,
          3,
          1,
          3,
          3,
          3,
          0,
          1,
          1,
          2,
          4,
          2,
          3,
          3,
          3,
          3,
          3,
          3,
          3,
          3,
          0,
          3,
          0,
          3,
          4,
          3,
          3,
          3,
          4,
          3,
          3,
          3,
          3,
          3,
          3,
          3,
          3,
          3,
          1,
          3,
          1,
          1,
          3,
          3,
          3,
          3,
          1,
          0,
          3,
          3,
          3,
          3,
          3,
          2,
          3,
          4,
          3,
          1,
          2,
          3,
          1,
          3,
          3,
          0,
          3,
          3,
          3,
          3,
          2,
          3,
          3,
          3,
          2,
          0,
          3,
          3,
          3,
          3,
          1,
          3,
          1,
          3,
          3,
          3,
          3,
          3,
          3,
          3,
          3,
          3,
          3,
          3,
          3,
          3,
          3,
          1,
          1,
          3,
          2,
          3,
          4,
          3,
          0,
          3,
          3,
          1,
          3,
          3,
          3,
          3,
          3,
          3,
          3,
          3,
          3,
          3,
          3,
          3,
          3,
          3,
          3,
          3,
          3,
          3,
          3,
          1,
          3,
          3,
          3,
          3,
          2,
          3,
          3,
          3,
          3,
          3,
          3,
          3,
          3,
          3,
          3,
          3,
          3,
          3,
          1,
          3,
          4,
          3,
          3,
          4,
          3,
          3,
          3,
          3,
          2,
          3,
          4,
          4,
          3,
          3,
          1,
          3,
          3,
          3,
          3,
          3,
          3,
          3,
          3,
          1,
          4,
          3,
          2,
          3,
          3,
          3,
          3,
          3,
          3,
          3,
          3,
          3,
          3,
          0,
          3,
          3,
          3
         ]
        }
       ],
       "layout": {
        "autosize": true,
        "coloraxis": {
         "colorbar": {
          "title": {
           "text": "kmeans_cluster"
          }
         },
         "colorscale": [
          [
           0,
           "#0d0887"
          ],
          [
           0.1111111111111111,
           "#46039f"
          ],
          [
           0.2222222222222222,
           "#7201a8"
          ],
          [
           0.3333333333333333,
           "#9c179e"
          ],
          [
           0.4444444444444444,
           "#bd3786"
          ],
          [
           0.5555555555555556,
           "#d8576b"
          ],
          [
           0.6666666666666666,
           "#ed7953"
          ],
          [
           0.7777777777777778,
           "#fb9f3a"
          ],
          [
           0.8888888888888888,
           "#fdca26"
          ],
          [
           1,
           "#f0f921"
          ]
         ]
        },
        "legend": {
         "tracegroupgap": 0
        },
        "scene": {
         "aspectmode": "auto",
         "aspectratio": {
          "x": 1,
          "y": 1,
          "z": 1
         },
         "camera": {
          "center": {
           "x": 0,
           "y": 0,
           "z": 0
          },
          "eye": {
           "x": -0.7486043480259004,
           "y": -0.8964018224021483,
           "z": 0.074176734043542
          },
          "projection": {
           "type": "perspective"
          },
          "up": {
           "x": 0,
           "y": 0,
           "z": 1
          }
         },
         "domain": {
          "x": [
           0,
           1
          ],
          "y": [
           0,
           1
          ]
         },
         "xaxis": {
          "title": {
           "text": "x"
          },
          "type": "linear"
         },
         "yaxis": {
          "title": {
           "text": "y"
          },
          "type": "linear"
         },
         "zaxis": {
          "title": {
           "text": "kmeans_cluster"
          },
          "type": "linear"
         }
        },
        "template": {
         "data": {
          "bar": [
           {
            "error_x": {
             "color": "#2a3f5f"
            },
            "error_y": {
             "color": "#2a3f5f"
            },
            "marker": {
             "line": {
              "color": "#E5ECF6",
              "width": 0.5
             },
             "pattern": {
              "fillmode": "overlay",
              "size": 10,
              "solidity": 0.2
             }
            },
            "type": "bar"
           }
          ],
          "barpolar": [
           {
            "marker": {
             "line": {
              "color": "#E5ECF6",
              "width": 0.5
             },
             "pattern": {
              "fillmode": "overlay",
              "size": 10,
              "solidity": 0.2
             }
            },
            "type": "barpolar"
           }
          ],
          "carpet": [
           {
            "aaxis": {
             "endlinecolor": "#2a3f5f",
             "gridcolor": "white",
             "linecolor": "white",
             "minorgridcolor": "white",
             "startlinecolor": "#2a3f5f"
            },
            "baxis": {
             "endlinecolor": "#2a3f5f",
             "gridcolor": "white",
             "linecolor": "white",
             "minorgridcolor": "white",
             "startlinecolor": "#2a3f5f"
            },
            "type": "carpet"
           }
          ],
          "choropleth": [
           {
            "colorbar": {
             "outlinewidth": 0,
             "ticks": ""
            },
            "type": "choropleth"
           }
          ],
          "contour": [
           {
            "colorbar": {
             "outlinewidth": 0,
             "ticks": ""
            },
            "colorscale": [
             [
              0,
              "#0d0887"
             ],
             [
              0.1111111111111111,
              "#46039f"
             ],
             [
              0.2222222222222222,
              "#7201a8"
             ],
             [
              0.3333333333333333,
              "#9c179e"
             ],
             [
              0.4444444444444444,
              "#bd3786"
             ],
             [
              0.5555555555555556,
              "#d8576b"
             ],
             [
              0.6666666666666666,
              "#ed7953"
             ],
             [
              0.7777777777777778,
              "#fb9f3a"
             ],
             [
              0.8888888888888888,
              "#fdca26"
             ],
             [
              1,
              "#f0f921"
             ]
            ],
            "type": "contour"
           }
          ],
          "contourcarpet": [
           {
            "colorbar": {
             "outlinewidth": 0,
             "ticks": ""
            },
            "type": "contourcarpet"
           }
          ],
          "heatmap": [
           {
            "colorbar": {
             "outlinewidth": 0,
             "ticks": ""
            },
            "colorscale": [
             [
              0,
              "#0d0887"
             ],
             [
              0.1111111111111111,
              "#46039f"
             ],
             [
              0.2222222222222222,
              "#7201a8"
             ],
             [
              0.3333333333333333,
              "#9c179e"
             ],
             [
              0.4444444444444444,
              "#bd3786"
             ],
             [
              0.5555555555555556,
              "#d8576b"
             ],
             [
              0.6666666666666666,
              "#ed7953"
             ],
             [
              0.7777777777777778,
              "#fb9f3a"
             ],
             [
              0.8888888888888888,
              "#fdca26"
             ],
             [
              1,
              "#f0f921"
             ]
            ],
            "type": "heatmap"
           }
          ],
          "heatmapgl": [
           {
            "colorbar": {
             "outlinewidth": 0,
             "ticks": ""
            },
            "colorscale": [
             [
              0,
              "#0d0887"
             ],
             [
              0.1111111111111111,
              "#46039f"
             ],
             [
              0.2222222222222222,
              "#7201a8"
             ],
             [
              0.3333333333333333,
              "#9c179e"
             ],
             [
              0.4444444444444444,
              "#bd3786"
             ],
             [
              0.5555555555555556,
              "#d8576b"
             ],
             [
              0.6666666666666666,
              "#ed7953"
             ],
             [
              0.7777777777777778,
              "#fb9f3a"
             ],
             [
              0.8888888888888888,
              "#fdca26"
             ],
             [
              1,
              "#f0f921"
             ]
            ],
            "type": "heatmapgl"
           }
          ],
          "histogram": [
           {
            "marker": {
             "pattern": {
              "fillmode": "overlay",
              "size": 10,
              "solidity": 0.2
             }
            },
            "type": "histogram"
           }
          ],
          "histogram2d": [
           {
            "colorbar": {
             "outlinewidth": 0,
             "ticks": ""
            },
            "colorscale": [
             [
              0,
              "#0d0887"
             ],
             [
              0.1111111111111111,
              "#46039f"
             ],
             [
              0.2222222222222222,
              "#7201a8"
             ],
             [
              0.3333333333333333,
              "#9c179e"
             ],
             [
              0.4444444444444444,
              "#bd3786"
             ],
             [
              0.5555555555555556,
              "#d8576b"
             ],
             [
              0.6666666666666666,
              "#ed7953"
             ],
             [
              0.7777777777777778,
              "#fb9f3a"
             ],
             [
              0.8888888888888888,
              "#fdca26"
             ],
             [
              1,
              "#f0f921"
             ]
            ],
            "type": "histogram2d"
           }
          ],
          "histogram2dcontour": [
           {
            "colorbar": {
             "outlinewidth": 0,
             "ticks": ""
            },
            "colorscale": [
             [
              0,
              "#0d0887"
             ],
             [
              0.1111111111111111,
              "#46039f"
             ],
             [
              0.2222222222222222,
              "#7201a8"
             ],
             [
              0.3333333333333333,
              "#9c179e"
             ],
             [
              0.4444444444444444,
              "#bd3786"
             ],
             [
              0.5555555555555556,
              "#d8576b"
             ],
             [
              0.6666666666666666,
              "#ed7953"
             ],
             [
              0.7777777777777778,
              "#fb9f3a"
             ],
             [
              0.8888888888888888,
              "#fdca26"
             ],
             [
              1,
              "#f0f921"
             ]
            ],
            "type": "histogram2dcontour"
           }
          ],
          "mesh3d": [
           {
            "colorbar": {
             "outlinewidth": 0,
             "ticks": ""
            },
            "type": "mesh3d"
           }
          ],
          "parcoords": [
           {
            "line": {
             "colorbar": {
              "outlinewidth": 0,
              "ticks": ""
             }
            },
            "type": "parcoords"
           }
          ],
          "pie": [
           {
            "automargin": true,
            "type": "pie"
           }
          ],
          "scatter": [
           {
            "fillpattern": {
             "fillmode": "overlay",
             "size": 10,
             "solidity": 0.2
            },
            "type": "scatter"
           }
          ],
          "scatter3d": [
           {
            "line": {
             "colorbar": {
              "outlinewidth": 0,
              "ticks": ""
             }
            },
            "marker": {
             "colorbar": {
              "outlinewidth": 0,
              "ticks": ""
             }
            },
            "type": "scatter3d"
           }
          ],
          "scattercarpet": [
           {
            "marker": {
             "colorbar": {
              "outlinewidth": 0,
              "ticks": ""
             }
            },
            "type": "scattercarpet"
           }
          ],
          "scattergeo": [
           {
            "marker": {
             "colorbar": {
              "outlinewidth": 0,
              "ticks": ""
             }
            },
            "type": "scattergeo"
           }
          ],
          "scattergl": [
           {
            "marker": {
             "colorbar": {
              "outlinewidth": 0,
              "ticks": ""
             }
            },
            "type": "scattergl"
           }
          ],
          "scattermapbox": [
           {
            "marker": {
             "colorbar": {
              "outlinewidth": 0,
              "ticks": ""
             }
            },
            "type": "scattermapbox"
           }
          ],
          "scatterpolar": [
           {
            "marker": {
             "colorbar": {
              "outlinewidth": 0,
              "ticks": ""
             }
            },
            "type": "scatterpolar"
           }
          ],
          "scatterpolargl": [
           {
            "marker": {
             "colorbar": {
              "outlinewidth": 0,
              "ticks": ""
             }
            },
            "type": "scatterpolargl"
           }
          ],
          "scatterternary": [
           {
            "marker": {
             "colorbar": {
              "outlinewidth": 0,
              "ticks": ""
             }
            },
            "type": "scatterternary"
           }
          ],
          "surface": [
           {
            "colorbar": {
             "outlinewidth": 0,
             "ticks": ""
            },
            "colorscale": [
             [
              0,
              "#0d0887"
             ],
             [
              0.1111111111111111,
              "#46039f"
             ],
             [
              0.2222222222222222,
              "#7201a8"
             ],
             [
              0.3333333333333333,
              "#9c179e"
             ],
             [
              0.4444444444444444,
              "#bd3786"
             ],
             [
              0.5555555555555556,
              "#d8576b"
             ],
             [
              0.6666666666666666,
              "#ed7953"
             ],
             [
              0.7777777777777778,
              "#fb9f3a"
             ],
             [
              0.8888888888888888,
              "#fdca26"
             ],
             [
              1,
              "#f0f921"
             ]
            ],
            "type": "surface"
           }
          ],
          "table": [
           {
            "cells": {
             "fill": {
              "color": "#EBF0F8"
             },
             "line": {
              "color": "white"
             }
            },
            "header": {
             "fill": {
              "color": "#C8D4E3"
             },
             "line": {
              "color": "white"
             }
            },
            "type": "table"
           }
          ]
         },
         "layout": {
          "annotationdefaults": {
           "arrowcolor": "#2a3f5f",
           "arrowhead": 0,
           "arrowwidth": 1
          },
          "autotypenumbers": "strict",
          "coloraxis": {
           "colorbar": {
            "outlinewidth": 0,
            "ticks": ""
           }
          },
          "colorscale": {
           "diverging": [
            [
             0,
             "#8e0152"
            ],
            [
             0.1,
             "#c51b7d"
            ],
            [
             0.2,
             "#de77ae"
            ],
            [
             0.3,
             "#f1b6da"
            ],
            [
             0.4,
             "#fde0ef"
            ],
            [
             0.5,
             "#f7f7f7"
            ],
            [
             0.6,
             "#e6f5d0"
            ],
            [
             0.7,
             "#b8e186"
            ],
            [
             0.8,
             "#7fbc41"
            ],
            [
             0.9,
             "#4d9221"
            ],
            [
             1,
             "#276419"
            ]
           ],
           "sequential": [
            [
             0,
             "#0d0887"
            ],
            [
             0.1111111111111111,
             "#46039f"
            ],
            [
             0.2222222222222222,
             "#7201a8"
            ],
            [
             0.3333333333333333,
             "#9c179e"
            ],
            [
             0.4444444444444444,
             "#bd3786"
            ],
            [
             0.5555555555555556,
             "#d8576b"
            ],
            [
             0.6666666666666666,
             "#ed7953"
            ],
            [
             0.7777777777777778,
             "#fb9f3a"
            ],
            [
             0.8888888888888888,
             "#fdca26"
            ],
            [
             1,
             "#f0f921"
            ]
           ],
           "sequentialminus": [
            [
             0,
             "#0d0887"
            ],
            [
             0.1111111111111111,
             "#46039f"
            ],
            [
             0.2222222222222222,
             "#7201a8"
            ],
            [
             0.3333333333333333,
             "#9c179e"
            ],
            [
             0.4444444444444444,
             "#bd3786"
            ],
            [
             0.5555555555555556,
             "#d8576b"
            ],
            [
             0.6666666666666666,
             "#ed7953"
            ],
            [
             0.7777777777777778,
             "#fb9f3a"
            ],
            [
             0.8888888888888888,
             "#fdca26"
            ],
            [
             1,
             "#f0f921"
            ]
           ]
          },
          "colorway": [
           "#636efa",
           "#EF553B",
           "#00cc96",
           "#ab63fa",
           "#FFA15A",
           "#19d3f3",
           "#FF6692",
           "#B6E880",
           "#FF97FF",
           "#FECB52"
          ],
          "font": {
           "color": "#2a3f5f"
          },
          "geo": {
           "bgcolor": "white",
           "lakecolor": "white",
           "landcolor": "#E5ECF6",
           "showlakes": true,
           "showland": true,
           "subunitcolor": "white"
          },
          "hoverlabel": {
           "align": "left"
          },
          "hovermode": "closest",
          "mapbox": {
           "style": "light"
          },
          "paper_bgcolor": "white",
          "plot_bgcolor": "#E5ECF6",
          "polar": {
           "angularaxis": {
            "gridcolor": "white",
            "linecolor": "white",
            "ticks": ""
           },
           "bgcolor": "#E5ECF6",
           "radialaxis": {
            "gridcolor": "white",
            "linecolor": "white",
            "ticks": ""
           }
          },
          "scene": {
           "xaxis": {
            "backgroundcolor": "#E5ECF6",
            "gridcolor": "white",
            "gridwidth": 2,
            "linecolor": "white",
            "showbackground": true,
            "ticks": "",
            "zerolinecolor": "white"
           },
           "yaxis": {
            "backgroundcolor": "#E5ECF6",
            "gridcolor": "white",
            "gridwidth": 2,
            "linecolor": "white",
            "showbackground": true,
            "ticks": "",
            "zerolinecolor": "white"
           },
           "zaxis": {
            "backgroundcolor": "#E5ECF6",
            "gridcolor": "white",
            "gridwidth": 2,
            "linecolor": "white",
            "showbackground": true,
            "ticks": "",
            "zerolinecolor": "white"
           }
          },
          "shapedefaults": {
           "line": {
            "color": "#2a3f5f"
           }
          },
          "ternary": {
           "aaxis": {
            "gridcolor": "white",
            "linecolor": "white",
            "ticks": ""
           },
           "baxis": {
            "gridcolor": "white",
            "linecolor": "white",
            "ticks": ""
           },
           "bgcolor": "#E5ECF6",
           "caxis": {
            "gridcolor": "white",
            "linecolor": "white",
            "ticks": ""
           }
          },
          "title": {
           "x": 0.05
          },
          "xaxis": {
           "automargin": true,
           "gridcolor": "white",
           "linecolor": "white",
           "ticks": "",
           "title": {
            "standoff": 15
           },
           "zerolinecolor": "white",
           "zerolinewidth": 2
          },
          "yaxis": {
           "automargin": true,
           "gridcolor": "white",
           "linecolor": "white",
           "ticks": "",
           "title": {
            "standoff": 15
           },
           "zerolinecolor": "white",
           "zerolinewidth": 2
          }
         }
        },
        "title": {
         "text": "Clusters en 3D"
        }
       }
      },
      "image/png": "[encoded data removed]",
      "text/html": [
       "<div>                            <div id=\"552c7325-1879-4dce-bbe1-f9103bf49033\" class=\"plotly-graph-div\" style=\"height:525px; width:100%;\"></div>            <script type=\"text/javascript\">                require([\"plotly\"], function(Plotly) {                    window.PLOTLYENV=window.PLOTLYENV || {};                                    if (document.getElementById(\"552c7325-1879-4dce-bbe1-f9103bf49033\")) {                    Plotly.newPlot(                        \"552c7325-1879-4dce-bbe1-f9103bf49033\",                        [{\"hovertemplate\":\"x=%{x}\\u003cbr\\u003ey=%{y}\\u003cbr\\u003ekmeans_cluster=%{marker.color}\\u003cextra\\u003e\\u003c\\u002fextra\\u003e\",\"legendgroup\":\"\",\"marker\":{\"color\":[1,3,3,3,3,3,3,3,3,4,3,3,3,3,3,3,1,3,3,3,3,4,2,4,3,3,3,2,1,3,4,3,3,3,3,2,3,1,3,3,3,3,3,3,3,2,3,2,3,3,3,2,3,3,2,3,1,1,3,3,3,3,3,2,3,3,1,2,1,2,3,3,2,3,3,4,3,0,3,3,3,2,3,3,3,3,3,3,4,2,3,1,3,3,3,3,3,3,3,3,3,3,3,3,3,3,3,1,3,3,3,3,3,3,3,3,3,3,4,4,3,3,3,3,1,3,3,2,3,3,3,3,3,3,3,1,2,3,3,3,3,3,3,3,3,3,3,3,3,3,3,3,3,3,3,1,2,3,4,3,1,3,3,3,3,3,3,3,3,0,3,3,3,3,3,3,2,2,3,3,4,3,3,3,3,0,3,0,1,3,3,3,4,3,3,3,3,4,0,3,1,3,3,3,2,3,3,3,3,3,3,4,3,3,3,3,0,3,1,3,3,4,3,3,3,1,3,3,2,3,2,3,2,3,2,3,3,3,3,1,3,2,3,2,2,3,3,0,3,3,3,3,4,3,3,4,3,3,3,1,3,2,3,2,4,1,3,1,2,1,3,3,4,0,4,2,3,3,3,3,3,2,3,3,3,3,3,3,3,3,0,3,1,1,3,1,3,1,2,1,3,3,3,3,1,2,3,3,3,3,3,3,3,3,3,1,3,3,3,0,1,1,2,4,2,3,3,3,3,3,3,3,3,0,3,0,3,4,3,3,3,4,3,3,3,3,3,3,3,3,3,1,3,1,1,3,3,3,3,1,0,3,3,3,3,3,2,3,4,3,1,2,3,1,3,3,0,3,3,3,3,2,3,3,3,2,0,3,3,3,3,1,3,1,3,3,3,3,3,3,3,3,3,3,3,3,3,3,1,1,3,2,3,4,3,0,3,3,1,3,3,3,3,3,3,3,3,3,3,3,3,3,3,3,3,3,3,3,1,3,3,3,3,2,3,3,3,3,3,3,3,3,3,3,3,3,3,1,3,4,3,3,4,3,3,3,3,2,3,4,4,3,3,1,3,3,3,3,3,3,3,3,1,4,3,2,3,3,3,3,3,3,3,3,3,3,0,3,3,3],\"coloraxis\":\"coloraxis\",\"symbol\":\"circle\"},\"mode\":\"markers\",\"name\":\"\",\"scene\":\"scene\",\"showlegend\":false,\"x\":[-10.723982810974121,11.844029426574707,5.8069844245910645,17.31330680847168,8.059374809265137,-3.6810262203216553,14.341789245605469,17.14687156677246,-11.845352172851562,21.607404708862305,11.859792709350586,6.0039191246032715,-12.03382682800293,13.934806823730469,0.37092792987823486,-0.2617664039134979,-16.742921829223633,18.782155990600586,12.557843208312988,-3.2584047317504883,-2.699601173400879,-7.616203308105469,-4.004793643951416,-14.696386337280273,0.12529468536376953,2.477356195449829,5.242734909057617,5.7033891677856445,-13.434821128845215,-19.21622657775879,16.49099349975586,10.709364891052246,8.111143112182617,-8.552579879760742,-8.561406135559082,2.793154239654541,10.650489807128906,-23.73912811279297,6.01225471496582,5.985108375549316,-11.351990699768066,-4.12344217300415,1.964018702507019,-2.86026668548584,-10.380595207214355,7.156524658203125,-7.744838714599609,7.253109455108643,12.575713157653809,-7.587474346160889,0.7622835040092468,22.522735595703125,-12.619180679321289,0.7622835040092468,-7.335442543029785,-5.482299327850342,-8.068743705749512,0.214374378323555,-1.4896337985992432,-9.346051216125488,0.7179426550865173,-3.503051519393921,11.322364807128906,-1.1325163841247559,14.405559539794922,-5.835524559020996,-13.123566627502441,15.004778861999512,-1.321469783782959,12.431434631347656,9.142498016357422,8.090272903442383,9.827133178710938,3.717700481414795,-11.24678897857666,6.475178241729736,11.252069473266602,0.4947223663330078,-6.018725395202637,-4.129197120666504,5.2415995597839355,-9.84522819519043,-2.093183994293213,12.33645248413086,-12.387778282165527,10.055150032043457,9.128331184387207,4.880457878112793,-21.285974502563477,4.517449855804443,-0.45190104842185974,-15.451516151428223,11.469255447387695,13.375064849853516,8.339086532592773,-16.341535568237305,3.8348464965820312,-14.82642650604248,13.252243041992188,-8.477832794189453,0.6848481297492981,-0.9047764539718628,-8.794913291931152,11.999910354614258,1.8962069749832153,3.958050489425659,-10.750925064086914,-12.06216049194336,4.115851879119873,6.227722644805908,-0.7549499273300171,-10.888800621032715,16.909883499145508,10.199129104614258,-1.6273537874221802,-4.764000415802002,25.579345703125,-1.6402859687805176,9.539581298828125,-5.268808841705322,9.07470417022705,1.6294362545013428,10.570011138916016,20.74751091003418,-11.658185958862305,16.838699340820312,-14.592140197753906,-8.547049522399902,-12.541455268859863,1.522168517112732,14.738943099975586,-16.978307723999023,0.43128275871276855,2.096637725830078,16.31659698486328,-12.160200119018555,7.321803569793701,10.751011848449707,3.9238033294677734,12.593072891235352,17.229846954345703,21.690547943115234,-9.317377090454102,8.941431045532227,1.522168517112732,-3.9279019832611084,4.9083051681518555,2.97540283203125,-6.106502056121826,8.842179298400879,2.9613568782806396,3.5446159839630127,-3.900686502456665,-3.96836519241333,25.042678833007812,-19.191579818725586,3.5854358673095703,2.012385129928589,4.423895359039307,1.9135985374450684,-19.617908477783203,18.97464370727539,-18.8050537109375,18.31892204284668,-11.561421394348145,22.393115997314453,12.793874740600586,-1.3527010679244995,3.3124027252197266,-1.489789605140686,-17.512832641601562,-13.050919532775879,20.887771606445312,3.241117000579834,-3.263615369796753,-2.51503324508667,0.953157901763916,-11.710627555847168,-6.375668048858643,-18.27286148071289,-13.6969633102417,-7.056461334228516,10.056503295898438,9.637809753417969,3.8414807319641113,0.040565770119428635,1.522168517112732,0.040565770119428635,-17.83112144470215,6.339417934417725,3.044694185256958,-6.907535076141357,-5.311056613922119,18.006114959716797,9.046699523925781,7.724297046661377,-17.94657325744629,-10.441863059997559,-0.45531103014945984,-0.8094350099563599,-21.652667999267578,6.943822860717773,-3.300044298171997,7.52613639831543,-1.3865752220153809,-9.711990356445312,14.095012664794922,16.69234848022461,17.79619789123535,-0.3433765172958374,15.4170560836792,22.409639358520508,23.727998733520508,-16.55373764038086,-1.2474991083145142,-14.134425163269043,0.040565770119428635,-9.534534454345703,-23.274423599243164,15.727805137634277,16.113197326660156,-5.377342700958252,10.938730239868164,-5.3047308921813965,3.2571136951446533,-20.1722412109375,-7.955787181854248,-4.733565807342529,-7.342648029327393,4.7230000495910645,-9.228243827819824,-3.458411455154419,6.005954742431641,-0.22253283858299255,0.059410326182842255,-0.7105292081832886,-7.310466766357422,0.657344400882721,11.211264610290527,-12.627421379089355,-4.237534523010254,-7.802438735961914,-2.3928887844085693,-2.3663272857666016,-17.904767990112305,18.743473052978516,-2.8097076416015625,0.040565770119428635,24.09501838684082,-14.031160354614258,12.729608535766602,-3.3754336833953857,-6.4434075355529785,-2.372837543487549,21.14120864868164,-10.199098587036133,13.325981140136719,14.004414558410645,11.251849174499512,-3.9397523403167725,6.6355204582214355,6.582731246948242,-4.384462356567383,6.78654670715332,-7.591586112976074,1.2359851598739624,14.781892776489258,-16.982805252075195,19.047931671142578,-15.492713928222656,-10.705836296081543,-12.030563354492188,22.294235229492188,0.040565770119428635,4.977278709411621,-4.267537593841553,2.421502113342285,1.3109074831008911,-3.679748773574829,16.43787384033203,-14.767447471618652,3.475250720977783,12.710938453674316,7.085731506347656,20.065200805664062,-1.54524827003479,11.949278831481934,5.173381328582764,-23.066457748413086,5.105207920074463,-1.4324698448181152,8.207741737365723,-15.094775199890137,-13.755629539489746,-8.603622436523438,-20.961559295654297,1.6950784921646118,-21.997915267944336,12.246123313903809,-9.333131790161133,-7.252230167388916,10.73628044128418,-6.9978251457214355,2.2042236328125,-15.889628410339355,-23.01744270324707,0.9310833811759949,15.059210777282715,19.01245880126953,6.60372257232666,1.6319677829742432,18.22588348388672,8.993037223815918,-7.169591426849365,2.9980616569519043,-15.931329727172852,14.641860008239746,5.487074375152588,-10.705587387084961,2.302297353744507,-8.58212661743164,-16.031681060791016,-6.277652740478516,-11.543947219848633,-7.437341213226318,0.7622835040092468,-9.363105773925781,-14.05339241027832,1.1661746501922607,-13.92098617553711,10.905851364135742,2.5171988010406494,-19.700613021850586,0.040565770119428635,-3.2387630939483643,-5.713991641998291,10.170761108398438,-13.389044761657715,-9.058096885681152,7.594653606414795,-14.803869247436523,16.248537063598633,6.48732852935791,-0.8069316744804382,-9.214987754821777,9.783805847167969,-1.4902641773223877,-2.69779896736145,1.949759840965271,-5.4713454246521,-4.540060043334961,10.466763496398926,-15.882966995239258,-2.5946457386016846,4.253676414489746,-7.252230167388916,19.527870178222656,-6.664017677307129,-20.703996658325195,7.374732971191406,0.040565770119428635,-11.321946144104004,15.549782752990723,-3.8320188522338867,5.224381923675537,8.719937324523926,2.3377397060394287,-1.395998477935791,-14.190837860107422,19.92261505126953,-7.847696781158447,7.6262288093566895,24.17246437072754,-5.714532852172852,7.4126996994018555,17.818437576293945,0.040565770119428635,-5.446056842803955,-6.802929878234863,0.7622835040092468,16.445241928100586,8.466054916381836,-5.991698265075684,9.430805206298828,-17.732141494750977,-21.971771240234375,-2.5402889251708984,14.452391624450684,9.94205379486084,-16.96983528137207,-9.792146682739258,-13.755629539489746,-2.7111520767211914,-6.716386795043945,5.316103458404541,5.636622905731201,-17.138946533203125,0.7622835040092468,-1.2582906484603882,-2.2586333751678467,0.8738090991973877,11.734892845153809,-6.203250885009766,15.629565238952637,-9.292970657348633,-15.01235580444336,0.7622835040092468,4.997638702392578,-18.721420288085938,-13.755629539489746,6.412406921386719,14.105340003967285,0.16157682240009308,-10.156042098999023,18.50874137878418,0.040565770119428635,2.10725474357605,9.141005516052246,6.073249816894531,8.376909255981445,-1.6652370691299438,1.860175371170044,-14.010560035705566,4.011662006378174,-4.969919681549072,16.16801643371582,4.005771160125732,11.486222267150879,3.4959561824798584,13.367349624633789,11.75296401977539,4.171543598175049,19.238723754882812,11.682971000671387,6.901347637176514,6.691983699798584,0.7646142244338989,2.6524529457092285,-11.698320388793945,-11.782611846923828,-1.2896134853363037,-4.388131141662598,21.159862518310547,2.809464693069458,-5.686582565307617,0.654427170753479,7.448881149291992,-6.515932559967041,14.251814842224121,-16.82086181640625,1.4942104816436768,-5.78390645980835,-1.0108141899108887,0.7361314296722412,0.7622835040092468,-14.896428108215332,8.569734573364258,-15.926042556762695,-10.238425254821777,3.6160976886749268,-2.795832395553589,4.2075676918029785,-4.788684844970703,-3.574368715286255,-1.3659441471099854,-0.16212475299835205,-12.591660499572754,-20.494056701660156,14.73748779296875,-3.183807611465454,14.341239929199219,0.4479657709598541,17.74015998840332,-2.529573440551758,-12.178619384765625,-4.942327499389648,-7.567650318145752,-19.67005157470703,13.08324909210205,0.37445536255836487,4.766744136810303,-0.7875445485115051,-19.527429580688477,-5.976385593414307,21.384126663208008,8.562155723571777,-14.531054496765137,-5.783743858337402,-13.035223007202148,-0.09530705958604813,-0.06439772993326187,-8.771647453308105,9.9523286819458,3.1960527896881104,9.345881462097168,4.687891960144043,2.93947172164917,-9.071223258972168,-20.21057891845703,-9.80693244934082],\"y\":[3.6701812744140625,4.260776042938232,10.691640853881836,2.9924092292785645,3.463456630706787,0.36802852153778076,1.059035062789917,-1.7572911977767944,-21.777833938598633,0.5477694272994995,-18.327869415283203,14.05199146270752,9.284489631652832,-4.858778476715088,-1.0757408142089844,0.23498207330703735,-2.7307939529418945,6.834991931915283,11.904382705688477,11.114514350891113,-14.835000038146973,1.6493823528289795,-8.341509819030762,-1.6528222560882568,4.256310939788818,-2.02303147315979,-14.5114164352417,-9.481179237365723,-0.09660182148218155,-9.628637313842773,4.6988677978515625,-9.640331268310547,-2.1708648204803467,3.506161689758301,18.918743133544922,-6.19697380065918,-16.31851577758789,0.51933354139328,6.555765867233276e-05,19.793766021728516,14.096492767333984,9.284392356872559,-0.3705235719680786,-6.060757160186768,8.968219757080078,-11.654029846191406,10.291568756103516,-6.060837268829346,6.107965469360352,11.540132522583008,-4.286282539367676,-9.46332836151123,-6.116642951965332,-4.286282539367676,-10.54262638092041,-10.578311920166016,-5.371777534484863,-3.79650616645813,-4.2949090003967285,4.908890247344971,-10.813396453857422,-24.23965072631836,-3.7001490592956543,-5.940834045410156,-11.735581398010254,-4.998075008392334,11.660981178283691,-7.38740348815918,-1.4863176345825195,-10.309173583984375,9.342902183532715,7.743056774139404,-14.203088760375977,2.351391315460205,-15.601004600524902,2.5691702365875244,2.292419195175171,21.201669692993164,12.047624588012695,-3.517725706100464,17.47620391845703,-0.8042062520980835,0.13896489143371582,-12.280800819396973,-10.22485637664795,13.751998901367188,-5.251250743865967,-3.608137845993042,-4.811248779296875,-7.575636863708496,11.878485679626465,-11.051353454589844,-5.800132751464844,-6.323050498962402,19.900760650634766,10.716875076293945,5.589144229888916,-9.118858337402344,-1.228897213935852,0.3531857430934906,-8.929352760314941,1.6149413585662842,23.523624420166016,16.401500701904297,11.881270408630371,7.681361198425293,-2.324723482131958,1.9269599914550781,-5.134171962738037,-25.066757202148438,8.008752822875977,-6.322967052459717,-6.864142894744873,0.7886826395988464,12.492199897766113,17.242412567138672,-3.2630834579467773,10.347326278686523,-3.6847002506256104,3.4356977939605713,-8.8086519241333,-23.326927185058594,5.204716682434082,-1.6635117530822754,5.916079998016357,18.587167739868164,9.835647583007812,-14.378073692321777,22.276174545288086,12.454134941101074,-9.302652359008789,-4.854720115661621,-28.68840789794922,-13.773639678955078,-13.737186431884766,4.255319595336914,1.1719237565994263,23.735790252685547,-23.683149337768555,-3.4912707805633545,-4.283507347106934,4.838372230529785,-17.15613555908203,-17.865070343017578,12.454134941101074,-11.432190895080566,-17.195819854736328,-11.365887641906738,15.597086906433105,1.8561168909072876,4.120761871337891,10.430074691772461,-4.942013740539551,9.49657917022705,2.3924648761749268,-3.888092041015625,-16.197919845581055,7.351521968841553,-21.04707145690918,4.366372585296631,2.0878379344940186,-5.678012847900391,-6.903070449829102,-15.0264310836792,-11.891615867614746,12.38995361328125,0.27210432291030884,16.000720977783203,12.740690231323242,18.980270385742188,0.1351647675037384,-5.041323661804199,10.314882278442383,0.39304882287979126,-9.916616439819336,2.188544988632202,-2.372091770172119,-4.491772174835205,-24.81182861328125,16.946687698364258,5.663959980010986,20.220766067504883,9.423274993896484,16.714017868041992,13.083131790161133,22.63629722595215,12.454134941101074,22.63629722595215,14.130510330200195,-4.392941474914551,17.543947219848633,3.7325806617736816,5.236713409423828,0.5849151611328125,-0.3359915614128113,-3.8009612560272217,8.539789199829102,-8.489439964294434,24.730772018432617,-15.06563949584961,-7.593225479125977,-22.12138557434082,5.934353351593018,17.745805740356445,-13.656116485595703,20.763343811035156,7.37052583694458,14.762617111206055,-8.906441688537598,-7.4362359046936035,-16.03125762939453,2.5336556434631348,-6.398272514343262,-7.066378116607666,-11.350140571594238,-18.975046157836914,22.63629722595215,-10.026803970336914,-2.8512604236602783,12.332971572875977,8.50769329071045,-2.8818840980529785,18.887950897216797,-16.195589065551758,25.065227508544922,0.06387682259082794,-2.249856948852539,12.514908790588379,-0.885540246963501,9.25846004486084,-11.772717475891113,19.196613311767578,-7.800611972808838,17.738685607910156,-12.825237274169922,6.255020618438721,6.675085067749023,-5.434359550476074,-0.6659408211708069,-13.780320167541504,1.9145532846450806,-8.41451644897461,8.716388702392578,-7.639998435974121,6.188717842102051,9.415761947631836,-2.4218802452087402,22.63629722595215,6.927475929260254,-15.860738754272461,-8.33102035522461,12.377079010009766,-17.618331909179688,-18.1785945892334,-5.76924991607666,-13.518430709838867,19.920610427856445,-13.881399154663086,7.78507137298584,4.189886093139648,4.372437000274658,-13.33668327331543,14.68852424621582,-15.747040748596191,-16.12801170349121,-13.756135940551758,-18.595439910888672,-13.224830627441406,4.61342191696167,16.356229782104492,16.74323081970215,7.90871524810791,-3.3609745502471924,22.63629722595215,3.1515016555786133,-14.088777542114258,-17.470142364501953,18.50821876525879,21.50821304321289,9.600630760192871,10.391950607299805,-14.631669998168945,-15.932182312011719,-19.81410026550293,-8.338623046875,4.721596717834473,14.14778995513916,6.6301727294921875,7.919031143188477,-18.998653411865234,21.058589935302734,5.368823528289795,1.2215900421142578,2.6963863372802734,6.949402332305908,-1.9893091917037964,-12.397224426269531,1.0678086280822754,1.9838297367095947,1.8755614757537842,22.00188446044922,11.398725509643555,5.265141487121582,5.888084411621094,12.85799503326416,4.575958251953125,1.4948853254318237,3.2909390926361084,-2.9677011966705322,6.991576194763184,14.604598999023438,15.118721961975098,11.594879150390625,-3.6513869762420654,-8.273221969604492,7.368546962738037,-2.534937858581543,-6.013134956359863,16.74297332763672,21.693510055541992,8.69204044342041,-0.5693590044975281,-14.441115379333496,19.06348419189453,-12.534607887268066,-4.286282539367676,12.703936576843262,-7.358769416809082,3.233886480331421,7.729238033294678,-7.658336639404297,-19.329654693603516,10.756178855895996,22.63629722595215,16.212459564208984,22.41952896118164,-2.0837113857269287,-2.5975100994110107,-21.755800247192383,12.691193580627441,-3.89111328125,1.5308457612991333,8.68956184387207,-23.135282516479492,-19.261388778686523,3.418383836746216,-16.70368766784668,-20.468706130981445,-4.36976957321167,-12.493825912475586,25.62994384765625,-12.299728393554688,5.657279968261719,-12.43305778503418,-12.844911575317383,22.00188446044922,2.6772494316101074,8.585441589355469,8.527013778686523,-0.8419293761253357,22.63629722595215,12.123467445373535,-0.5561051964759827,-1.2297927141189575,-11.308161735534668,-23.217710494995117,2.112010955810547,-3.1205244064331055,5.0962018966674805,-11.243874549865723,14.27743148803711,-7.787357330322266,-0.5743463039398193,10.290983200073242,-9.83090591430664,-12.097429275512695,22.63629722595215,7.8601789474487305,-21.945419311523438,-4.286282539367676,6.521083354949951,-13.066638946533203,2.0274994373321533,-6.766052722930908,2.385547161102295,4.021737098693848,24.043115615844727,17.017749786376953,6.794272422790527,-9.285801887512207,10.748011589050293,2.6963863372802734,3.7407476902008057,-6.374255657196045,4.898675918579102,12.300347328186035,4.418116569519043,-4.286282539367676,15.889396667480469,-26.61476707458496,8.365740776062012,-14.36270523071289,13.618951797485352,-4.320601940155029,-3.366781234741211,-5.759585857391357,-4.286282539367676,1.2120752334594727,-1.5965851545333862,2.6963863372802734,22.901050567626953,14.170367240905762,-21.305999755859375,6.736433506011963,12.040124893188477,22.63629722595215,-9.755404472351074,-10.977232933044434,-2.400851249694824,5.497840404510498,6.447188377380371,10.75893783569336,13.843165397644043,-1.7914304733276367,6.6948041915893555,-10.654659271240234,-9.935044288635254,-23.417972564697266,-26.41193389892578,3.3730287551879883,-20.674375534057617,14.800968170166016,0.225663959980011,9.45959758758545,-17.027904510498047,15.892146110534668,15.818166732788086,8.83094310760498,-0.21855475008487701,-18.323917388916016,-9.661286354064941,-18.74736976623535,7.495249271392822,-21.273380279541016,-1.2324442863464355,-17.4439697265625,10.371615409851074,-19.424779891967773,5.268527984619141,-16.433578491210938,-7.1878156661987305,0.4254498779773712,-19.6870174407959,10.995438575744629,-4.286282539367676,19.516401290893555,14.829071998596191,2.9437713623046875,1.3927476406097412,16.132583618164062,-22.916851043701172,22.72488021850586,-21.05677032470703,-16.465139389038086,-8.494915962219238,13.917232513427734,-8.414546966552734,13.10975170135498,-21.31256866455078,7.414273738861084,10.544620513916016,6.080443859100342,-17.940078735351562,14.025728225708008,-2.8592286109924316,-6.8753252029418945,16.797250747680664,4.638980388641357,9.1480131149292,-18.514249801635742,20.394826889038086,3.0399680137634277,-12.21739673614502,18.541120529174805,-13.77087116241455,-15.461995124816895,-12.799980163574219,-8.717121124267578,16.077693939208984,9.440988540649414,-24.96111297607422,15.142887115478516,21.354524612426758,-3.5203347206115723,-20.192895889282227,-0.6530062556266785,19.545509338378906,-6.992753982543945,5.794079780578613,-4.842387676239014],\"z\":[1,3,3,3,3,3,3,3,3,4,3,3,3,3,3,3,1,3,3,3,3,4,2,4,3,3,3,2,1,3,4,3,3,3,3,2,3,1,3,3,3,3,3,3,3,2,3,2,3,3,3,2,3,3,2,3,1,1,3,3,3,3,3,2,3,3,1,2,1,2,3,3,2,3,3,4,3,0,3,3,3,2,3,3,3,3,3,3,4,2,3,1,3,3,3,3,3,3,3,3,3,3,3,3,3,3,3,1,3,3,3,3,3,3,3,3,3,3,4,4,3,3,3,3,1,3,3,2,3,3,3,3,3,3,3,1,2,3,3,3,3,3,3,3,3,3,3,3,3,3,3,3,3,3,3,1,2,3,4,3,1,3,3,3,3,3,3,3,3,0,3,3,3,3,3,3,2,2,3,3,4,3,3,3,3,0,3,0,1,3,3,3,4,3,3,3,3,4,0,3,1,3,3,3,2,3,3,3,3,3,3,4,3,3,3,3,0,3,1,3,3,4,3,3,3,1,3,3,2,3,2,3,2,3,2,3,3,3,3,1,3,2,3,2,2,3,3,0,3,3,3,3,4,3,3,4,3,3,3,1,3,2,3,2,4,1,3,1,2,1,3,3,4,0,4,2,3,3,3,3,3,2,3,3,3,3,3,3,3,3,0,3,1,1,3,1,3,1,2,1,3,3,3,3,1,2,3,3,3,3,3,3,3,3,3,1,3,3,3,0,1,1,2,4,2,3,3,3,3,3,3,3,3,0,3,0,3,4,3,3,3,4,3,3,3,3,3,3,3,3,3,1,3,1,1,3,3,3,3,1,0,3,3,3,3,3,2,3,4,3,1,2,3,1,3,3,0,3,3,3,3,2,3,3,3,2,0,3,3,3,3,1,3,1,3,3,3,3,3,3,3,3,3,3,3,3,3,3,1,1,3,2,3,4,3,0,3,3,1,3,3,3,3,3,3,3,3,3,3,3,3,3,3,3,3,3,3,3,1,3,3,3,3,2,3,3,3,3,3,3,3,3,3,3,3,3,3,1,3,4,3,3,4,3,3,3,3,2,3,4,4,3,3,1,3,3,3,3,3,3,3,3,1,4,3,2,3,3,3,3,3,3,3,3,3,3,0,3,3,3],\"type\":\"scatter3d\"}],                        {\"template\":{\"data\":{\"histogram2dcontour\":[{\"type\":\"histogram2dcontour\",\"colorbar\":{\"outlinewidth\":0,\"ticks\":\"\"},\"colorscale\":[[0.0,\"#0d0887\"],[0.1111111111111111,\"#46039f\"],[0.2222222222222222,\"#7201a8\"],[0.3333333333333333,\"#9c179e\"],[0.4444444444444444,\"#bd3786\"],[0.5555555555555556,\"#d8576b\"],[0.6666666666666666,\"#ed7953\"],[0.7777777777777778,\"#fb9f3a\"],[0.8888888888888888,\"#fdca26\"],[1.0,\"#f0f921\"]]}],\"choropleth\":[{\"type\":\"choropleth\",\"colorbar\":{\"outlinewidth\":0,\"ticks\":\"\"}}],\"histogram2d\":[{\"type\":\"histogram2d\",\"colorbar\":{\"outlinewidth\":0,\"ticks\":\"\"},\"colorscale\":[[0.0,\"#0d0887\"],[0.1111111111111111,\"#46039f\"],[0.2222222222222222,\"#7201a8\"],[0.3333333333333333,\"#9c179e\"],[0.4444444444444444,\"#bd3786\"],[0.5555555555555556,\"#d8576b\"],[0.6666666666666666,\"#ed7953\"],[0.7777777777777778,\"#fb9f3a\"],[0.8888888888888888,\"#fdca26\"],[1.0,\"#f0f921\"]]}],\"heatmap\":[{\"type\":\"heatmap\",\"colorbar\":{\"outlinewidth\":0,\"ticks\":\"\"},\"colorscale\":[[0.0,\"#0d0887\"],[0.1111111111111111,\"#46039f\"],[0.2222222222222222,\"#7201a8\"],[0.3333333333333333,\"#9c179e\"],[0.4444444444444444,\"#bd3786\"],[0.5555555555555556,\"#d8576b\"],[0.6666666666666666,\"#ed7953\"],[0.7777777777777778,\"#fb9f3a\"],[0.8888888888888888,\"#fdca26\"],[1.0,\"#f0f921\"]]}],\"heatmapgl\":[{\"type\":\"heatmapgl\",\"colorbar\":{\"outlinewidth\":0,\"ticks\":\"\"},\"colorscale\":[[0.0,\"#0d0887\"],[0.1111111111111111,\"#46039f\"],[0.2222222222222222,\"#7201a8\"],[0.3333333333333333,\"#9c179e\"],[0.4444444444444444,\"#bd3786\"],[0.5555555555555556,\"#d8576b\"],[0.6666666666666666,\"#ed7953\"],[0.7777777777777778,\"#fb9f3a\"],[0.8888888888888888,\"#fdca26\"],[1.0,\"#f0f921\"]]}],\"contourcarpet\":[{\"type\":\"contourcarpet\",\"colorbar\":{\"outlinewidth\":0,\"ticks\":\"\"}}],\"contour\":[{\"type\":\"contour\",\"colorbar\":{\"outlinewidth\":0,\"ticks\":\"\"},\"colorscale\":[[0.0,\"#0d0887\"],[0.1111111111111111,\"#46039f\"],[0.2222222222222222,\"#7201a8\"],[0.3333333333333333,\"#9c179e\"],[0.4444444444444444,\"#bd3786\"],[0.5555555555555556,\"#d8576b\"],[0.6666666666666666,\"#ed7953\"],[0.7777777777777778,\"#fb9f3a\"],[0.8888888888888888,\"#fdca26\"],[1.0,\"#f0f921\"]]}],\"surface\":[{\"type\":\"surface\",\"colorbar\":{\"outlinewidth\":0,\"ticks\":\"\"},\"colorscale\":[[0.0,\"#0d0887\"],[0.1111111111111111,\"#46039f\"],[0.2222222222222222,\"#7201a8\"],[0.3333333333333333,\"#9c179e\"],[0.4444444444444444,\"#bd3786\"],[0.5555555555555556,\"#d8576b\"],[0.6666666666666666,\"#ed7953\"],[0.7777777777777778,\"#fb9f3a\"],[0.8888888888888888,\"#fdca26\"],[1.0,\"#f0f921\"]]}],\"mesh3d\":[{\"type\":\"mesh3d\",\"colorbar\":{\"outlinewidth\":0,\"ticks\":\"\"}}],\"scatter\":[{\"fillpattern\":{\"fillmode\":\"overlay\",\"size\":10,\"solidity\":0.2},\"type\":\"scatter\"}],\"parcoords\":[{\"type\":\"parcoords\",\"line\":{\"colorbar\":{\"outlinewidth\":0,\"ticks\":\"\"}}}],\"scatterpolargl\":[{\"type\":\"scatterpolargl\",\"marker\":{\"colorbar\":{\"outlinewidth\":0,\"ticks\":\"\"}}}],\"bar\":[{\"error_x\":{\"color\":\"#2a3f5f\"},\"error_y\":{\"color\":\"#2a3f5f\"},\"marker\":{\"line\":{\"color\":\"#E5ECF6\",\"width\":0.5},\"pattern\":{\"fillmode\":\"overlay\",\"size\":10,\"solidity\":0.2}},\"type\":\"bar\"}],\"scattergeo\":[{\"type\":\"scattergeo\",\"marker\":{\"colorbar\":{\"outlinewidth\":0,\"ticks\":\"\"}}}],\"scatterpolar\":[{\"type\":\"scatterpolar\",\"marker\":{\"colorbar\":{\"outlinewidth\":0,\"ticks\":\"\"}}}],\"histogram\":[{\"marker\":{\"pattern\":{\"fillmode\":\"overlay\",\"size\":10,\"solidity\":0.2}},\"type\":\"histogram\"}],\"scattergl\":[{\"type\":\"scattergl\",\"marker\":{\"colorbar\":{\"outlinewidth\":0,\"ticks\":\"\"}}}],\"scatter3d\":[{\"type\":\"scatter3d\",\"line\":{\"colorbar\":{\"outlinewidth\":0,\"ticks\":\"\"}},\"marker\":{\"colorbar\":{\"outlinewidth\":0,\"ticks\":\"\"}}}],\"scattermapbox\":[{\"type\":\"scattermapbox\",\"marker\":{\"colorbar\":{\"outlinewidth\":0,\"ticks\":\"\"}}}],\"scatterternary\":[{\"type\":\"scatterternary\",\"marker\":{\"colorbar\":{\"outlinewidth\":0,\"ticks\":\"\"}}}],\"scattercarpet\":[{\"type\":\"scattercarpet\",\"marker\":{\"colorbar\":{\"outlinewidth\":0,\"ticks\":\"\"}}}],\"carpet\":[{\"aaxis\":{\"endlinecolor\":\"#2a3f5f\",\"gridcolor\":\"white\",\"linecolor\":\"white\",\"minorgridcolor\":\"white\",\"startlinecolor\":\"#2a3f5f\"},\"baxis\":{\"endlinecolor\":\"#2a3f5f\",\"gridcolor\":\"white\",\"linecolor\":\"white\",\"minorgridcolor\":\"white\",\"startlinecolor\":\"#2a3f5f\"},\"type\":\"carpet\"}],\"table\":[{\"cells\":{\"fill\":{\"color\":\"#EBF0F8\"},\"line\":{\"color\":\"white\"}},\"header\":{\"fill\":{\"color\":\"#C8D4E3\"},\"line\":{\"color\":\"white\"}},\"type\":\"table\"}],\"barpolar\":[{\"marker\":{\"line\":{\"color\":\"#E5ECF6\",\"width\":0.5},\"pattern\":{\"fillmode\":\"overlay\",\"size\":10,\"solidity\":0.2}},\"type\":\"barpolar\"}],\"pie\":[{\"automargin\":true,\"type\":\"pie\"}]},\"layout\":{\"autotypenumbers\":\"strict\",\"colorway\":[\"#636efa\",\"#EF553B\",\"#00cc96\",\"#ab63fa\",\"#FFA15A\",\"#19d3f3\",\"#FF6692\",\"#B6E880\",\"#FF97FF\",\"#FECB52\"],\"font\":{\"color\":\"#2a3f5f\"},\"hovermode\":\"closest\",\"hoverlabel\":{\"align\":\"left\"},\"paper_bgcolor\":\"white\",\"plot_bgcolor\":\"#E5ECF6\",\"polar\":{\"bgcolor\":\"#E5ECF6\",\"angularaxis\":{\"gridcolor\":\"white\",\"linecolor\":\"white\",\"ticks\":\"\"},\"radialaxis\":{\"gridcolor\":\"white\",\"linecolor\":\"white\",\"ticks\":\"\"}},\"ternary\":{\"bgcolor\":\"#E5ECF6\",\"aaxis\":{\"gridcolor\":\"white\",\"linecolor\":\"white\",\"ticks\":\"\"},\"baxis\":{\"gridcolor\":\"white\",\"linecolor\":\"white\",\"ticks\":\"\"},\"caxis\":{\"gridcolor\":\"white\",\"linecolor\":\"white\",\"ticks\":\"\"}},\"coloraxis\":{\"colorbar\":{\"outlinewidth\":0,\"ticks\":\"\"}},\"colorscale\":{\"sequential\":[[0.0,\"#0d0887\"],[0.1111111111111111,\"#46039f\"],[0.2222222222222222,\"#7201a8\"],[0.3333333333333333,\"#9c179e\"],[0.4444444444444444,\"#bd3786\"],[0.5555555555555556,\"#d8576b\"],[0.6666666666666666,\"#ed7953\"],[0.7777777777777778,\"#fb9f3a\"],[0.8888888888888888,\"#fdca26\"],[1.0,\"#f0f921\"]],\"sequentialminus\":[[0.0,\"#0d0887\"],[0.1111111111111111,\"#46039f\"],[0.2222222222222222,\"#7201a8\"],[0.3333333333333333,\"#9c179e\"],[0.4444444444444444,\"#bd3786\"],[0.5555555555555556,\"#d8576b\"],[0.6666666666666666,\"#ed7953\"],[0.7777777777777778,\"#fb9f3a\"],[0.8888888888888888,\"#fdca26\"],[1.0,\"#f0f921\"]],\"diverging\":[[0,\"#8e0152\"],[0.1,\"#c51b7d\"],[0.2,\"#de77ae\"],[0.3,\"#f1b6da\"],[0.4,\"#fde0ef\"],[0.5,\"#f7f7f7\"],[0.6,\"#e6f5d0\"],[0.7,\"#b8e186\"],[0.8,\"#7fbc41\"],[0.9,\"#4d9221\"],[1,\"#276419\"]]},\"xaxis\":{\"gridcolor\":\"white\",\"linecolor\":\"white\",\"ticks\":\"\",\"title\":{\"standoff\":15},\"zerolinecolor\":\"white\",\"automargin\":true,\"zerolinewidth\":2},\"yaxis\":{\"gridcolor\":\"white\",\"linecolor\":\"white\",\"ticks\":\"\",\"title\":{\"standoff\":15},\"zerolinecolor\":\"white\",\"automargin\":true,\"zerolinewidth\":2},\"scene\":{\"xaxis\":{\"backgroundcolor\":\"#E5ECF6\",\"gridcolor\":\"white\",\"linecolor\":\"white\",\"showbackground\":true,\"ticks\":\"\",\"zerolinecolor\":\"white\",\"gridwidth\":2},\"yaxis\":{\"backgroundcolor\":\"#E5ECF6\",\"gridcolor\":\"white\",\"linecolor\":\"white\",\"showbackground\":true,\"ticks\":\"\",\"zerolinecolor\":\"white\",\"gridwidth\":2},\"zaxis\":{\"backgroundcolor\":\"#E5ECF6\",\"gridcolor\":\"white\",\"linecolor\":\"white\",\"showbackground\":true,\"ticks\":\"\",\"zerolinecolor\":\"white\",\"gridwidth\":2}},\"shapedefaults\":{\"line\":{\"color\":\"#2a3f5f\"}},\"annotationdefaults\":{\"arrowcolor\":\"#2a3f5f\",\"arrowhead\":0,\"arrowwidth\":1},\"geo\":{\"bgcolor\":\"white\",\"landcolor\":\"#E5ECF6\",\"subunitcolor\":\"white\",\"showland\":true,\"showlakes\":true,\"lakecolor\":\"white\"},\"title\":{\"x\":0.05},\"mapbox\":{\"style\":\"light\"}}},\"scene\":{\"domain\":{\"x\":[0.0,1.0],\"y\":[0.0,1.0]},\"xaxis\":{\"title\":{\"text\":\"x\"}},\"yaxis\":{\"title\":{\"text\":\"y\"}},\"zaxis\":{\"title\":{\"text\":\"kmeans_cluster\"}}},\"coloraxis\":{\"colorbar\":{\"title\":{\"text\":\"kmeans_cluster\"}},\"colorscale\":[[0.0,\"#0d0887\"],[0.1111111111111111,\"#46039f\"],[0.2222222222222222,\"#7201a8\"],[0.3333333333333333,\"#9c179e\"],[0.4444444444444444,\"#bd3786\"],[0.5555555555555556,\"#d8576b\"],[0.6666666666666666,\"#ed7953\"],[0.7777777777777778,\"#fb9f3a\"],[0.8888888888888888,\"#fdca26\"],[1.0,\"#f0f921\"]]},\"legend\":{\"tracegroupgap\":0},\"title\":{\"text\":\"Clusters en 3D\"}},                        {\"responsive\": true}                    ).then(function(){\n",
       "                            \n",
       "var gd = document.getElementById('552c7325-1879-4dce-bbe1-f9103bf49033');\n",
       "var x = new MutationObserver(function (mutations, observer) {{\n",
       "        var display = window.getComputedStyle(gd).display;\n",
       "        if (!display || display === 'none') {{\n",
       "            console.log([gd, 'removed!']);\n",
       "            Plotly.purge(gd);\n",
       "            observer.disconnect();\n",
       "        }}\n",
       "}});\n",
       "\n",
       "// Listen for the removal of the full notebook cells\n",
       "var notebookContainer = gd.closest('#notebook-container');\n",
       "if (notebookContainer) {{\n",
       "    x.observe(notebookContainer, {childList: true});\n",
       "}}\n",
       "\n",
       "// Listen for the clearing of the current output cell\n",
       "var outputEl = gd.closest('.output');\n",
       "if (outputEl) {{\n",
       "    x.observe(outputEl, {childList: true});\n",
       "}}\n",
       "\n",
       "                        })                };                });            </script>        </div>"
      ]
     },
     "metadata": {},
     "output_type": "display_data"
    }
   ],
   "source": [
    "import plotly.express as px\n",
    "\n",
    "# Visualisation interactive 3D\n",
    "fig = px.scatter_3d(df, x='x', y='y', z='kmeans_cluster',\n",
    "                    color='kmeans_cluster', title='Clusters en 3D')\n",
    "fig.show()\n"
   ]
  },
  {
   "cell_type": "markdown",
   "id": "6fc9be3e-57fc-4851-9e76-c66971e8eab2",
   "metadata": {},
   "source": [
    "## afficher les cluster et les centroides ## "
   ]
  },
  {
   "cell_type": "code",
   "execution_count": 240,
   "id": "25030428-843f-42aa-b73b-7f679c669ee7",
   "metadata": {},
   "outputs": [
    {
     "name": "stderr",
     "output_type": "stream",
     "text": [
      "C:\\Users\\USER_\\anaconda3\\Lib\\site-packages\\sklearn\\cluster\\_kmeans.py:1446: UserWarning:\n",
      "\n",
      "KMeans is known to have a memory leak on Windows with MKL, when there are less chunks than available threads. You can avoid it by setting the environment variable OMP_NUM_THREADS=2.\n",
      "\n"
     ]
    },
    {
     "data": {
      "image/png": "[encoded data removed]",
      "text/plain": [
       "<Figure size 640x480 with 1 Axes>"
      ]
     },
     "metadata": {},
     "output_type": "display_data"
    }
   ],
   "source": [
    "import matplotlib.pyplot as plt\n",
    "import numpy as np\n",
    "from sklearn.cluster import KMeans\n",
    "from sklearn.datasets import make_blobs\n",
    "\n",
    "# Création de données bidimensionnelles de test\n",
    "X, _ = make_blobs(n_samples=300, centers=5, random_state=42)\n",
    "\n",
    "# Appliquer K-Means avec k=4 (choisi précédemment)\n",
    "kmeans = KMeans(n_clusters=5, random_state=42)\n",
    "kmeans.fit(X)\n",
    "\n",
    "# Récupérer les labels de clusters et les centroïdes\n",
    "labels = kmeans.labels_\n",
    "centroids = kmeans.cluster_centers_\n",
    "\n",
    "# Tracer les clusters\n",
    "plt.scatter(X[:, 0], X[:, 1], c=labels, cmap='viridis', marker='o', s=50)\n",
    "plt.scatter(centroids[:, 0], centroids[:, 1], c='red', marker='X', s=200, label=\"Centroïdes\")\n",
    "\n",
    "plt.title(\"K-Means Clustering avec centroïdes\")\n",
    "plt.xlabel(\"Feature 1\")\n",
    "plt.ylabel(\"Feature 2\")\n",
    "plt.legend()\n",
    "plt.show()\n"
   ]
  },
  {
   "cell_type": "markdown",
   "id": "70810f89-476a-4c86-9165-ec13753dc0de",
   "metadata": {},
   "source": [
    "## Évaluation de la qualité des clusters##"
   ]
  },
  {
   "cell_type": "code",
   "execution_count": 189,
   "id": "e8d6fbdd-4619-4e6e-ad9f-f2c9814a3209",
   "metadata": {},
   "outputs": [
    {
     "name": "stdout",
     "output_type": "stream",
     "text": [
      "Score de silhouette pour k=5: 0.022474529884715395\n"
     ]
    }
   ],
   "source": [
    "from sklearn.metrics import silhouette_score\n",
    "\n",
    "# Calculer le score de silhouette\n",
    "silhouette_avg = silhouette_score(X, kmeans.labels_)\n",
    "print(f\"Score de silhouette pour k={best_k}: {silhouette_avg}\")\n"
   ]
  },
  {
   "cell_type": "markdown",
   "id": "cf251c08-e870-43dd-a138-75293515d449",
   "metadata": {},
   "source": [
    "## Afficher les tweets les plus proches des centroïdes ## "
   ]
  },
  {
   "cell_type": "code",
   "execution_count": 55,
   "id": "fb83d6b5-ce90-4f55-b52b-ff92588defca",
   "metadata": {},
   "outputs": [
    {
     "name": "stdout",
     "output_type": "stream",
     "text": [
      "Cluster 0 Centroïde Tweet: Thanks\n",
      "Cluster 1 Centroïde Tweet: MakeAmericaGreatAgainpictwittercom53qHBKs7yA\n",
      "Cluster 2 Centroïde Tweet: MakeAmericaGreatAgainpictwittercom53qHBKs7yA\n",
      "Cluster 3 Centroïde Tweet: MakeAmericaGreatAgainpictwittercom53qHBKs7yA\n",
      "Cluster 4 Centroïde Tweet: MakeAmericaGreatAgainpictwittercom53qHBKs7yA\n"
     ]
    }
   ],
   "source": [
    "\n",
    "import pandas as pd\n",
    "\n",
    "from sklearn.cluster import KMeans\n",
    "\n",
    "# Appliquer K-Means\n",
    "kmeans = KMeans(n_clusters=5, random_state=42)\n",
    "kmeans.fit(X)  # X est la matrice TF-IDF\n",
    "centroids = kmeans.cluster_centers_\n",
    "\n",
    "# Afficher les tweets les plus proches des centroïdes\n",
    "for i in range(5):  # Choisir 5 clusters\n",
    "    centroid_idx = np.argmin(np.linalg.norm(X - centroids[i], axis=1))  # Trouver le tweet le plus proche du centroïde\n",
    "    print(f\"Cluster {i} Centroïde Tweet: {df.iloc[centroid_idx]['cleaned_content']}\")\n"
   ]
  },
  {
   "cell_type": "markdown",
   "id": "5ec0115a-6ad7-42d8-824d-4c522188cfc9",
   "metadata": {},
   "source": [
    "## Fonction pour récupérer les tweets proches des centroïdes ## \n"
   ]
  },
  {
   "cell_type": "code",
   "execution_count": 63,
   "id": "98a4637e-fd37-4af8-a06f-2a1c71f315d4",
   "metadata": {},
   "outputs": [
    {
     "name": "stdout",
     "output_type": "stream",
     "text": [
      "Cluster 0: Thanks\n",
      "Cluster 1: tjaugustine Thanksit will be great\n",
      "Cluster 2: We are here to proclaim that a new day is coming in Latin America In Venezuela and across the Western Hemisphere Socialism is DYING  and liberty prosperity and democracy are being REBORN\n",
      "Cluster 3: MakeAmericaGreatAgainpictwittercom53qHBKs7yA\n",
      "Cluster 4: Entrepreneurs Set the bar high Do the best you possibly can Apply your skills and talent but above all be tenacious\n"
     ]
    }
   ],
   "source": [
    "\n",
    "from sklearn.cluster import KMeans\n",
    "\n",
    "kmeans = KMeans(n_clusters=5, random_state=42)\n",
    "kmeans.fit(X)  # X est la matrice TF-IDF\n",
    "\n",
    "# Ajouter les labels de clusters au DataFrame\n",
    "df['kmeans_cluster'] = kmeans.labels_\n",
    "\n",
    "# Utiliser la fonction pour trouver les tweets représentatifs\n",
    "representative_tweets = get_representative_tweets_kmeans(\n",
    "    df=df,\n",
    "    X=X,\n",
    "    centroids=kmeans.cluster_centers_,\n",
    "    cluster_labels=kmeans.labels_,\n",
    "    text_column='cleaned_content' \n",
    ")\n",
    "\n",
    "# Afficher les tweets représentatifs\n",
    "for cluster_id, tweet in representative_tweets:\n",
    "    print(f\"Cluster {cluster_id}: {tweet}\")\n"
   ]
  },
  {
   "cell_type": "markdown",
   "id": "84b408e4-6be8-4196-a9c4-563989a020b3",
   "metadata": {},
   "source": [
    "## Appliquer Fuzzy C-Means ## "
   ]
  },
  {
   "cell_type": "markdown",
   "id": "d9d16bdf-5350-4751-98fb-823674cd4e57",
   "metadata": {},
   "source": [
    "## installer fuzzy fuzzy-c-means ## "
   ]
  },
  {
   "cell_type": "code",
   "execution_count": 250,
   "id": "c33a94bb-2149-4c25-838c-f517a84e14b8",
   "metadata": {},
   "outputs": [
    {
     "name": "stdout",
     "output_type": "stream",
     "text": [
      "Requirement already satisfied: fuzzy-c-means in c:\\users\\user_\\anaconda3\\lib\\site-packages (1.7.2)Note: you may need to restart the kernel to use updated packages.\n",
      "\n",
      "Requirement already satisfied: joblib<2.0.0,>=1.2.0 in c:\\users\\user_\\anaconda3\\lib\\site-packages (from fuzzy-c-means) (1.4.2)\n",
      "Requirement already satisfied: numpy<2.0.0,>=1.21.1 in c:\\users\\user_\\anaconda3\\lib\\site-packages (from fuzzy-c-means) (1.26.4)\n",
      "Requirement already satisfied: pydantic<3.0.0,>=2.6.4 in c:\\users\\user_\\anaconda3\\lib\\site-packages (from fuzzy-c-means) (2.10.1)\n",
      "Requirement already satisfied: tabulate<0.9.0,>=0.8.9 in c:\\users\\user_\\anaconda3\\lib\\site-packages (from fuzzy-c-means) (0.8.10)\n",
      "Requirement already satisfied: tqdm<5.0.0,>=4.64.1 in c:\\users\\user_\\anaconda3\\lib\\site-packages (from fuzzy-c-means) (4.66.4)\n",
      "Requirement already satisfied: typer<0.10.0,>=0.9.0 in c:\\users\\user_\\anaconda3\\lib\\site-packages (from fuzzy-c-means) (0.9.4)\n",
      "Requirement already satisfied: annotated-types>=0.6.0 in c:\\users\\user_\\anaconda3\\lib\\site-packages (from pydantic<3.0.0,>=2.6.4->fuzzy-c-means) (0.6.0)\n",
      "Requirement already satisfied: pydantic-core==2.27.1 in c:\\users\\user_\\anaconda3\\lib\\site-packages (from pydantic<3.0.0,>=2.6.4->fuzzy-c-means) (2.27.1)\n",
      "Requirement already satisfied: typing-extensions>=4.12.2 in c:\\users\\user_\\anaconda3\\lib\\site-packages (from pydantic<3.0.0,>=2.6.4->fuzzy-c-means) (4.12.2)\n",
      "Requirement already satisfied: colorama in c:\\users\\user_\\anaconda3\\lib\\site-packages (from tqdm<5.0.0,>=4.64.1->fuzzy-c-means) (0.4.6)\n",
      "Requirement already satisfied: click<9.0.0,>=7.1.1 in c:\\users\\user_\\anaconda3\\lib\\site-packages (from typer<0.10.0,>=0.9.0->fuzzy-c-means) (8.1.7)\n"
     ]
    }
   ],
   "source": [
    "pip install fuzzy-c-means\n"
   ]
  },
  {
   "cell_type": "markdown",
   "id": "874f4050-0095-46eb-bfc1-98fc2bfbacf2",
   "metadata": {},
   "source": [
    "## Calcul de la matrice de distances de Jaccard ## "
   ]
  },
  {
   "cell_type": "code",
   "execution_count": 253,
   "id": "04b23890-d961-40bf-86c1-a547be760b49",
   "metadata": {},
   "outputs": [
    {
     "name": "stdout",
     "output_type": "stream",
     "text": [
      "[[0.         1.         1.         1.         0.96666667]\n",
      " [1.         0.         1.         1.         1.        ]\n",
      " [1.         1.         0.         0.97297297 0.94117647]\n",
      " [1.         1.         0.97297297 0.         0.97435897]\n",
      " [0.96666667 1.         0.94117647 0.97435897 0.        ]]\n"
     ]
    }
   ],
   "source": [
    "import numpy as np\n",
    "\n",
    "# Fonction pour calculer la distance de Jaccard entre deux ensembles de mots\n",
    "def jaccard_distance(tweet1, tweet2):\n",
    "    set1 = set(tweet1.split())  # Convertir le tweet en un ensemble de mots\n",
    "    set2 = set(tweet2.split())\n",
    "    intersection = len(set1.intersection(set2))\n",
    "    union = len(set1.union(set2))\n",
    "    return 1 - (intersection / union)  # Distance de Jaccard\n",
    "\n",
    "# Créer une matrice de distances de Jaccard pour tous les tweets\n",
    "distances = np.zeros((len(tweets), len(tweets)))\n",
    "\n",
    "for i in range(len(tweets)):\n",
    "    for j in range(i + 1, len(tweets)):\n",
    "        dist = jaccard_distance(tweets[i], tweets[j])\n",
    "        distances[i][j] = dist\n",
    "        distances[j][i] = dist  # La matrice est symétrique\n",
    "\n",
    "# Afficher la matrice de distances de Jaccard pour les 5 premiers tweets\n",
    "print(distances[:5, :5])  # Afficher les 5 premiers tweets par exemple\n"
   ]
  },
  {
   "cell_type": "markdown",
   "id": "c0be6d35-91d8-453d-96b2-4464fb9b695a",
   "metadata": {},
   "source": [
    " ## Appliquer Fuzzy C-Means avec la matrice de distances de Jaccard ##"
   ]
  },
  {
   "cell_type": "code",
   "execution_count": 256,
   "id": "b305f309-d7a5-4c2f-b5ad-42f61013ca96",
   "metadata": {},
   "outputs": [
    {
     "name": "stdout",
     "output_type": "stream",
     "text": [
      "                                     lemmatized_text  fcm_cluster\n",
      "0  Great ruling wind farm Scotlandvery smart judg...            3\n",
      "1  MakeAmericaGreatAgain Trump2016 LIFE CHANGING ...            3\n",
      "2  ellenEspence Im convinced candidate realDonald...            4\n",
      "3  Dopey GeorgeWill big proponent Iraq War catast...            4\n",
      "4  election result France disappointing Europeans...            4\n"
     ]
    }
   ],
   "source": [
    "from fcmeans import FCM\n",
    "\n",
    "# Appliquer Fuzzy C-Means\n",
    "fcm = FCM(n_clusters=5)  # Choisir le nombre de clusters\n",
    "fcm.fit(distances)  # Utiliser la matrice de distances de Jaccard\n",
    "\n",
    "# Récupérer les labels de cluster (les clusters les plus probables pour chaque tweet)\n",
    "labels_fcm = fcm.predict(distances)\n",
    "\n",
    "# Ajouter les labels de cluster au DataFrame\n",
    "df['fcm_cluster'] = labels_fcm\n",
    "\n",
    "# Afficher les résultats des clusters\n",
    "print(df[['lemmatized_text', 'fcm_cluster']].head())\n"
   ]
  },
  {
   "cell_type": "markdown",
   "id": "cd29f3bb-cc95-46a5-82d4-361ed108f278",
   "metadata": {},
   "source": [
    "## Visualisation des clusters ##"
   ]
  },
  {
   "cell_type": "code",
   "execution_count": 259,
   "id": "4adbc092-48e9-42d1-9987-911d38654268",
   "metadata": {},
   "outputs": [
    {
     "data": {
      "image/png": "[encoded data removed]",
      "text/plain": [
       "<Figure size 1000x700 with 1 Axes>"
      ]
     },
     "metadata": {},
     "output_type": "display_data"
    }
   ],
   "source": [
    "from sklearn.decomposition import PCA\n",
    "import matplotlib.pyplot as plt\n",
    "\n",
    "# Réduction de dimension avec PCA (pour visualiser en 2D)\n",
    "pca = PCA(n_components=2)\n",
    "X_2d = pca.fit_transform(distances)\n",
    "\n",
    "# Ajouter les coordonnées 2D au DataFrame\n",
    "df['x'] = X_2d[:, 0]\n",
    "df['y'] = X_2d[:, 1]\n",
    "\n",
    "# Visualiser les clusters Fuzzy C-Means en 2D\n",
    "plt.figure(figsize=(10, 7))\n",
    "for cluster in range(5):  # 5 clusters\n",
    "    cluster_points = df[df['fcm_cluster'] == cluster]\n",
    "    plt.scatter(cluster_points['x'], cluster_points['y'], label=f'Cluster {cluster}')\n",
    "    \n",
    "plt.title('Clusters Fuzzy C-Means (2D)')\n",
    "plt.xlabel('Dimension 1')\n",
    "plt.ylabel('Dimension 2')\n",
    "plt.legend()\n",
    "plt.show()\n"
   ]
  },
  {
   "cell_type": "code",
   "execution_count": 261,
   "id": "f43429a1-8eaf-4c00-bdc2-63420c14d969",
   "metadata": {},
   "outputs": [
    {
     "data": {
      "application/vnd.plotly.v1+json": {
       "config": {
        "plotlyServerURL": "https://plot.ly"
       },
       "data": [
        {
         "hovertemplate": "Cluster=3<br>x_3d=%{x}<br>y_3d=%{y}<br>z_3d=%{z}<extra></extra>",
         "legendgroup": "3",
         "marker": {
          "color": "#636efa",
          "symbol": "circle"
         },
         "mode": "markers",
         "name": "3",
         "scene": "scene",
         "showlegend": true,
         "type": "scatter3d",
         "x": [
          0.34532871077914257,
          0.645268214724537,
          0.6386864261251457,
          0.04682464836350866,
          -2.6876341222472896e-05,
          0.1551367099150364,
          0.5103155878364338,
          0.5342625535582997,
          0.27725100512929696,
          0.18450289385333762,
          0.17056019921086232,
          0.11600263924414865,
          0.25793155149582264,
          0.0870054174448259,
          0.22944775455093055,
          0.6317817643838151,
          0.19092228910328102,
          0.12603181049671658,
          0.23858655528674694,
          0.5205140054485602,
          0.6414410075208893,
          0.0178572856258282,
          0.6414410075208893,
          0.11985510160690332,
          0.14156222131947108,
          0.033396285377635414,
          0.39084209099575384,
          0.3894306118245055,
          0.38719918760698824,
          0.5332502882988874,
          0.40210175699069456,
          1.0929559726945544,
          0.5458033446878144,
          0.4356846613375557,
          0.014306019625782814,
          0.293672081353667,
          0.5070051764142937,
          0.29412473613032214,
          0.24909958693670176,
          0.2326301939932655,
          0.09433265202107902,
          0.5435569102267699,
          0.5619531247613894,
          0.05428476289353102,
          0.3009166938380245,
          0.24984203744401717,
          0.025730197043853473,
          0.17675199505562567,
          0.6414410075208895,
          0.6394125923329115,
          0.24011793340143006,
          0.22883817876800416,
          0.24505076621577535,
          -0.0031200082072206526,
          0.5493363359563622,
          0.35426551346281665,
          0.638342399966709,
          0.28408328651024545,
          0.4386950085819743,
          0.6306100104831073,
          0.3531468506111105,
          0.038836469113756364,
          0.2679038229076272,
          0.5396782202431049,
          0.15721756963168174,
          0.43209021837998274,
          0.6414410075208895,
          0.11842473229756517,
          0.17386820453456447,
          0.6063453273513538,
          0.20569133479461538,
          0.4214665670449567,
          0.23904990920946695,
          0.33008900418993603,
          0.27740275295534106,
          0.6341591036972765,
          0.025493602058602027,
          0.30360864813533334,
          0.8615381394342775,
          0.9405744599306776,
          0.3505682556515828,
          0.07084986513363023,
          0.4953508115845075,
          0.3008186161473901,
          0.4272919392516452,
          0.9278706778789522,
          0.11277034878616923,
          0.2362756734613201,
          0.45789078258356486,
          0.28499645321245537,
          0.4213699662473112,
          0.6414410075208895,
          0.8615381394342775,
          0.6196088783529882,
          0.5485940597389792,
          0.036771271186561955,
          0.4916339230273841,
          0.017124952952617685,
          0.35494372592413737,
          0.06722680402273866,
          0.0021511411582793485,
          0.6383936795080066,
          1.0929559726945544,
          0.03375252898389555,
          0.558114924610134,
          0.6379040125745887,
          0.21923280180330687,
          0.03388115835878487,
          0.29470225311927184,
          0.09855947377833126,
          0.233331170105739,
          0.8615381394342774,
          0.45403489124035523,
          0.13472594126074963,
          0.40631412843987,
          0.8037095270004897,
          0.2836349236019774,
          0.3506886497483607,
          0.5036992789847082,
          0.03436356455982584,
          0.07947160778359917,
          0.6370548148250663,
          0.41911605258211077,
          0.6395766092907589,
          0.39170948728639043,
          0.019037198979460674,
          0.10784058110177944,
          0.49878691865861374,
          0.43742696367175604,
          0.34679819650516014,
          0.012652171256654176,
          0.39789835876653845,
          0.14409490995236246,
          0.11708360440001783,
          1.0929559726945544,
          0.3776110687093592,
          0.04435817845906018,
          0.31171619596162764,
          0.4807838556898875,
          0.4320482526506524,
          0.32676765813740377,
          0.5726981505536304,
          0.06681593367175707,
          0.6370548148250663,
          0.3922656714510836,
          0.9405744599306777,
          0.27343361853898085,
          0.45924452736409505,
          0.2403543060675835,
          0.018341226104102017,
          0.07506937094897426,
          0.13664564039028507,
          0.07757610502823416,
          0.8615381394342774,
          0.6414410075208895,
          0.5169088919194237,
          0.2600132450185046,
          0.03539216810822238,
          0.5313675144330093,
          0.6414410075208895,
          0.3868014817262636,
          0.3721542245765119,
          0.027404265761575928,
          0.5470507422533937,
          0.378675621296672,
          0.2330496188604321,
          0.6296708630039037,
          0.9405744599306773,
          0.06041504928513017,
          0.003138920224104686,
          0.15046146785907794,
          0.17566479340701002,
          0.6365736800397196,
          0.30796029552655413,
          0.20822396986159689,
          0.24525486648570233,
          0.5925876350663607,
          0.26727697951389845,
          0.34210074108451194,
          0.6414410075208895,
          0.2550781424419063,
          0.1046079164230934,
          0.2888721153389105,
          0.4314237919155158,
          0.038715134870157895,
          0.043103350744756366,
          0.3477263446434916,
          0.34103317460816657,
          0.6356888788905924,
          0.2795783455903054,
          0.5119292024240066,
          0.007070095796912122,
          0.22609483668398714,
          0.46410076269148015,
          -0.006281659938244796,
          0.5098981367671285
         ],
         "y": [
          -0.17387503368345839,
          -0.1255657936028216,
          -0.18578439308050046,
          -0.09285185787228854,
          -0.08919486225832403,
          0.008243118438461,
          0.023507774354895573,
          0.20782080876001102,
          -0.198544182430546,
          -0.026562971458576622,
          -0.2383763277810692,
          -0.031932270722963105,
          -0.1440174542605836,
          -0.1674653179687858,
          -0.0485208720422894,
          -0.18199500381302397,
          0.11558044270409006,
          0.011144136505165873,
          -0.05419478521667183,
          0.28489938760624056,
          -0.18225112060271892,
          -0.17304482203405352,
          -0.18225112060271895,
          -0.14011199064139948,
          -0.15636976810783118,
          -0.21438881668507873,
          -0.19910780231802505,
          -0.18478078907728282,
          -0.1756358446658398,
          -0.13589428292877045,
          -0.18518625767979038,
          -0.5410163534729724,
          0.21996334588555333,
          -0.18232713157467187,
          -0.27204196492852367,
          -0.20817717166312316,
          0.34685426676778747,
          0.0803440764246897,
          -0.0873581142300073,
          -0.09309303605473583,
          0.038756456783479214,
          0.15039292732879986,
          -0.1937125883380649,
          -0.036158711991136544,
          -0.23949195567809067,
          -0.06421278189520593,
          -0.09595846506859555,
          0.051270665822677065,
          -0.18225112060271897,
          -0.1817729287338108,
          -0.171668921272896,
          -0.2545620971977425,
          -0.11711139737220572,
          -0.12028713862220233,
          -0.17733218989714114,
          -0.209884579876737,
          -0.1847128755019027,
          0.006227520949534577,
          -0.17885939880514193,
          -0.17432370174698963,
          -0.20179903614186004,
          -0.09496808885823821,
          -0.1052150425320427,
          -0.21189802270823843,
          -0.1981908660134546,
          -0.04295126733212933,
          -0.18225112060271897,
          -0.03135417984222371,
          0.07013225069907211,
          -0.19570511341701977,
          -0.2096705125962277,
          -0.1627608409780846,
          -0.23250859344870037,
          -0.19807044134699206,
          -0.20066501156777714,
          -0.12092384037178718,
          -0.18753193013342875,
          0.11259363348319519,
          -0.3428811126000238,
          -0.41045216261875683,
          0.18632179486995884,
          -0.05224792677232223,
          0.04965071497515566,
          -0.19019350786066344,
          0.06505937598154694,
          -0.4152411908903169,
          -0.17023392616978472,
          0.014542042057015878,
          -0.1855677694107953,
          -0.01549755445799657,
          -0.1504425084013087,
          -0.18225112060271909,
          -0.34288111260002385,
          -0.133218764431663,
          -0.19471698520444813,
          -0.0740927038644003,
          0.019989214052379335,
          -0.18895616325934858,
          0.0628569986746658,
          -0.13721493252363304,
          -0.12294883803139017,
          -0.1774782663141105,
          -0.5410163534729724,
          -0.1087163155144361,
          0.10709069402030329,
          -0.17852545122064647,
          0.0642167420225136,
          -0.1441028449423861,
          -0.21644312389955123,
          -0.013215251410150602,
          -0.21279546390753998,
          -0.3428811126000239,
          -0.13212104055194257,
          0.11831068818686281,
          0.22057980468424662,
          -0.304008321680195,
          -0.19454027581882788,
          -0.15737112652166937,
          -0.18533635972787577,
          -0.14679083417340233,
          -0.09307387766395703,
          -0.19092462611597497,
          -0.18851461437438907,
          -0.18255021094857665,
          -0.1835289732758726,
          -0.167391231491474,
          -0.07674468350259357,
          -0.22808415457875958,
          0.5052479340961131,
          -0.15956203068656558,
          -0.21893540202478426,
          0.08029945085975645,
          -0.1564201653040382,
          0.018718743808501335,
          -0.5410163534729724,
          -0.16241236825465297,
          -0.17872093162757102,
          -0.1759988780301475,
          0.37198853960112105,
          -0.07322114445248634,
          0.1316462025874922,
          0.10439267889857119,
          -0.27767795977716003,
          -0.19092462611597497,
          0.43129294818007197,
          -0.41045216261875683,
          -0.19024426336883596,
          -0.11079945381931412,
          -0.1804044959927599,
          -0.20717168522535878,
          -0.14422806507418484,
          -0.018822691158466697,
          -0.11647666702133433,
          -0.3428811126000239,
          -0.182251120602719,
          -0.11430281949893457,
          -0.2791314724875717,
          -0.1362378409736324,
          0.1091253346660221,
          -0.18225112060271897,
          0.18384059187403293,
          0.16748385644752975,
          -0.0807525933120247,
          0.2746651741471517,
          -0.14942776764585372,
          -0.23191563411945576,
          -0.17792896836422123,
          -0.410452162618757,
          -0.13819316966632994,
          -0.11520541735065844,
          -0.2593521714587496,
          -0.18767210509803736,
          -0.18123741032646293,
          0.0866063246740884,
          0.1785976954826549,
          -0.1086704360009599,
          -0.18528360735565777,
          -0.20582512758055693,
          0.3813649718015839,
          -0.182251120602719,
          -0.051345182473435336,
          -0.08747113810672988,
          -0.18864400860160124,
          -0.16237062670265984,
          -0.1053469801049651,
          0.0551394863013091,
          -0.14187891750861092,
          0.09991116360192437,
          -0.1810320915741291,
          -0.1679260117693821,
          -0.22307753813005243,
          -0.1225300458902619,
          0.1669496776825964,
          -0.18137866172663483,
          -0.12626964568218843,
          -0.16050774075459526
         ],
         "z": [
          -0.20787274343178044,
          -0.21804820528059887,
          -0.215554428915181,
          -0.05046190467368289,
          -0.036008979118766965,
          -0.04736213093439506,
          -0.17103477067314507,
          -0.0811070863655659,
          -0.19282104235967362,
          -0.07547479782412925,
          -0.1750873637402911,
          -0.061388731817699375,
          -0.14908706532479166,
          -0.08475310884750784,
          -0.0879912593258937,
          -0.2126685636615092,
          -0.02383036946863691,
          -0.061398567545065924,
          -0.13578381791218636,
          -0.05541058175344241,
          -0.21241686603707677,
          -0.14445315663010444,
          -0.21241686603707677,
          -0.12747370234478309,
          -0.13722718055904515,
          -0.11515396638126335,
          -0.21941294354502444,
          -0.18688798460485628,
          -0.15181693456043074,
          -0.20032234313513095,
          -0.21423030217621886,
          1.7695075417911565,
          -0.07309441352282826,
          -0.20147149377690934,
          -0.13903816276129266,
          -0.19776862910518436,
          -0.1266843140703219,
          -0.05657606210818019,
          -0.1065257195615234,
          -0.10897966289999657,
          -0.03431168619863296,
          -0.10223059501533625,
          -0.19961641265144972,
          -0.07281575717563943,
          -0.1791666693120397,
          -0.1369907855915919,
          -0.041393093017343494,
          -0.056438807011704215,
          -0.21241686603707677,
          -0.2133400204079742,
          -0.15799729852451938,
          -0.17909239413784733,
          -0.11283740306418122,
          -0.0946870188286328,
          -0.20530110018975758,
          -0.09969687999718879,
          -0.2140466712896348,
          -0.13684696578570377,
          -0.19471897011818023,
          -0.21396725318108617,
          -0.13778865672051677,
          -0.06581765646826228,
          -0.09227229556456608,
          -0.2088479352811872,
          -0.15712961103210454,
          -0.15844029463680248,
          -0.21241686603707674,
          -0.15033046041071865,
          -0.14023956012337968,
          -0.20817111088645157,
          -0.13569741846968017,
          -0.20346617360916538,
          -0.16008367643942384,
          -0.14428016735181987,
          -0.17653375196893664,
          -0.2040067332364242,
          -0.11943537300443428,
          -0.060920615046803975,
          0.8038029040502899,
          1.1378206145411116,
          -0.1475549200800149,
          -0.0974990437140851,
          -0.16409902056282405,
          -0.15130492052153005,
          -0.1118121519912239,
          1.142763614489666,
          -0.1351134673021433,
          -0.13456015449368078,
          -0.19422502348866896,
          -0.13399383343226004,
          -0.1818283283043098,
          -0.21241686603707685,
          0.8038029040502899,
          -0.2069670848862251,
          -0.20626304201629955,
          -0.0899501947195408,
          0.21554329678831957,
          -0.07233533064611301,
          -0.13861255825042568,
          -0.05788724287400207,
          -0.12621594722554808,
          -0.21456741713997188,
          1.7695075417911565,
          -0.10052629093184791,
          -0.1142671671945082,
          -0.2093520565191538,
          -0.08388229983778223,
          -0.03858866305014122,
          -0.15962139447150978,
          -0.08912992628482655,
          -0.15845506846734456,
          0.8038029040502898,
          -0.17392197792939967,
          0.004321120061126393,
          -0.05233617258524167,
          0.6074998865285296,
          -0.19992688251039414,
          -0.1723802941741842,
          -0.197280766075682,
          -0.07991241650099506,
          -0.12484857289199555,
          -0.2207551246849009,
          -0.20566695564966067,
          -0.21218499176469033,
          -0.20596302106484357,
          -0.07088858606239745,
          -0.06645878635322022,
          0.44705482397232965,
          -0.12877457846095106,
          -0.14995692887453918,
          -0.1298127727805004,
          -0.13864578635305216,
          -0.1497150777721401,
          -0.11911302527419697,
          1.7695075417911565,
          -0.14041634292390032,
          -0.10895785196481919,
          -0.1683285911999746,
          -0.1317581384048919,
          -0.1392328779763265,
          0.24215581258708183,
          -0.11622022261778954,
          -0.14223552360153116,
          -0.22075512468490094,
          -0.07113374878445634,
          1.1378206145411118,
          -0.1736783108625357,
          -0.18338589753618967,
          -0.1792365539324014,
          -0.12106607353665039,
          -0.11635430495800658,
          -0.06603474569172298,
          -0.048509272751896704,
          0.8038029040502898,
          -0.2124168660370768,
          -0.1683728329085143,
          -0.18415370106437326,
          -0.11975387558995737,
          -0.10688027366799993,
          -0.2124168660370768,
          -0.08037855021923446,
          -0.06509798434785403,
          -0.00573980576404475,
          -0.060950729541261045,
          -0.17106226571063538,
          -0.15354371136701372,
          -0.2192361732836657,
          1.1378206145411118,
          -0.059233364326828644,
          -0.11025398424328674,
          -0.17138659300271142,
          -0.11951008272733986,
          -0.21378176890984504,
          -0.10508427045104793,
          -0.008226084569235419,
          -0.11250947801233739,
          -0.20128761868640138,
          -0.20130147370230725,
          -0.1314955449651247,
          -0.2124168660370768,
          -0.08522559666584793,
          -0.06242395908096869,
          -0.1817872863859945,
          -0.1756029291724686,
          -0.06279658950864109,
          -0.07158597163040023,
          -0.16811090784188223,
          -0.04749345743774792,
          -0.21357296721422483,
          -0.19769315313158742,
          -0.21582808822007196,
          -0.05361900691414996,
          -0.01554005541131634,
          -0.1960758074155954,
          -0.10454521252440109,
          -0.1891811091058485
         ]
        },
        {
         "hovertemplate": "Cluster=4<br>x_3d=%{x}<br>y_3d=%{y}<br>z_3d=%{z}<extra></extra>",
         "legendgroup": "4",
         "marker": {
          "color": "#EF553B",
          "symbol": "circle"
         },
         "mode": "markers",
         "name": "4",
         "scene": "scene",
         "showlegend": true,
         "type": "scatter3d",
         "x": [
          -0.04588724093252681,
          -0.4228879083625017,
          -0.19010367278883253,
          -0.14010709725281334,
          -0.5130165704794258,
          -0.4187585943412618,
          -0.5005848355299753,
          -0.323945206411392,
          -0.03470652138667911,
          -0.7181605373290881,
          -0.3266641041160612,
          -0.19281618667533898,
          -0.113550567833573,
          -0.3699071455635668,
          -0.371395808139368,
          -0.6071293718600649,
          -0.4761152155680011,
          -0.020694076978208725,
          -0.37301749633656117,
          -0.29734785720475904,
          -0.28344795619046625,
          -0.27212068757805,
          -0.20990587347313935,
          -0.31023505827458653,
          -0.3981682081953638,
          -0.1131527762811548,
          -0.10042923038317715,
          -0.2361068575593797,
          -0.18573478955480147,
          -0.4330988485592326,
          -0.0882283556018922,
          -0.03242284221520599,
          -0.31922693433279037,
          -0.16810715758873512,
          -0.10357345820111838,
          -0.4786908357958695,
          -0.05397266697212616,
          -0.1108407698813783,
          -0.4588482123695315,
          -0.3853116318349883,
          -0.4206440092903693,
          -0.29987319299455784,
          -0.6181067189853664,
          -0.06322973407179247,
          -0.5428718177961406,
          -0.6969814555876747,
          -0.5723109336441342,
          -0.3397527569807676,
          -0.39098567852352345,
          -0.4978241613744864,
          -0.5067831698550107,
          -0.18244058327991416,
          -0.16318110142663725,
          -0.6053669736175884,
          -0.01642106267593502,
          -0.1680746022665957,
          -0.16270312653296384,
          -0.1750078169567866,
          -0.2431049374380851,
          -0.05121184719188798,
          -0.7165191938829006,
          -0.5686136898706567,
          -0.15847779376962387,
          -0.02822960748503528,
          -0.46748803533745265,
          -0.05628355519440948,
          -0.5526821747312682,
          -0.493852595971904,
          -0.1314110364713179,
          -0.2011411789163058,
          -0.3250583414826258,
          -0.5332107343057403,
          -0.07162974859716437,
          -0.435643562437113,
          -0.4357904833537785,
          -0.11248954127272232,
          -0.162202343060533,
          -0.36035492542839553,
          -0.023534906982056104,
          -0.2666581205441617,
          -0.6750236803306489,
          -0.2649213982881377,
          -0.36287373324998246,
          -0.4872375557369552,
          -0.27311839789677095,
          -0.3999347098863937,
          -0.06299524210949517,
          -0.3328709149551584,
          -0.6216274958806709,
          -0.16808509627345725,
          -0.13871861690939838,
          -0.36751705470260376,
          -0.08607012354780524,
          -0.21653853924251767,
          -0.5668995115548642,
          -0.34262919990614593,
          -0.7201026730263647,
          -0.13492693930495903,
          -0.11445754138703185,
          -0.4093969206873838,
          -0.4426344552029935,
          -0.5493772573754904,
          -0.20585345146417877,
          -0.2831356243994553,
          -0.02838979794724379,
          -0.4238019597965473,
          -0.7166675215635987,
          -0.3639383561852244,
          -0.28554191975789833,
          -0.34449199949247106,
          -0.03399149187804011,
          -0.5054432256548124,
          -0.17225195729881582,
          -0.3257363861507088,
          -0.22299711553886747,
          -0.36300177555751606,
          -0.37544984248602276,
          -0.13446073249643267,
          -0.047201993486236375,
          -0.7024765511290659,
          -0.5321971119643677,
          -0.31222063684521356,
          -0.5167859063913763,
          -0.2447821306196611,
          -0.44930276021293547,
          -0.5294581469546701,
          -0.5357902897908784,
          -0.22070066177721076,
          -0.40532892783840124,
          -0.4962856676743798,
          -0.7125010651626303,
          -0.21880423514171468,
          -0.1609297271084853,
          -0.2186072491029103,
          -0.3823700724335776,
          -0.5841302555220724,
          -0.33230156995148163,
          -0.24419073478511963,
          -0.13332628437736094,
          -0.49301125378217275,
          -0.11358182239010076,
          -0.4061590126031411,
          -0.46158525123956534,
          -0.1744082601262646,
          -0.41710752814370955,
          -0.5383440739696816,
          -0.28224375643841854,
          -0.35259448711468605,
          -0.5622644965004079,
          -0.06027491846998274,
          -0.35465363204472167,
          -0.12019965108072224,
          -0.4019587438457929,
          -0.38458707389868174,
          -0.2504593483699389,
          -0.08360244881755692,
          -0.17546610373432014,
          -0.051696110140068155,
          -0.36051135911277554,
          -0.4215536618947628,
          -0.24464727444933537,
          -0.2926113482136986,
          -0.33230156995148163,
          -0.6205462767164203,
          -0.29536996357751333,
          -0.24266558331127502,
          -0.6582296543934987,
          -0.2770603232302123,
          -0.2650732286864702,
          -0.4525541871569347,
          -0.12826726404873226,
          -0.6635292184669072,
          -0.3215298912511649,
          -0.06424423331753776,
          -0.19774067137040582,
          -0.06672703506813993,
          -0.2340347020780171,
          -0.5763714988955744,
          -0.2562675734222612,
          -0.2702659130709795,
          -0.31172908602083577,
          -0.3324826293976109,
          -0.2561758052195749,
          -0.4283447032873031,
          -0.2782768860613137,
          -0.21988051846071693,
          -0.06410956856457894,
          -0.3301658332135045,
          -0.09356660948028991,
          -0.3741605903440957,
          -0.35364848855911324,
          -0.22670022454912062,
          -0.10520818046388528,
          -0.7014847356302397,
          -0.22543940358433745,
          -0.33677529696810116,
          -0.017392198034653895,
          -0.2783019443153105,
          -0.24810396508517818,
          -0.23309276688978656,
          -0.19155412009509534,
          -0.47169087816712835,
          -0.08349716225277526,
          -0.42638558085150147,
          -0.3407154680932153,
          -0.006177302060494436,
          -0.2685094536795046,
          -0.3701223445384542,
          -0.3008355874150903,
          -0.456255528185433,
          -0.6154062517084454,
          -0.4662695280480729,
          -0.4959347409474848,
          -0.09946640765562077,
          -0.47652228951698483,
          -0.5027135295868826,
          -0.28396333980773464,
          -0.03433788342847557,
          -0.5696905696913283,
          -0.15017492863755333,
          -0.20639868607072945,
          -0.4177032187331002,
          -0.06543573602896312,
          -0.6141650405878587,
          -0.43645947648144545,
          -0.20934374297451203,
          -0.4645711737498821,
          -0.33190678273746904,
          -0.17372843392075726,
          -0.4262926962648054,
          -0.08175850243552868,
          -0.0056181010216763754,
          -0.0398172744467866,
          -0.4636842737791496,
          -0.49397140031501535,
          -0.5158171871459885,
          -0.3923295367678017,
          -0.027333077648943067,
          -0.013503497663534031,
          -0.34087828117336766,
          -0.42175690894960566,
          -0.35099923303567565,
          -0.09418300106682116,
          -0.1769511024541624,
          -0.19100180957100704,
          -0.3067022133906391,
          -0.05151694732848623,
          -0.21880807259417456,
          -0.18895183372050223,
          -0.39854023002381095,
          -0.4882617530486281,
          -0.08547995152108491,
          -0.1740426317519984,
          -0.523410623585153,
          -0.49728521138106063,
          -0.5515150782773274,
          -0.07277572721035729
         ],
         "y": [
          0.06369813843975532,
          -0.05643363882522328,
          -0.11697618787530024,
          0.19357678498533065,
          -0.2032508020139137,
          -0.18310667614197532,
          -0.10994140612389157,
          0.1084718976295658,
          0.14304554542162629,
          -0.0758113210655019,
          0.16096265398825352,
          -0.1693820495644936,
          0.22966350471308247,
          0.22721575688851764,
          -0.1268827392594961,
          -0.14099301056979152,
          0.22624202037843963,
          -0.10603024273072605,
          -0.022882885545792712,
          0.17433674127452645,
          -0.09875340208823459,
          -0.023270959511088738,
          0.020543601930086468,
          -0.19663023475643546,
          -0.17152305045197824,
          0.34608070778680355,
          -0.11787939774455859,
          -0.028387100830795278,
          -0.039722891488143695,
          -0.2005117623661411,
          -0.27360004194752624,
          0.4529795760421469,
          -0.09918524114289799,
          -0.1368349306986299,
          -0.2986233625707066,
          -0.162410100478501,
          0.1692322823219504,
          -0.30973206548886745,
          -0.16006261419153928,
          -0.10771770907428932,
          -0.10403042330047169,
          -0.18334038308964581,
          -0.12469913125401333,
          0.11169190828979667,
          -0.08232397204649462,
          0.05351680924135073,
          -0.0843793438727826,
          0.013635561308501907,
          -0.1335391356186463,
          -0.1804573130507004,
          -0.12683215606073478,
          -0.15088127648981012,
          0.2800108126332077,
          -0.1415483307553812,
          -0.036642797841168404,
          -0.21732546872701977,
          0.2118454291956554,
          -0.26643929708800923,
          -0.06661086902446296,
          0.18572759815308415,
          -0.1696073440822857,
          0.09114103694256334,
          -0.11709823368337964,
          -0.07471917253829553,
          0.06106742202690108,
          0.46637729301484504,
          -0.07088633752770002,
          -0.02016304219820802,
          -0.10077983816598186,
          -0.14808141514389916,
          -0.0885269042800606,
          -0.03274758354009589,
          0.019613320515511023,
          -0.10016167539002675,
          0.8995367536487755,
          -0.026477584039549647,
          -0.15549258001593017,
          0.08810578174400746,
          0.14369968195423727,
          -0.10765664581593637,
          -0.048973339606378403,
          -0.08833902308725065,
          -0.1178942162777933,
          -0.23270453497615343,
          0.20270845191778447,
          0.18828176000312494,
          -0.18356065292154775,
          -0.0318736221258499,
          -0.00014348372927775079,
          -0.1659212914816472,
          -0.1943286098693936,
          0.338722691269374,
          -0.14425020580016726,
          -0.03982838516911178,
          0.2186892687643979,
          -0.05055765146919555,
          0.31996329033847576,
          -0.06877181651860495,
          0.3499151539078652,
          0.4308047189762012,
          -0.22226394905662433,
          -0.2180371496279753,
          -0.20042792033849718,
          -0.1541600480664004,
          -0.14592395578126469,
          -0.0037210424407593716,
          -0.2588518452141926,
          -0.1617330483327215,
          -0.03211471730161765,
          -0.09853273601775142,
          -0.044233306388680796,
          0.15943887954016392,
          0.2747104605826823,
          0.49476988509857467,
          -0.1670948821720103,
          0.024537902517826768,
          -0.20428946335654058,
          -0.12369549562106968,
          -0.23636702201595688,
          -0.15338694845808634,
          0.18088574824956155,
          -0.13424677622401596,
          -0.2255669149496506,
          -0.09210575285663056,
          -0.07883239933259639,
          0.07452727387187201,
          -0.1508141506536532,
          -0.006855763321145353,
          -0.0454510702328397,
          -0.18032989550833853,
          0.021814379292258466,
          -0.16600676648880186,
          0.2795899272901958,
          -0.04351910583780909,
          -0.18368962115161755,
          -0.17226224533673054,
          0.29579123518990713,
          -0.06420195836586391,
          -0.12132447414066462,
          -0.12629345608697679,
          0.22028118687904322,
          0.07231892165822772,
          -0.08175402844616365,
          -0.13073977224026626,
          -0.1688621879515685,
          -0.11998582576953572,
          -0.09912353964310366,
          -0.023534807121249994,
          -0.22490430111432708,
          -0.09142813997590121,
          -0.06652931165309514,
          -0.2738220050778678,
          0.23672355518077418,
          0.1955514016230142,
          0.04974551098776271,
          0.31662674789894374,
          0.6826450939435781,
          0.027792827841113525,
          -0.09258467834202953,
          -0.14554213743488606,
          0.4001719607243913,
          -0.04389133960368316,
          0.29579123518990713,
          -0.1765242107524832,
          0.5712731103947024,
          0.4839616125010697,
          -0.08258458918579628,
          0.037301102469458725,
          -0.11394552201962961,
          -0.1474298054915033,
          0.08996390403279222,
          -0.14534142187274673,
          0.04502848183497721,
          -0.0912046433986661,
          -0.146348342955474,
          -0.0933712938381859,
          -0.1167988157725517,
          -0.08926564646662506,
          -0.15078566048400846,
          0.0750766436539497,
          0.2777532103906399,
          -0.24560744063733037,
          -0.19829763096152428,
          -0.039550864364962,
          0.010995656575636626,
          -0.22786278663671172,
          0.026007987415372986,
          -0.23084146651896514,
          0.2655708024755966,
          -0.18336503894998915,
          -0.033997777871011145,
          -0.09103145572279304,
          -0.043446434064081316,
          -0.11857509311313368,
          0.1332231290880593,
          -0.13801513827626152,
          0.2314593606029032,
          -0.10956857076518824,
          -0.11233657847260105,
          -0.03222134206285173,
          -0.12341777223785344,
          0.6821040960379551,
          0.0037839304428752556,
          -0.04340504286181172,
          -0.18247522686211737,
          0.07407416591824986,
          -0.10790945868672625,
          0.09513924304270432,
          -0.09257555123717938,
          -0.061214997879748344,
          -0.2026755831383515,
          0.16283940787929138,
          -0.14596644469983386,
          0.12087322459265681,
          -0.18948073896790676,
          -0.1028626285379884,
          -0.009622454409416595,
          0.2309842687619999,
          -0.16985770246025966,
          0.9248093915443806,
          -0.15550579347871674,
          -0.14276166568287313,
          -0.02935220365859691,
          -0.21489296407472563,
          -0.11099238836644054,
          0.18224346792773669,
          -0.2272266702435954,
          -0.12286375533155694,
          -0.09919842472302047,
          0.19251542746291614,
          -0.1343591886449918,
          -0.25971250436363347,
          -0.10557062810627071,
          -0.26515756948899527,
          0.1297620512405044,
          -0.1363870865574274,
          0.05345949026848498,
          0.8112584119173157,
          -0.24443414347312614,
          -0.024066211343912146,
          -0.10742052001330679,
          0.48766697515701507,
          -0.26069452020537853,
          0.04490700787165079,
          -0.20864834028714035,
          -0.14813490461422982,
          -0.005893084205050026,
          -0.13215457425102514,
          -0.04029881148141505,
          0.013477631018635538,
          0.37598367191792603,
          -0.16732011352032222,
          -0.061486820566597315,
          -0.09366689316719412,
          -0.14082137734554037,
          -0.056060944340645714,
          0.17622110465974808
         ],
         "z": [
          -0.004069857314779417,
          0.05298579129020738,
          -0.05655270282134942,
          0.04116197564988135,
          0.04865063310981262,
          0.021140098760485868,
          8.165098101432412e-05,
          0.039379726171725804,
          -0.055864699840423436,
          0.08359187290110648,
          0.12380374665994674,
          -0.061224696119307705,
          0.07511823475264602,
          0.11559675165817801,
          0.03481382173536283,
          0.06218547302060653,
          0.07574063556883083,
          -0.033597781014373475,
          0.01618278817756869,
          0.1399005264444171,
          0.024403582699741008,
          0.05401986582864405,
          0.06027268355592685,
          -0.025221527281472624,
          0.036669555116652,
          0.09854065239766226,
          -0.0023372976349963714,
          0.027299184939310325,
          -0.015360823335008114,
          -0.015042228601496618,
          -0.091893770002198,
          0.050657460692640585,
          -0.04719161773540416,
          0.012184508671377763,
          -0.15708247537690145,
          -0.005299006096325957,
          0.04381935639059055,
          -0.11244525893086127,
          -0.005146103280784847,
          0.028499420072379704,
          0.05917585979433573,
          0.00898703505528992,
          0.08115385423183852,
          -0.09561579132587694,
          0.09512322644721448,
          0.09401977164013484,
          0.04872311222148004,
          0.05726234373363395,
          0.06442298323697003,
          0.06204513647061463,
          0.03650081152843209,
          -0.035141022039893464,
          0.007613644443044451,
          0.05579008964484384,
          -0.025927003809532678,
          -0.02950685297362064,
          -0.006289955177401296,
          -0.13262908600133316,
          -0.05430138551396689,
          0.0702047059794759,
          0.07777595384078874,
          0.12974196507416755,
          -0.0400687289845286,
          -0.04057806371611548,
          0.0652859290944835,
          0.08991062467953688,
          0.06688368453948267,
          0.05165485525892953,
          -0.014648459648280198,
          -0.03146228090173516,
          0.020955450332289634,
          0.037693069598761134,
          -0.0756274975234633,
          0.09185705895712314,
          0.25338701591880114,
          -0.015909663539569036,
          -0.0587585885903948,
          0.08433264735728702,
          0.04022425490244797,
          0.0045314198346564066,
          0.11809570161882404,
          -0.001715871456770796,
          -0.022957177940785813,
          0.03913804677893396,
          0.5094084186850989,
          0.10084915994254061,
          -0.09548089242100105,
          0.067109386527659,
          0.09372211711606762,
          -0.008457839526163921,
          -0.034988503585845016,
          0.11807502742272008,
          -0.07179260421070033,
          0.009185353216788145,
          0.11125940669808622,
          -0.006795266861078731,
          0.20891744938134382,
          -0.044845867334158504,
          0.038181504823247635,
          0.14968229455429483,
          -0.009831785362848606,
          0.04445497064041389,
          -0.01452070162935401,
          0.018788030150458455,
          -0.10591029459256719,
          0.09769520622274586,
          0.029435529453894466,
          0.022068980626213208,
          0.04943300424397692,
          -0.001022582960794879,
          -0.009532546249402854,
          0.17270632380094997,
          0.1509166000726433,
          0.4291350023548342,
          -0.019422879448552567,
          0.0689908610112806,
          0.008415184482957184,
          -0.04048778996621089,
          -0.12921631421442117,
          0.05632127276651673,
          0.17309174529466387,
          0.0098663287665817,
          -0.0043581379725815,
          0.002912365478273579,
          -0.020511346591739737,
          0.06494512562471429,
          0.03140738646938913,
          0.024086797074363092,
          0.07421205653996672,
          0.0216739007105784,
          0.07198363270472716,
          0.006575538594263747,
          0.11152896116100323,
          0.0005928605723665715,
          -0.02123661046896774,
          0.04433111191617679,
          0.14784653761299135,
          0.05710512454859598,
          -0.022673057915645636,
          0.041956363946104046,
          0.35043585829351953,
          0.10590901474626442,
          0.019773185405911754,
          -0.006954336595045038,
          -0.013544266735641238,
          0.07963702140299349,
          0.045037119606850605,
          0.05066693787425904,
          0.02203923827495922,
          -0.0031423091138931703,
          0.03245836639665659,
          -0.15037780552883678,
          0.1480214907178459,
          0.12337067742075795,
          0.03938548907253581,
          0.05063582434897957,
          0.14929483294724055,
          -0.021212240013260993,
          0.06398265297812447,
          0.013307917328003082,
          0.1297705356111104,
          0.05482987574752214,
          0.14784653761299135,
          0.04444235811514785,
          0.16901960055906803,
          0.17957312098737616,
          0.09069888633992566,
          0.08231323204912391,
          0.004586793045442713,
          0.054810145374767465,
          0.000685978459997611,
          0.08002816972319664,
          0.09078642637399054,
          -0.03510449603630117,
          -0.045507533454115706,
          -0.09341255862299225,
          -0.026927541883429062,
          0.06659634048597218,
          0.001756471724843397,
          0.026957513600891655,
          0.10291157033378276,
          -0.017167186314973097,
          -0.02645046412783329,
          0.08179459209871846,
          0.0376932870045195,
          -0.04592242126998309,
          -0.009453350334407412,
          0.004479731122392323,
          -0.06202586556451996,
          0.017830089978231718,
          0.052484380701732065,
          -0.00730944994934752,
          -0.06920702165234766,
          0.058623694297551585,
          0.08301852676272939,
          -0.00485876179366421,
          0.009070172925262918,
          0.02053349463614903,
          0.3042975793709109,
          0.05081540846184935,
          0.022827046256099787,
          0.21153563127213204,
          0.0006056101078937638,
          0.058244278447024615,
          0.001797175006206067,
          0.007301889041480649,
          0.012633007647438995,
          0.04874440162981972,
          0.060645996548863226,
          0.052695674999052325,
          0.02118691928891399,
          0.15162172442110283,
          -0.00313991184405421,
          -0.041171811598551,
          0.03880864706401799,
          0.05182548013533392,
          -0.016433652784968958,
          0.04709991666335554,
          0.04796255842914996,
          0.12657387474864076,
          -0.018454290873547736,
          0.030134049872622304,
          -0.0325451587201555,
          0.0319661130692102,
          0.05244005508401217,
          0.016247317731097208,
          0.01644940320906826,
          0.00964178357131672,
          0.006717386134289604,
          0.18178679166648284,
          -0.04234319206733572,
          -0.13716406879359064,
          -0.06693770847892698,
          -0.029573184069980177,
          0.15200203069025656,
          0.0313922608823523,
          0.007223165217891713,
          0.158651326526156,
          -0.14492651018514896,
          0.05038960942726482,
          0.05944445709744281,
          0.11753088186305988,
          -0.11293211058559463,
          -0.05975605044467476,
          -0.03342068368910114,
          0.004155492878424398,
          -0.0704609784533711,
          0.0766648983615421,
          0.023367947982311763,
          0.08298028668157438,
          0.14331332893398094,
          -0.06109729811582496,
          0.005074032902797922,
          0.06283585777476229,
          0.06900943617489665,
          0.04366775852188118,
          0.2295498019782451
         ]
        },
        {
         "hovertemplate": "Cluster=0<br>x_3d=%{x}<br>y_3d=%{y}<br>z_3d=%{z}<extra></extra>",
         "legendgroup": "0",
         "marker": {
          "color": "#00cc96",
          "symbol": "circle"
         },
         "mode": "markers",
         "name": "0",
         "scene": "scene",
         "showlegend": true,
         "type": "scatter3d",
         "x": [
          0.2844823479314078,
          0.29814792879880603,
          0.3640997835397288,
          0.35306337388009545,
          0.5853368575052681,
          0.31475945846593295,
          0.6118853844726618,
          0.07865382119683977,
          0.28603875221970876,
          0.6118853844726618,
          0.22717932807172292,
          0.15008563750551188,
          0.6155617041329681,
          0.18903704600471666,
          0.6123715870596875,
          0.6118853844726618,
          0.199497743519872,
          0.07017037356427769,
          0.21981130057420106,
          0.22822907736225156,
          0.03765996189894451,
          0.16047973204830632,
          0.23139796339590693,
          0.10487963838255555,
          0.21428803907882177,
          0.10300269230707314,
          0.3243558636427578,
          0.14519917297957877,
          0.1614685229303533,
          0.031945164337998044,
          0.15103319789849765,
          0.07142842067823636,
          0.048582442762267496,
          0.30734310739447623,
          0.043651213057977055,
          0.012179852551104592,
          0.03519134604528988,
          0.008910489770712977,
          0.09258051553939542,
          -0.013415682998553889,
          0.3413134639787502,
          0.048564657081172885,
          0.0761282491285378,
          0.36295985803205366,
          0.1172837105858843,
          0.30548798967391255,
          0.0965800905007432
         ],
         "y": [
          0.34877356397748327,
          0.32117634507803866,
          0.7369432341207208,
          1.0196484496414557,
          0.7421669200902388,
          0.42901949819529955,
          0.9144182288048409,
          0.8588936124519355,
          0.6940112294056029,
          0.914418228804841,
          0.22402451443288923,
          0.603662003237599,
          0.8573361085715162,
          0.3979192383115553,
          0.7753650264223183,
          0.9144182288048411,
          0.24277854516057215,
          0.08805195864948212,
          0.5007281627873922,
          0.3443316896464267,
          0.4932247954686813,
          0.22117292718744272,
          0.39674181753210525,
          0.23797329193429245,
          0.6572628898234059,
          0.33638183182711284,
          0.5636564219386084,
          0.6071513669043026,
          0.4764822531030631,
          0.12467894024528349,
          0.5949317770642868,
          0.4585477407911443,
          0.7781791736578352,
          0.4142100863493785,
          0.25369614625318077,
          0.4565057089201792,
          0.41511390062231907,
          0.3823909133071639,
          0.5987971878933909,
          0.20872780619791903,
          1.255364811370616,
          0.1578286249778495,
          0.16487769431953386,
          1.2772943173722444,
          0.6406606221433828,
          0.6991491267990279,
          0.16215364446517574
         ],
         "z": [
          -0.07047683375940184,
          -0.00601692311205202,
          9.398140914661122e-05,
          0.051162264396609154,
          -0.11885916718474075,
          -0.045831417769341264,
          -0.11190946392687896,
          0.10971039716178217,
          0.002177122740775116,
          -0.11190946392687894,
          0.006359454574635608,
          -0.006215520457877552,
          -0.12354598058850284,
          -0.010476502710040995,
          -0.129105945927973,
          -0.111909463926879,
          0.2689546188720264,
          -0.0309960905715602,
          4.1520153299826686e-05,
          0.0006608601664311812,
          0.010891456626914701,
          0.3530171523565643,
          -0.052598686414625846,
          0.00399498015304846,
          0.3150225144493976,
          -0.04336696872705149,
          -0.009547264973807423,
          0.007737357510942458,
          0.03506735225336009,
          -0.03730834720516872,
          0.0458305249961952,
          0.017836666244676506,
          0.10062752805794775,
          -0.05620187594711418,
          0.09230595936601274,
          0.05430713861558651,
          0.30766346110037945,
          0.038620821280458476,
          0.08123585191826939,
          0.03565310961520653,
          0.059968143780130864,
          0.04519176350054427,
          -0.09708461596106602,
          0.05983748562970423,
          0.3564791587708164,
          0.010293664891014012,
          -0.06610671543675205
         ]
        }
       ],
       "layout": {
        "autosize": true,
        "legend": {
         "title": {
          "text": "Cluster"
         },
         "tracegroupgap": 0
        },
        "scene": {
         "aspectmode": "auto",
         "aspectratio": {
          "x": 0.9684601164215192,
          "y": 0.971265528632167,
          "z": 1.0631150946131618
         },
         "camera": {
          "center": {
           "x": 0,
           "y": 0,
           "z": 0
          },
          "eye": {
           "x": 0.6380277276337734,
           "y": 0.6380277276337732,
           "z": 0.6380277276337734
          },
          "projection": {
           "type": "perspective"
          },
          "up": {
           "x": 0,
           "y": 0,
           "z": 1
          }
         },
         "domain": {
          "x": [
           0,
           1
          ],
          "y": [
           0,
           1
          ]
         },
         "xaxis": {
          "title": {
           "text": "x_3d"
          },
          "type": "linear"
         },
         "yaxis": {
          "title": {
           "text": "y_3d"
          },
          "type": "linear"
         },
         "zaxis": {
          "title": {
           "text": "z_3d"
          },
          "type": "linear"
         }
        },
        "template": {
         "data": {
          "bar": [
           {
            "error_x": {
             "color": "#2a3f5f"
            },
            "error_y": {
             "color": "#2a3f5f"
            },
            "marker": {
             "line": {
              "color": "#E5ECF6",
              "width": 0.5
             },
             "pattern": {
              "fillmode": "overlay",
              "size": 10,
              "solidity": 0.2
             }
            },
            "type": "bar"
           }
          ],
          "barpolar": [
           {
            "marker": {
             "line": {
              "color": "#E5ECF6",
              "width": 0.5
             },
             "pattern": {
              "fillmode": "overlay",
              "size": 10,
              "solidity": 0.2
             }
            },
            "type": "barpolar"
           }
          ],
          "carpet": [
           {
            "aaxis": {
             "endlinecolor": "#2a3f5f",
             "gridcolor": "white",
             "linecolor": "white",
             "minorgridcolor": "white",
             "startlinecolor": "#2a3f5f"
            },
            "baxis": {
             "endlinecolor": "#2a3f5f",
             "gridcolor": "white",
             "linecolor": "white",
             "minorgridcolor": "white",
             "startlinecolor": "#2a3f5f"
            },
            "type": "carpet"
           }
          ],
          "choropleth": [
           {
            "colorbar": {
             "outlinewidth": 0,
             "ticks": ""
            },
            "type": "choropleth"
           }
          ],
          "contour": [
           {
            "colorbar": {
             "outlinewidth": 0,
             "ticks": ""
            },
            "colorscale": [
             [
              0,
              "#0d0887"
             ],
             [
              0.1111111111111111,
              "#46039f"
             ],
             [
              0.2222222222222222,
              "#7201a8"
             ],
             [
              0.3333333333333333,
              "#9c179e"
             ],
             [
              0.4444444444444444,
              "#bd3786"
             ],
             [
              0.5555555555555556,
              "#d8576b"
             ],
             [
              0.6666666666666666,
              "#ed7953"
             ],
             [
              0.7777777777777778,
              "#fb9f3a"
             ],
             [
              0.8888888888888888,
              "#fdca26"
             ],
             [
              1,
              "#f0f921"
             ]
            ],
            "type": "contour"
           }
          ],
          "contourcarpet": [
           {
            "colorbar": {
             "outlinewidth": 0,
             "ticks": ""
            },
            "type": "contourcarpet"
           }
          ],
          "heatmap": [
           {
            "colorbar": {
             "outlinewidth": 0,
             "ticks": ""
            },
            "colorscale": [
             [
              0,
              "#0d0887"
             ],
             [
              0.1111111111111111,
              "#46039f"
             ],
             [
              0.2222222222222222,
              "#7201a8"
             ],
             [
              0.3333333333333333,
              "#9c179e"
             ],
             [
              0.4444444444444444,
              "#bd3786"
             ],
             [
              0.5555555555555556,
              "#d8576b"
             ],
             [
              0.6666666666666666,
              "#ed7953"
             ],
             [
              0.7777777777777778,
              "#fb9f3a"
             ],
             [
              0.8888888888888888,
              "#fdca26"
             ],
             [
              1,
              "#f0f921"
             ]
            ],
            "type": "heatmap"
           }
          ],
          "heatmapgl": [
           {
            "colorbar": {
             "outlinewidth": 0,
             "ticks": ""
            },
            "colorscale": [
             [
              0,
              "#0d0887"
             ],
             [
              0.1111111111111111,
              "#46039f"
             ],
             [
              0.2222222222222222,
              "#7201a8"
             ],
             [
              0.3333333333333333,
              "#9c179e"
             ],
             [
              0.4444444444444444,
              "#bd3786"
             ],
             [
              0.5555555555555556,
              "#d8576b"
             ],
             [
              0.6666666666666666,
              "#ed7953"
             ],
             [
              0.7777777777777778,
              "#fb9f3a"
             ],
             [
              0.8888888888888888,
              "#fdca26"
             ],
             [
              1,
              "#f0f921"
             ]
            ],
            "type": "heatmapgl"
           }
          ],
          "histogram": [
           {
            "marker": {
             "pattern": {
              "fillmode": "overlay",
              "size": 10,
              "solidity": 0.2
             }
            },
            "type": "histogram"
           }
          ],
          "histogram2d": [
           {
            "colorbar": {
             "outlinewidth": 0,
             "ticks": ""
            },
            "colorscale": [
             [
              0,
              "#0d0887"
             ],
             [
              0.1111111111111111,
              "#46039f"
             ],
             [
              0.2222222222222222,
              "#7201a8"
             ],
             [
              0.3333333333333333,
              "#9c179e"
             ],
             [
              0.4444444444444444,
              "#bd3786"
             ],
             [
              0.5555555555555556,
              "#d8576b"
             ],
             [
              0.6666666666666666,
              "#ed7953"
             ],
             [
              0.7777777777777778,
              "#fb9f3a"
             ],
             [
              0.8888888888888888,
              "#fdca26"
             ],
             [
              1,
              "#f0f921"
             ]
            ],
            "type": "histogram2d"
           }
          ],
          "histogram2dcontour": [
           {
            "colorbar": {
             "outlinewidth": 0,
             "ticks": ""
            },
            "colorscale": [
             [
              0,
              "#0d0887"
             ],
             [
              0.1111111111111111,
              "#46039f"
             ],
             [
              0.2222222222222222,
              "#7201a8"
             ],
             [
              0.3333333333333333,
              "#9c179e"
             ],
             [
              0.4444444444444444,
              "#bd3786"
             ],
             [
              0.5555555555555556,
              "#d8576b"
             ],
             [
              0.6666666666666666,
              "#ed7953"
             ],
             [
              0.7777777777777778,
              "#fb9f3a"
             ],
             [
              0.8888888888888888,
              "#fdca26"
             ],
             [
              1,
              "#f0f921"
             ]
            ],
            "type": "histogram2dcontour"
           }
          ],
          "mesh3d": [
           {
            "colorbar": {
             "outlinewidth": 0,
             "ticks": ""
            },
            "type": "mesh3d"
           }
          ],
          "parcoords": [
           {
            "line": {
             "colorbar": {
              "outlinewidth": 0,
              "ticks": ""
             }
            },
            "type": "parcoords"
           }
          ],
          "pie": [
           {
            "automargin": true,
            "type": "pie"
           }
          ],
          "scatter": [
           {
            "fillpattern": {
             "fillmode": "overlay",
             "size": 10,
             "solidity": 0.2
            },
            "type": "scatter"
           }
          ],
          "scatter3d": [
           {
            "line": {
             "colorbar": {
              "outlinewidth": 0,
              "ticks": ""
             }
            },
            "marker": {
             "colorbar": {
              "outlinewidth": 0,
              "ticks": ""
             }
            },
            "type": "scatter3d"
           }
          ],
          "scattercarpet": [
           {
            "marker": {
             "colorbar": {
              "outlinewidth": 0,
              "ticks": ""
             }
            },
            "type": "scattercarpet"
           }
          ],
          "scattergeo": [
           {
            "marker": {
             "colorbar": {
              "outlinewidth": 0,
              "ticks": ""
             }
            },
            "type": "scattergeo"
           }
          ],
          "scattergl": [
           {
            "marker": {
             "colorbar": {
              "outlinewidth": 0,
              "ticks": ""
             }
            },
            "type": "scattergl"
           }
          ],
          "scattermapbox": [
           {
            "marker": {
             "colorbar": {
              "outlinewidth": 0,
              "ticks": ""
             }
            },
            "type": "scattermapbox"
           }
          ],
          "scatterpolar": [
           {
            "marker": {
             "colorbar": {
              "outlinewidth": 0,
              "ticks": ""
             }
            },
            "type": "scatterpolar"
           }
          ],
          "scatterpolargl": [
           {
            "marker": {
             "colorbar": {
              "outlinewidth": 0,
              "ticks": ""
             }
            },
            "type": "scatterpolargl"
           }
          ],
          "scatterternary": [
           {
            "marker": {
             "colorbar": {
              "outlinewidth": 0,
              "ticks": ""
             }
            },
            "type": "scatterternary"
           }
          ],
          "surface": [
           {
            "colorbar": {
             "outlinewidth": 0,
             "ticks": ""
            },
            "colorscale": [
             [
              0,
              "#0d0887"
             ],
             [
              0.1111111111111111,
              "#46039f"
             ],
             [
              0.2222222222222222,
              "#7201a8"
             ],
             [
              0.3333333333333333,
              "#9c179e"
             ],
             [
              0.4444444444444444,
              "#bd3786"
             ],
             [
              0.5555555555555556,
              "#d8576b"
             ],
             [
              0.6666666666666666,
              "#ed7953"
             ],
             [
              0.7777777777777778,
              "#fb9f3a"
             ],
             [
              0.8888888888888888,
              "#fdca26"
             ],
             [
              1,
              "#f0f921"
             ]
            ],
            "type": "surface"
           }
          ],
          "table": [
           {
            "cells": {
             "fill": {
              "color": "#EBF0F8"
             },
             "line": {
              "color": "white"
             }
            },
            "header": {
             "fill": {
              "color": "#C8D4E3"
             },
             "line": {
              "color": "white"
             }
            },
            "type": "table"
           }
          ]
         },
         "layout": {
          "annotationdefaults": {
           "arrowcolor": "#2a3f5f",
           "arrowhead": 0,
           "arrowwidth": 1
          },
          "autotypenumbers": "strict",
          "coloraxis": {
           "colorbar": {
            "outlinewidth": 0,
            "ticks": ""
           }
          },
          "colorscale": {
           "diverging": [
            [
             0,
             "#8e0152"
            ],
            [
             0.1,
             "#c51b7d"
            ],
            [
             0.2,
             "#de77ae"
            ],
            [
             0.3,
             "#f1b6da"
            ],
            [
             0.4,
             "#fde0ef"
            ],
            [
             0.5,
             "#f7f7f7"
            ],
            [
             0.6,
             "#e6f5d0"
            ],
            [
             0.7,
             "#b8e186"
            ],
            [
             0.8,
             "#7fbc41"
            ],
            [
             0.9,
             "#4d9221"
            ],
            [
             1,
             "#276419"
            ]
           ],
           "sequential": [
            [
             0,
             "#0d0887"
            ],
            [
             0.1111111111111111,
             "#46039f"
            ],
            [
             0.2222222222222222,
             "#7201a8"
            ],
            [
             0.3333333333333333,
             "#9c179e"
            ],
            [
             0.4444444444444444,
             "#bd3786"
            ],
            [
             0.5555555555555556,
             "#d8576b"
            ],
            [
             0.6666666666666666,
             "#ed7953"
            ],
            [
             0.7777777777777778,
             "#fb9f3a"
            ],
            [
             0.8888888888888888,
             "#fdca26"
            ],
            [
             1,
             "#f0f921"
            ]
           ],
           "sequentialminus": [
            [
             0,
             "#0d0887"
            ],
            [
             0.1111111111111111,
             "#46039f"
            ],
            [
             0.2222222222222222,
             "#7201a8"
            ],
            [
             0.3333333333333333,
             "#9c179e"
            ],
            [
             0.4444444444444444,
             "#bd3786"
            ],
            [
             0.5555555555555556,
             "#d8576b"
            ],
            [
             0.6666666666666666,
             "#ed7953"
            ],
            [
             0.7777777777777778,
             "#fb9f3a"
            ],
            [
             0.8888888888888888,
             "#fdca26"
            ],
            [
             1,
             "#f0f921"
            ]
           ]
          },
          "colorway": [
           "#636efa",
           "#EF553B",
           "#00cc96",
           "#ab63fa",
           "#FFA15A",
           "#19d3f3",
           "#FF6692",
           "#B6E880",
           "#FF97FF",
           "#FECB52"
          ],
          "font": {
           "color": "#2a3f5f"
          },
          "geo": {
           "bgcolor": "white",
           "lakecolor": "white",
           "landcolor": "#E5ECF6",
           "showlakes": true,
           "showland": true,
           "subunitcolor": "white"
          },
          "hoverlabel": {
           "align": "left"
          },
          "hovermode": "closest",
          "mapbox": {
           "style": "light"
          },
          "paper_bgcolor": "white",
          "plot_bgcolor": "#E5ECF6",
          "polar": {
           "angularaxis": {
            "gridcolor": "white",
            "linecolor": "white",
            "ticks": ""
           },
           "bgcolor": "#E5ECF6",
           "radialaxis": {
            "gridcolor": "white",
            "linecolor": "white",
            "ticks": ""
           }
          },
          "scene": {
           "xaxis": {
            "backgroundcolor": "#E5ECF6",
            "gridcolor": "white",
            "gridwidth": 2,
            "linecolor": "white",
            "showbackground": true,
            "ticks": "",
            "zerolinecolor": "white"
           },
           "yaxis": {
            "backgroundcolor": "#E5ECF6",
            "gridcolor": "white",
            "gridwidth": 2,
            "linecolor": "white",
            "showbackground": true,
            "ticks": "",
            "zerolinecolor": "white"
           },
           "zaxis": {
            "backgroundcolor": "#E5ECF6",
            "gridcolor": "white",
            "gridwidth": 2,
            "linecolor": "white",
            "showbackground": true,
            "ticks": "",
            "zerolinecolor": "white"
           }
          },
          "shapedefaults": {
           "line": {
            "color": "#2a3f5f"
           }
          },
          "ternary": {
           "aaxis": {
            "gridcolor": "white",
            "linecolor": "white",
            "ticks": ""
           },
           "baxis": {
            "gridcolor": "white",
            "linecolor": "white",
            "ticks": ""
           },
           "bgcolor": "#E5ECF6",
           "caxis": {
            "gridcolor": "white",
            "linecolor": "white",
            "ticks": ""
           }
          },
          "title": {
           "x": 0.05
          },
          "xaxis": {
           "automargin": true,
           "gridcolor": "white",
           "linecolor": "white",
           "ticks": "",
           "title": {
            "standoff": 15
           },
           "zerolinecolor": "white",
           "zerolinewidth": 2
          },
          "yaxis": {
           "automargin": true,
           "gridcolor": "white",
           "linecolor": "white",
           "ticks": "",
           "title": {
            "standoff": 15
           },
           "zerolinecolor": "white",
           "zerolinewidth": 2
          }
         }
        },
        "title": {
         "text": "Clusters Fuzzy C-Means (3D)"
        }
       }
      },
      "image/png": "[encoded data removed]",
      "text/html": [
       "<div>                            <div id=\"b863de8c-c5a4-4c92-afee-1b0899062478\" class=\"plotly-graph-div\" style=\"height:525px; width:100%;\"></div>            <script type=\"text/javascript\">                require([\"plotly\"], function(Plotly) {                    window.PLOTLYENV=window.PLOTLYENV || {};                                    if (document.getElementById(\"b863de8c-c5a4-4c92-afee-1b0899062478\")) {                    Plotly.newPlot(                        \"b863de8c-c5a4-4c92-afee-1b0899062478\",                        [{\"hovertemplate\":\"Cluster=3\\u003cbr\\u003ex_3d=%{x}\\u003cbr\\u003ey_3d=%{y}\\u003cbr\\u003ez_3d=%{z}\\u003cextra\\u003e\\u003c\\u002fextra\\u003e\",\"legendgroup\":\"3\",\"marker\":{\"color\":\"#636efa\",\"symbol\":\"circle\"},\"mode\":\"markers\",\"name\":\"3\",\"scene\":\"scene\",\"showlegend\":true,\"x\":[0.34532871077914257,0.645268214724537,0.6386864261251457,0.04682464836350866,-2.6876341222472896e-05,0.1551367099150364,0.5103155878364338,0.5342625535582997,0.27725100512929696,0.18450289385333762,0.17056019921086232,0.11600263924414865,0.25793155149582264,0.0870054174448259,0.22944775455093055,0.6317817643838151,0.19092228910328102,0.12603181049671658,0.23858655528674694,0.5205140054485602,0.6414410075208893,0.0178572856258282,0.6414410075208893,0.11985510160690332,0.14156222131947108,0.033396285377635414,0.39084209099575384,0.3894306118245055,0.38719918760698824,0.5332502882988874,0.40210175699069456,1.0929559726945544,0.5458033446878144,0.4356846613375557,0.014306019625782814,0.293672081353667,0.5070051764142937,0.29412473613032214,0.24909958693670176,0.2326301939932655,0.09433265202107902,0.5435569102267699,0.5619531247613894,0.05428476289353102,0.3009166938380245,0.24984203744401717,0.025730197043853473,0.17675199505562567,0.6414410075208895,0.6394125923329115,0.24011793340143006,0.22883817876800416,0.24505076621577535,-0.0031200082072206526,0.5493363359563622,0.35426551346281665,0.638342399966709,0.28408328651024545,0.4386950085819743,0.6306100104831073,0.3531468506111105,0.038836469113756364,0.2679038229076272,0.5396782202431049,0.15721756963168174,0.43209021837998274,0.6414410075208895,0.11842473229756517,0.17386820453456447,0.6063453273513538,0.20569133479461538,0.4214665670449567,0.23904990920946695,0.33008900418993603,0.27740275295534106,0.6341591036972765,0.025493602058602027,0.30360864813533334,0.8615381394342775,0.9405744599306776,0.3505682556515828,0.07084986513363023,0.4953508115845075,0.3008186161473901,0.4272919392516452,0.9278706778789522,0.11277034878616923,0.2362756734613201,0.45789078258356486,0.28499645321245537,0.4213699662473112,0.6414410075208895,0.8615381394342775,0.6196088783529882,0.5485940597389792,0.036771271186561955,0.4916339230273841,0.017124952952617685,0.35494372592413737,0.06722680402273866,0.0021511411582793485,0.6383936795080066,1.0929559726945544,0.03375252898389555,0.558114924610134,0.6379040125745887,0.21923280180330687,0.03388115835878487,0.29470225311927184,0.09855947377833126,0.233331170105739,0.8615381394342774,0.45403489124035523,0.13472594126074963,0.40631412843987,0.8037095270004897,0.2836349236019774,0.3506886497483607,0.5036992789847082,0.03436356455982584,0.07947160778359917,0.6370548148250663,0.41911605258211077,0.6395766092907589,0.39170948728639043,0.019037198979460674,0.10784058110177944,0.49878691865861374,0.43742696367175604,0.34679819650516014,0.012652171256654176,0.39789835876653845,0.14409490995236246,0.11708360440001783,1.0929559726945544,0.3776110687093592,0.04435817845906018,0.31171619596162764,0.4807838556898875,0.4320482526506524,0.32676765813740377,0.5726981505536304,0.06681593367175707,0.6370548148250663,0.3922656714510836,0.9405744599306777,0.27343361853898085,0.45924452736409505,0.2403543060675835,0.018341226104102017,0.07506937094897426,0.13664564039028507,0.07757610502823416,0.8615381394342774,0.6414410075208895,0.5169088919194237,0.2600132450185046,0.03539216810822238,0.5313675144330093,0.6414410075208895,0.3868014817262636,0.3721542245765119,0.027404265761575928,0.5470507422533937,0.378675621296672,0.2330496188604321,0.6296708630039037,0.9405744599306773,0.06041504928513017,0.003138920224104686,0.15046146785907794,0.17566479340701002,0.6365736800397196,0.30796029552655413,0.20822396986159689,0.24525486648570233,0.5925876350663607,0.26727697951389845,0.34210074108451194,0.6414410075208895,0.2550781424419063,0.1046079164230934,0.2888721153389105,0.4314237919155158,0.038715134870157895,0.043103350744756366,0.3477263446434916,0.34103317460816657,0.6356888788905924,0.2795783455903054,0.5119292024240066,0.007070095796912122,0.22609483668398714,0.46410076269148015,-0.006281659938244796,0.5098981367671285],\"y\":[-0.17387503368345839,-0.1255657936028216,-0.18578439308050046,-0.09285185787228854,-0.08919486225832403,0.008243118438461,0.023507774354895573,0.20782080876001102,-0.198544182430546,-0.026562971458576622,-0.2383763277810692,-0.031932270722963105,-0.1440174542605836,-0.1674653179687858,-0.0485208720422894,-0.18199500381302397,0.11558044270409006,0.011144136505165873,-0.05419478521667183,0.28489938760624056,-0.18225112060271892,-0.17304482203405352,-0.18225112060271895,-0.14011199064139948,-0.15636976810783118,-0.21438881668507873,-0.19910780231802505,-0.18478078907728282,-0.1756358446658398,-0.13589428292877045,-0.18518625767979038,-0.5410163534729724,0.21996334588555333,-0.18232713157467187,-0.27204196492852367,-0.20817717166312316,0.34685426676778747,0.0803440764246897,-0.0873581142300073,-0.09309303605473583,0.038756456783479214,0.15039292732879986,-0.1937125883380649,-0.036158711991136544,-0.23949195567809067,-0.06421278189520593,-0.09595846506859555,0.051270665822677065,-0.18225112060271897,-0.1817729287338108,-0.171668921272896,-0.2545620971977425,-0.11711139737220572,-0.12028713862220233,-0.17733218989714114,-0.209884579876737,-0.1847128755019027,0.006227520949534577,-0.17885939880514193,-0.17432370174698963,-0.20179903614186004,-0.09496808885823821,-0.1052150425320427,-0.21189802270823843,-0.1981908660134546,-0.04295126733212933,-0.18225112060271897,-0.03135417984222371,0.07013225069907211,-0.19570511341701977,-0.2096705125962277,-0.1627608409780846,-0.23250859344870037,-0.19807044134699206,-0.20066501156777714,-0.12092384037178718,-0.18753193013342875,0.11259363348319519,-0.3428811126000238,-0.41045216261875683,0.18632179486995884,-0.05224792677232223,0.04965071497515566,-0.19019350786066344,0.06505937598154694,-0.4152411908903169,-0.17023392616978472,0.014542042057015878,-0.1855677694107953,-0.01549755445799657,-0.1504425084013087,-0.18225112060271909,-0.34288111260002385,-0.133218764431663,-0.19471698520444813,-0.0740927038644003,0.019989214052379335,-0.18895616325934858,0.0628569986746658,-0.13721493252363304,-0.12294883803139017,-0.1774782663141105,-0.5410163534729724,-0.1087163155144361,0.10709069402030329,-0.17852545122064647,0.0642167420225136,-0.1441028449423861,-0.21644312389955123,-0.013215251410150602,-0.21279546390753998,-0.3428811126000239,-0.13212104055194257,0.11831068818686281,0.22057980468424662,-0.304008321680195,-0.19454027581882788,-0.15737112652166937,-0.18533635972787577,-0.14679083417340233,-0.09307387766395703,-0.19092462611597497,-0.18851461437438907,-0.18255021094857665,-0.1835289732758726,-0.167391231491474,-0.07674468350259357,-0.22808415457875958,0.5052479340961131,-0.15956203068656558,-0.21893540202478426,0.08029945085975645,-0.1564201653040382,0.018718743808501335,-0.5410163534729724,-0.16241236825465297,-0.17872093162757102,-0.1759988780301475,0.37198853960112105,-0.07322114445248634,0.1316462025874922,0.10439267889857119,-0.27767795977716003,-0.19092462611597497,0.43129294818007197,-0.41045216261875683,-0.19024426336883596,-0.11079945381931412,-0.1804044959927599,-0.20717168522535878,-0.14422806507418484,-0.018822691158466697,-0.11647666702133433,-0.3428811126000239,-0.182251120602719,-0.11430281949893457,-0.2791314724875717,-0.1362378409736324,0.1091253346660221,-0.18225112060271897,0.18384059187403293,0.16748385644752975,-0.0807525933120247,0.2746651741471517,-0.14942776764585372,-0.23191563411945576,-0.17792896836422123,-0.410452162618757,-0.13819316966632994,-0.11520541735065844,-0.2593521714587496,-0.18767210509803736,-0.18123741032646293,0.0866063246740884,0.1785976954826549,-0.1086704360009599,-0.18528360735565777,-0.20582512758055693,0.3813649718015839,-0.182251120602719,-0.051345182473435336,-0.08747113810672988,-0.18864400860160124,-0.16237062670265984,-0.1053469801049651,0.0551394863013091,-0.14187891750861092,0.09991116360192437,-0.1810320915741291,-0.1679260117693821,-0.22307753813005243,-0.1225300458902619,0.1669496776825964,-0.18137866172663483,-0.12626964568218843,-0.16050774075459526],\"z\":[-0.20787274343178044,-0.21804820528059887,-0.215554428915181,-0.05046190467368289,-0.036008979118766965,-0.04736213093439506,-0.17103477067314507,-0.0811070863655659,-0.19282104235967362,-0.07547479782412925,-0.1750873637402911,-0.061388731817699375,-0.14908706532479166,-0.08475310884750784,-0.0879912593258937,-0.2126685636615092,-0.02383036946863691,-0.061398567545065924,-0.13578381791218636,-0.05541058175344241,-0.21241686603707677,-0.14445315663010444,-0.21241686603707677,-0.12747370234478309,-0.13722718055904515,-0.11515396638126335,-0.21941294354502444,-0.18688798460485628,-0.15181693456043074,-0.20032234313513095,-0.21423030217621886,1.7695075417911565,-0.07309441352282826,-0.20147149377690934,-0.13903816276129266,-0.19776862910518436,-0.1266843140703219,-0.05657606210818019,-0.1065257195615234,-0.10897966289999657,-0.03431168619863296,-0.10223059501533625,-0.19961641265144972,-0.07281575717563943,-0.1791666693120397,-0.1369907855915919,-0.041393093017343494,-0.056438807011704215,-0.21241686603707677,-0.2133400204079742,-0.15799729852451938,-0.17909239413784733,-0.11283740306418122,-0.0946870188286328,-0.20530110018975758,-0.09969687999718879,-0.2140466712896348,-0.13684696578570377,-0.19471897011818023,-0.21396725318108617,-0.13778865672051677,-0.06581765646826228,-0.09227229556456608,-0.2088479352811872,-0.15712961103210454,-0.15844029463680248,-0.21241686603707674,-0.15033046041071865,-0.14023956012337968,-0.20817111088645157,-0.13569741846968017,-0.20346617360916538,-0.16008367643942384,-0.14428016735181987,-0.17653375196893664,-0.2040067332364242,-0.11943537300443428,-0.060920615046803975,0.8038029040502899,1.1378206145411116,-0.1475549200800149,-0.0974990437140851,-0.16409902056282405,-0.15130492052153005,-0.1118121519912239,1.142763614489666,-0.1351134673021433,-0.13456015449368078,-0.19422502348866896,-0.13399383343226004,-0.1818283283043098,-0.21241686603707685,0.8038029040502899,-0.2069670848862251,-0.20626304201629955,-0.0899501947195408,0.21554329678831957,-0.07233533064611301,-0.13861255825042568,-0.05788724287400207,-0.12621594722554808,-0.21456741713997188,1.7695075417911565,-0.10052629093184791,-0.1142671671945082,-0.2093520565191538,-0.08388229983778223,-0.03858866305014122,-0.15962139447150978,-0.08912992628482655,-0.15845506846734456,0.8038029040502898,-0.17392197792939967,0.004321120061126393,-0.05233617258524167,0.6074998865285296,-0.19992688251039414,-0.1723802941741842,-0.197280766075682,-0.07991241650099506,-0.12484857289199555,-0.2207551246849009,-0.20566695564966067,-0.21218499176469033,-0.20596302106484357,-0.07088858606239745,-0.06645878635322022,0.44705482397232965,-0.12877457846095106,-0.14995692887453918,-0.1298127727805004,-0.13864578635305216,-0.1497150777721401,-0.11911302527419697,1.7695075417911565,-0.14041634292390032,-0.10895785196481919,-0.1683285911999746,-0.1317581384048919,-0.1392328779763265,0.24215581258708183,-0.11622022261778954,-0.14223552360153116,-0.22075512468490094,-0.07113374878445634,1.1378206145411118,-0.1736783108625357,-0.18338589753618967,-0.1792365539324014,-0.12106607353665039,-0.11635430495800658,-0.06603474569172298,-0.048509272751896704,0.8038029040502898,-0.2124168660370768,-0.1683728329085143,-0.18415370106437326,-0.11975387558995737,-0.10688027366799993,-0.2124168660370768,-0.08037855021923446,-0.06509798434785403,-0.00573980576404475,-0.060950729541261045,-0.17106226571063538,-0.15354371136701372,-0.2192361732836657,1.1378206145411118,-0.059233364326828644,-0.11025398424328674,-0.17138659300271142,-0.11951008272733986,-0.21378176890984504,-0.10508427045104793,-0.008226084569235419,-0.11250947801233739,-0.20128761868640138,-0.20130147370230725,-0.1314955449651247,-0.2124168660370768,-0.08522559666584793,-0.06242395908096869,-0.1817872863859945,-0.1756029291724686,-0.06279658950864109,-0.07158597163040023,-0.16811090784188223,-0.04749345743774792,-0.21357296721422483,-0.19769315313158742,-0.21582808822007196,-0.05361900691414996,-0.01554005541131634,-0.1960758074155954,-0.10454521252440109,-0.1891811091058485],\"type\":\"scatter3d\"},{\"hovertemplate\":\"Cluster=4\\u003cbr\\u003ex_3d=%{x}\\u003cbr\\u003ey_3d=%{y}\\u003cbr\\u003ez_3d=%{z}\\u003cextra\\u003e\\u003c\\u002fextra\\u003e\",\"legendgroup\":\"4\",\"marker\":{\"color\":\"#EF553B\",\"symbol\":\"circle\"},\"mode\":\"markers\",\"name\":\"4\",\"scene\":\"scene\",\"showlegend\":true,\"x\":[-0.04588724093252681,-0.4228879083625017,-0.19010367278883253,-0.14010709725281334,-0.5130165704794258,-0.4187585943412618,-0.5005848355299753,-0.323945206411392,-0.03470652138667911,-0.7181605373290881,-0.3266641041160612,-0.19281618667533898,-0.113550567833573,-0.3699071455635668,-0.371395808139368,-0.6071293718600649,-0.4761152155680011,-0.020694076978208725,-0.37301749633656117,-0.29734785720475904,-0.28344795619046625,-0.27212068757805,-0.20990587347313935,-0.31023505827458653,-0.3981682081953638,-0.1131527762811548,-0.10042923038317715,-0.2361068575593797,-0.18573478955480147,-0.4330988485592326,-0.0882283556018922,-0.03242284221520599,-0.31922693433279037,-0.16810715758873512,-0.10357345820111838,-0.4786908357958695,-0.05397266697212616,-0.1108407698813783,-0.4588482123695315,-0.3853116318349883,-0.4206440092903693,-0.29987319299455784,-0.6181067189853664,-0.06322973407179247,-0.5428718177961406,-0.6969814555876747,-0.5723109336441342,-0.3397527569807676,-0.39098567852352345,-0.4978241613744864,-0.5067831698550107,-0.18244058327991416,-0.16318110142663725,-0.6053669736175884,-0.01642106267593502,-0.1680746022665957,-0.16270312653296384,-0.1750078169567866,-0.2431049374380851,-0.05121184719188798,-0.7165191938829006,-0.5686136898706567,-0.15847779376962387,-0.02822960748503528,-0.46748803533745265,-0.05628355519440948,-0.5526821747312682,-0.493852595971904,-0.1314110364713179,-0.2011411789163058,-0.3250583414826258,-0.5332107343057403,-0.07162974859716437,-0.435643562437113,-0.4357904833537785,-0.11248954127272232,-0.162202343060533,-0.36035492542839553,-0.023534906982056104,-0.2666581205441617,-0.6750236803306489,-0.2649213982881377,-0.36287373324998246,-0.4872375557369552,-0.27311839789677095,-0.3999347098863937,-0.06299524210949517,-0.3328709149551584,-0.6216274958806709,-0.16808509627345725,-0.13871861690939838,-0.36751705470260376,-0.08607012354780524,-0.21653853924251767,-0.5668995115548642,-0.34262919990614593,-0.7201026730263647,-0.13492693930495903,-0.11445754138703185,-0.4093969206873838,-0.4426344552029935,-0.5493772573754904,-0.20585345146417877,-0.2831356243994553,-0.02838979794724379,-0.4238019597965473,-0.7166675215635987,-0.3639383561852244,-0.28554191975789833,-0.34449199949247106,-0.03399149187804011,-0.5054432256548124,-0.17225195729881582,-0.3257363861507088,-0.22299711553886747,-0.36300177555751606,-0.37544984248602276,-0.13446073249643267,-0.047201993486236375,-0.7024765511290659,-0.5321971119643677,-0.31222063684521356,-0.5167859063913763,-0.2447821306196611,-0.44930276021293547,-0.5294581469546701,-0.5357902897908784,-0.22070066177721076,-0.40532892783840124,-0.4962856676743798,-0.7125010651626303,-0.21880423514171468,-0.1609297271084853,-0.2186072491029103,-0.3823700724335776,-0.5841302555220724,-0.33230156995148163,-0.24419073478511963,-0.13332628437736094,-0.49301125378217275,-0.11358182239010076,-0.4061590126031411,-0.46158525123956534,-0.1744082601262646,-0.41710752814370955,-0.5383440739696816,-0.28224375643841854,-0.35259448711468605,-0.5622644965004079,-0.06027491846998274,-0.35465363204472167,-0.12019965108072224,-0.4019587438457929,-0.38458707389868174,-0.2504593483699389,-0.08360244881755692,-0.17546610373432014,-0.051696110140068155,-0.36051135911277554,-0.4215536618947628,-0.24464727444933537,-0.2926113482136986,-0.33230156995148163,-0.6205462767164203,-0.29536996357751333,-0.24266558331127502,-0.6582296543934987,-0.2770603232302123,-0.2650732286864702,-0.4525541871569347,-0.12826726404873226,-0.6635292184669072,-0.3215298912511649,-0.06424423331753776,-0.19774067137040582,-0.06672703506813993,-0.2340347020780171,-0.5763714988955744,-0.2562675734222612,-0.2702659130709795,-0.31172908602083577,-0.3324826293976109,-0.2561758052195749,-0.4283447032873031,-0.2782768860613137,-0.21988051846071693,-0.06410956856457894,-0.3301658332135045,-0.09356660948028991,-0.3741605903440957,-0.35364848855911324,-0.22670022454912062,-0.10520818046388528,-0.7014847356302397,-0.22543940358433745,-0.33677529696810116,-0.017392198034653895,-0.2783019443153105,-0.24810396508517818,-0.23309276688978656,-0.19155412009509534,-0.47169087816712835,-0.08349716225277526,-0.42638558085150147,-0.3407154680932153,-0.006177302060494436,-0.2685094536795046,-0.3701223445384542,-0.3008355874150903,-0.456255528185433,-0.6154062517084454,-0.4662695280480729,-0.4959347409474848,-0.09946640765562077,-0.47652228951698483,-0.5027135295868826,-0.28396333980773464,-0.03433788342847557,-0.5696905696913283,-0.15017492863755333,-0.20639868607072945,-0.4177032187331002,-0.06543573602896312,-0.6141650405878587,-0.43645947648144545,-0.20934374297451203,-0.4645711737498821,-0.33190678273746904,-0.17372843392075726,-0.4262926962648054,-0.08175850243552868,-0.0056181010216763754,-0.0398172744467866,-0.4636842737791496,-0.49397140031501535,-0.5158171871459885,-0.3923295367678017,-0.027333077648943067,-0.013503497663534031,-0.34087828117336766,-0.42175690894960566,-0.35099923303567565,-0.09418300106682116,-0.1769511024541624,-0.19100180957100704,-0.3067022133906391,-0.05151694732848623,-0.21880807259417456,-0.18895183372050223,-0.39854023002381095,-0.4882617530486281,-0.08547995152108491,-0.1740426317519984,-0.523410623585153,-0.49728521138106063,-0.5515150782773274,-0.07277572721035729],\"y\":[0.06369813843975532,-0.05643363882522328,-0.11697618787530024,0.19357678498533065,-0.2032508020139137,-0.18310667614197532,-0.10994140612389157,0.1084718976295658,0.14304554542162629,-0.0758113210655019,0.16096265398825352,-0.1693820495644936,0.22966350471308247,0.22721575688851764,-0.1268827392594961,-0.14099301056979152,0.22624202037843963,-0.10603024273072605,-0.022882885545792712,0.17433674127452645,-0.09875340208823459,-0.023270959511088738,0.020543601930086468,-0.19663023475643546,-0.17152305045197824,0.34608070778680355,-0.11787939774455859,-0.028387100830795278,-0.039722891488143695,-0.2005117623661411,-0.27360004194752624,0.4529795760421469,-0.09918524114289799,-0.1368349306986299,-0.2986233625707066,-0.162410100478501,0.1692322823219504,-0.30973206548886745,-0.16006261419153928,-0.10771770907428932,-0.10403042330047169,-0.18334038308964581,-0.12469913125401333,0.11169190828979667,-0.08232397204649462,0.05351680924135073,-0.0843793438727826,0.013635561308501907,-0.1335391356186463,-0.1804573130507004,-0.12683215606073478,-0.15088127648981012,0.2800108126332077,-0.1415483307553812,-0.036642797841168404,-0.21732546872701977,0.2118454291956554,-0.26643929708800923,-0.06661086902446296,0.18572759815308415,-0.1696073440822857,0.09114103694256334,-0.11709823368337964,-0.07471917253829553,0.06106742202690108,0.46637729301484504,-0.07088633752770002,-0.02016304219820802,-0.10077983816598186,-0.14808141514389916,-0.0885269042800606,-0.03274758354009589,0.019613320515511023,-0.10016167539002675,0.8995367536487755,-0.026477584039549647,-0.15549258001593017,0.08810578174400746,0.14369968195423727,-0.10765664581593637,-0.048973339606378403,-0.08833902308725065,-0.1178942162777933,-0.23270453497615343,0.20270845191778447,0.18828176000312494,-0.18356065292154775,-0.0318736221258499,-0.00014348372927775079,-0.1659212914816472,-0.1943286098693936,0.338722691269374,-0.14425020580016726,-0.03982838516911178,0.2186892687643979,-0.05055765146919555,0.31996329033847576,-0.06877181651860495,0.3499151539078652,0.4308047189762012,-0.22226394905662433,-0.2180371496279753,-0.20042792033849718,-0.1541600480664004,-0.14592395578126469,-0.0037210424407593716,-0.2588518452141926,-0.1617330483327215,-0.03211471730161765,-0.09853273601775142,-0.044233306388680796,0.15943887954016392,0.2747104605826823,0.49476988509857467,-0.1670948821720103,0.024537902517826768,-0.20428946335654058,-0.12369549562106968,-0.23636702201595688,-0.15338694845808634,0.18088574824956155,-0.13424677622401596,-0.2255669149496506,-0.09210575285663056,-0.07883239933259639,0.07452727387187201,-0.1508141506536532,-0.006855763321145353,-0.0454510702328397,-0.18032989550833853,0.021814379292258466,-0.16600676648880186,0.2795899272901958,-0.04351910583780909,-0.18368962115161755,-0.17226224533673054,0.29579123518990713,-0.06420195836586391,-0.12132447414066462,-0.12629345608697679,0.22028118687904322,0.07231892165822772,-0.08175402844616365,-0.13073977224026626,-0.1688621879515685,-0.11998582576953572,-0.09912353964310366,-0.023534807121249994,-0.22490430111432708,-0.09142813997590121,-0.06652931165309514,-0.2738220050778678,0.23672355518077418,0.1955514016230142,0.04974551098776271,0.31662674789894374,0.6826450939435781,0.027792827841113525,-0.09258467834202953,-0.14554213743488606,0.4001719607243913,-0.04389133960368316,0.29579123518990713,-0.1765242107524832,0.5712731103947024,0.4839616125010697,-0.08258458918579628,0.037301102469458725,-0.11394552201962961,-0.1474298054915033,0.08996390403279222,-0.14534142187274673,0.04502848183497721,-0.0912046433986661,-0.146348342955474,-0.0933712938381859,-0.1167988157725517,-0.08926564646662506,-0.15078566048400846,0.0750766436539497,0.2777532103906399,-0.24560744063733037,-0.19829763096152428,-0.039550864364962,0.010995656575636626,-0.22786278663671172,0.026007987415372986,-0.23084146651896514,0.2655708024755966,-0.18336503894998915,-0.033997777871011145,-0.09103145572279304,-0.043446434064081316,-0.11857509311313368,0.1332231290880593,-0.13801513827626152,0.2314593606029032,-0.10956857076518824,-0.11233657847260105,-0.03222134206285173,-0.12341777223785344,0.6821040960379551,0.0037839304428752556,-0.04340504286181172,-0.18247522686211737,0.07407416591824986,-0.10790945868672625,0.09513924304270432,-0.09257555123717938,-0.061214997879748344,-0.2026755831383515,0.16283940787929138,-0.14596644469983386,0.12087322459265681,-0.18948073896790676,-0.1028626285379884,-0.009622454409416595,0.2309842687619999,-0.16985770246025966,0.9248093915443806,-0.15550579347871674,-0.14276166568287313,-0.02935220365859691,-0.21489296407472563,-0.11099238836644054,0.18224346792773669,-0.2272266702435954,-0.12286375533155694,-0.09919842472302047,0.19251542746291614,-0.1343591886449918,-0.25971250436363347,-0.10557062810627071,-0.26515756948899527,0.1297620512405044,-0.1363870865574274,0.05345949026848498,0.8112584119173157,-0.24443414347312614,-0.024066211343912146,-0.10742052001330679,0.48766697515701507,-0.26069452020537853,0.04490700787165079,-0.20864834028714035,-0.14813490461422982,-0.005893084205050026,-0.13215457425102514,-0.04029881148141505,0.013477631018635538,0.37598367191792603,-0.16732011352032222,-0.061486820566597315,-0.09366689316719412,-0.14082137734554037,-0.056060944340645714,0.17622110465974808],\"z\":[-0.004069857314779417,0.05298579129020738,-0.05655270282134942,0.04116197564988135,0.04865063310981262,0.021140098760485868,8.165098101432412e-05,0.039379726171725804,-0.055864699840423436,0.08359187290110648,0.12380374665994674,-0.061224696119307705,0.07511823475264602,0.11559675165817801,0.03481382173536283,0.06218547302060653,0.07574063556883083,-0.033597781014373475,0.01618278817756869,0.1399005264444171,0.024403582699741008,0.05401986582864405,0.06027268355592685,-0.025221527281472624,0.036669555116652,0.09854065239766226,-0.0023372976349963714,0.027299184939310325,-0.015360823335008114,-0.015042228601496618,-0.091893770002198,0.050657460692640585,-0.04719161773540416,0.012184508671377763,-0.15708247537690145,-0.005299006096325957,0.04381935639059055,-0.11244525893086127,-0.005146103280784847,0.028499420072379704,0.05917585979433573,0.00898703505528992,0.08115385423183852,-0.09561579132587694,0.09512322644721448,0.09401977164013484,0.04872311222148004,0.05726234373363395,0.06442298323697003,0.06204513647061463,0.03650081152843209,-0.035141022039893464,0.007613644443044451,0.05579008964484384,-0.025927003809532678,-0.02950685297362064,-0.006289955177401296,-0.13262908600133316,-0.05430138551396689,0.0702047059794759,0.07777595384078874,0.12974196507416755,-0.0400687289845286,-0.04057806371611548,0.0652859290944835,0.08991062467953688,0.06688368453948267,0.05165485525892953,-0.014648459648280198,-0.03146228090173516,0.020955450332289634,0.037693069598761134,-0.0756274975234633,0.09185705895712314,0.25338701591880114,-0.015909663539569036,-0.0587585885903948,0.08433264735728702,0.04022425490244797,0.0045314198346564066,0.11809570161882404,-0.001715871456770796,-0.022957177940785813,0.03913804677893396,0.5094084186850989,0.10084915994254061,-0.09548089242100105,0.067109386527659,0.09372211711606762,-0.008457839526163921,-0.034988503585845016,0.11807502742272008,-0.07179260421070033,0.009185353216788145,0.11125940669808622,-0.006795266861078731,0.20891744938134382,-0.044845867334158504,0.038181504823247635,0.14968229455429483,-0.009831785362848606,0.04445497064041389,-0.01452070162935401,0.018788030150458455,-0.10591029459256719,0.09769520622274586,0.029435529453894466,0.022068980626213208,0.04943300424397692,-0.001022582960794879,-0.009532546249402854,0.17270632380094997,0.1509166000726433,0.4291350023548342,-0.019422879448552567,0.0689908610112806,0.008415184482957184,-0.04048778996621089,-0.12921631421442117,0.05632127276651673,0.17309174529466387,0.0098663287665817,-0.0043581379725815,0.002912365478273579,-0.020511346591739737,0.06494512562471429,0.03140738646938913,0.024086797074363092,0.07421205653996672,0.0216739007105784,0.07198363270472716,0.006575538594263747,0.11152896116100323,0.0005928605723665715,-0.02123661046896774,0.04433111191617679,0.14784653761299135,0.05710512454859598,-0.022673057915645636,0.041956363946104046,0.35043585829351953,0.10590901474626442,0.019773185405911754,-0.006954336595045038,-0.013544266735641238,0.07963702140299349,0.045037119606850605,0.05066693787425904,0.02203923827495922,-0.0031423091138931703,0.03245836639665659,-0.15037780552883678,0.1480214907178459,0.12337067742075795,0.03938548907253581,0.05063582434897957,0.14929483294724055,-0.021212240013260993,0.06398265297812447,0.013307917328003082,0.1297705356111104,0.05482987574752214,0.14784653761299135,0.04444235811514785,0.16901960055906803,0.17957312098737616,0.09069888633992566,0.08231323204912391,0.004586793045442713,0.054810145374767465,0.000685978459997611,0.08002816972319664,0.09078642637399054,-0.03510449603630117,-0.045507533454115706,-0.09341255862299225,-0.026927541883429062,0.06659634048597218,0.001756471724843397,0.026957513600891655,0.10291157033378276,-0.017167186314973097,-0.02645046412783329,0.08179459209871846,0.0376932870045195,-0.04592242126998309,-0.009453350334407412,0.004479731122392323,-0.06202586556451996,0.017830089978231718,0.052484380701732065,-0.00730944994934752,-0.06920702165234766,0.058623694297551585,0.08301852676272939,-0.00485876179366421,0.009070172925262918,0.02053349463614903,0.3042975793709109,0.05081540846184935,0.022827046256099787,0.21153563127213204,0.0006056101078937638,0.058244278447024615,0.001797175006206067,0.007301889041480649,0.012633007647438995,0.04874440162981972,0.060645996548863226,0.052695674999052325,0.02118691928891399,0.15162172442110283,-0.00313991184405421,-0.041171811598551,0.03880864706401799,0.05182548013533392,-0.016433652784968958,0.04709991666335554,0.04796255842914996,0.12657387474864076,-0.018454290873547736,0.030134049872622304,-0.0325451587201555,0.0319661130692102,0.05244005508401217,0.016247317731097208,0.01644940320906826,0.00964178357131672,0.006717386134289604,0.18178679166648284,-0.04234319206733572,-0.13716406879359064,-0.06693770847892698,-0.029573184069980177,0.15200203069025656,0.0313922608823523,0.007223165217891713,0.158651326526156,-0.14492651018514896,0.05038960942726482,0.05944445709744281,0.11753088186305988,-0.11293211058559463,-0.05975605044467476,-0.03342068368910114,0.004155492878424398,-0.0704609784533711,0.0766648983615421,0.023367947982311763,0.08298028668157438,0.14331332893398094,-0.06109729811582496,0.005074032902797922,0.06283585777476229,0.06900943617489665,0.04366775852188118,0.2295498019782451],\"type\":\"scatter3d\"},{\"hovertemplate\":\"Cluster=0\\u003cbr\\u003ex_3d=%{x}\\u003cbr\\u003ey_3d=%{y}\\u003cbr\\u003ez_3d=%{z}\\u003cextra\\u003e\\u003c\\u002fextra\\u003e\",\"legendgroup\":\"0\",\"marker\":{\"color\":\"#00cc96\",\"symbol\":\"circle\"},\"mode\":\"markers\",\"name\":\"0\",\"scene\":\"scene\",\"showlegend\":true,\"x\":[0.2844823479314078,0.29814792879880603,0.3640997835397288,0.35306337388009545,0.5853368575052681,0.31475945846593295,0.6118853844726618,0.07865382119683977,0.28603875221970876,0.6118853844726618,0.22717932807172292,0.15008563750551188,0.6155617041329681,0.18903704600471666,0.6123715870596875,0.6118853844726618,0.199497743519872,0.07017037356427769,0.21981130057420106,0.22822907736225156,0.03765996189894451,0.16047973204830632,0.23139796339590693,0.10487963838255555,0.21428803907882177,0.10300269230707314,0.3243558636427578,0.14519917297957877,0.1614685229303533,0.031945164337998044,0.15103319789849765,0.07142842067823636,0.048582442762267496,0.30734310739447623,0.043651213057977055,0.012179852551104592,0.03519134604528988,0.008910489770712977,0.09258051553939542,-0.013415682998553889,0.3413134639787502,0.048564657081172885,0.0761282491285378,0.36295985803205366,0.1172837105858843,0.30548798967391255,0.0965800905007432],\"y\":[0.34877356397748327,0.32117634507803866,0.7369432341207208,1.0196484496414557,0.7421669200902388,0.42901949819529955,0.9144182288048409,0.8588936124519355,0.6940112294056029,0.914418228804841,0.22402451443288923,0.603662003237599,0.8573361085715162,0.3979192383115553,0.7753650264223183,0.9144182288048411,0.24277854516057215,0.08805195864948212,0.5007281627873922,0.3443316896464267,0.4932247954686813,0.22117292718744272,0.39674181753210525,0.23797329193429245,0.6572628898234059,0.33638183182711284,0.5636564219386084,0.6071513669043026,0.4764822531030631,0.12467894024528349,0.5949317770642868,0.4585477407911443,0.7781791736578352,0.4142100863493785,0.25369614625318077,0.4565057089201792,0.41511390062231907,0.3823909133071639,0.5987971878933909,0.20872780619791903,1.255364811370616,0.1578286249778495,0.16487769431953386,1.2772943173722444,0.6406606221433828,0.6991491267990279,0.16215364446517574],\"z\":[-0.07047683375940184,-0.00601692311205202,9.398140914661122e-05,0.051162264396609154,-0.11885916718474075,-0.045831417769341264,-0.11190946392687896,0.10971039716178217,0.002177122740775116,-0.11190946392687894,0.006359454574635608,-0.006215520457877552,-0.12354598058850284,-0.010476502710040995,-0.129105945927973,-0.111909463926879,0.2689546188720264,-0.0309960905715602,4.1520153299826686e-05,0.0006608601664311812,0.010891456626914701,0.3530171523565643,-0.052598686414625846,0.00399498015304846,0.3150225144493976,-0.04336696872705149,-0.009547264973807423,0.007737357510942458,0.03506735225336009,-0.03730834720516872,0.0458305249961952,0.017836666244676506,0.10062752805794775,-0.05620187594711418,0.09230595936601274,0.05430713861558651,0.30766346110037945,0.038620821280458476,0.08123585191826939,0.03565310961520653,0.059968143780130864,0.04519176350054427,-0.09708461596106602,0.05983748562970423,0.3564791587708164,0.010293664891014012,-0.06610671543675205],\"type\":\"scatter3d\"}],                        {\"template\":{\"data\":{\"histogram2dcontour\":[{\"type\":\"histogram2dcontour\",\"colorbar\":{\"outlinewidth\":0,\"ticks\":\"\"},\"colorscale\":[[0.0,\"#0d0887\"],[0.1111111111111111,\"#46039f\"],[0.2222222222222222,\"#7201a8\"],[0.3333333333333333,\"#9c179e\"],[0.4444444444444444,\"#bd3786\"],[0.5555555555555556,\"#d8576b\"],[0.6666666666666666,\"#ed7953\"],[0.7777777777777778,\"#fb9f3a\"],[0.8888888888888888,\"#fdca26\"],[1.0,\"#f0f921\"]]}],\"choropleth\":[{\"type\":\"choropleth\",\"colorbar\":{\"outlinewidth\":0,\"ticks\":\"\"}}],\"histogram2d\":[{\"type\":\"histogram2d\",\"colorbar\":{\"outlinewidth\":0,\"ticks\":\"\"},\"colorscale\":[[0.0,\"#0d0887\"],[0.1111111111111111,\"#46039f\"],[0.2222222222222222,\"#7201a8\"],[0.3333333333333333,\"#9c179e\"],[0.4444444444444444,\"#bd3786\"],[0.5555555555555556,\"#d8576b\"],[0.6666666666666666,\"#ed7953\"],[0.7777777777777778,\"#fb9f3a\"],[0.8888888888888888,\"#fdca26\"],[1.0,\"#f0f921\"]]}],\"heatmap\":[{\"type\":\"heatmap\",\"colorbar\":{\"outlinewidth\":0,\"ticks\":\"\"},\"colorscale\":[[0.0,\"#0d0887\"],[0.1111111111111111,\"#46039f\"],[0.2222222222222222,\"#7201a8\"],[0.3333333333333333,\"#9c179e\"],[0.4444444444444444,\"#bd3786\"],[0.5555555555555556,\"#d8576b\"],[0.6666666666666666,\"#ed7953\"],[0.7777777777777778,\"#fb9f3a\"],[0.8888888888888888,\"#fdca26\"],[1.0,\"#f0f921\"]]}],\"heatmapgl\":[{\"type\":\"heatmapgl\",\"colorbar\":{\"outlinewidth\":0,\"ticks\":\"\"},\"colorscale\":[[0.0,\"#0d0887\"],[0.1111111111111111,\"#46039f\"],[0.2222222222222222,\"#7201a8\"],[0.3333333333333333,\"#9c179e\"],[0.4444444444444444,\"#bd3786\"],[0.5555555555555556,\"#d8576b\"],[0.6666666666666666,\"#ed7953\"],[0.7777777777777778,\"#fb9f3a\"],[0.8888888888888888,\"#fdca26\"],[1.0,\"#f0f921\"]]}],\"contourcarpet\":[{\"type\":\"contourcarpet\",\"colorbar\":{\"outlinewidth\":0,\"ticks\":\"\"}}],\"contour\":[{\"type\":\"contour\",\"colorbar\":{\"outlinewidth\":0,\"ticks\":\"\"},\"colorscale\":[[0.0,\"#0d0887\"],[0.1111111111111111,\"#46039f\"],[0.2222222222222222,\"#7201a8\"],[0.3333333333333333,\"#9c179e\"],[0.4444444444444444,\"#bd3786\"],[0.5555555555555556,\"#d8576b\"],[0.6666666666666666,\"#ed7953\"],[0.7777777777777778,\"#fb9f3a\"],[0.8888888888888888,\"#fdca26\"],[1.0,\"#f0f921\"]]}],\"surface\":[{\"type\":\"surface\",\"colorbar\":{\"outlinewidth\":0,\"ticks\":\"\"},\"colorscale\":[[0.0,\"#0d0887\"],[0.1111111111111111,\"#46039f\"],[0.2222222222222222,\"#7201a8\"],[0.3333333333333333,\"#9c179e\"],[0.4444444444444444,\"#bd3786\"],[0.5555555555555556,\"#d8576b\"],[0.6666666666666666,\"#ed7953\"],[0.7777777777777778,\"#fb9f3a\"],[0.8888888888888888,\"#fdca26\"],[1.0,\"#f0f921\"]]}],\"mesh3d\":[{\"type\":\"mesh3d\",\"colorbar\":{\"outlinewidth\":0,\"ticks\":\"\"}}],\"scatter\":[{\"fillpattern\":{\"fillmode\":\"overlay\",\"size\":10,\"solidity\":0.2},\"type\":\"scatter\"}],\"parcoords\":[{\"type\":\"parcoords\",\"line\":{\"colorbar\":{\"outlinewidth\":0,\"ticks\":\"\"}}}],\"scatterpolargl\":[{\"type\":\"scatterpolargl\",\"marker\":{\"colorbar\":{\"outlinewidth\":0,\"ticks\":\"\"}}}],\"bar\":[{\"error_x\":{\"color\":\"#2a3f5f\"},\"error_y\":{\"color\":\"#2a3f5f\"},\"marker\":{\"line\":{\"color\":\"#E5ECF6\",\"width\":0.5},\"pattern\":{\"fillmode\":\"overlay\",\"size\":10,\"solidity\":0.2}},\"type\":\"bar\"}],\"scattergeo\":[{\"type\":\"scattergeo\",\"marker\":{\"colorbar\":{\"outlinewidth\":0,\"ticks\":\"\"}}}],\"scatterpolar\":[{\"type\":\"scatterpolar\",\"marker\":{\"colorbar\":{\"outlinewidth\":0,\"ticks\":\"\"}}}],\"histogram\":[{\"marker\":{\"pattern\":{\"fillmode\":\"overlay\",\"size\":10,\"solidity\":0.2}},\"type\":\"histogram\"}],\"scattergl\":[{\"type\":\"scattergl\",\"marker\":{\"colorbar\":{\"outlinewidth\":0,\"ticks\":\"\"}}}],\"scatter3d\":[{\"type\":\"scatter3d\",\"line\":{\"colorbar\":{\"outlinewidth\":0,\"ticks\":\"\"}},\"marker\":{\"colorbar\":{\"outlinewidth\":0,\"ticks\":\"\"}}}],\"scattermapbox\":[{\"type\":\"scattermapbox\",\"marker\":{\"colorbar\":{\"outlinewidth\":0,\"ticks\":\"\"}}}],\"scatterternary\":[{\"type\":\"scatterternary\",\"marker\":{\"colorbar\":{\"outlinewidth\":0,\"ticks\":\"\"}}}],\"scattercarpet\":[{\"type\":\"scattercarpet\",\"marker\":{\"colorbar\":{\"outlinewidth\":0,\"ticks\":\"\"}}}],\"carpet\":[{\"aaxis\":{\"endlinecolor\":\"#2a3f5f\",\"gridcolor\":\"white\",\"linecolor\":\"white\",\"minorgridcolor\":\"white\",\"startlinecolor\":\"#2a3f5f\"},\"baxis\":{\"endlinecolor\":\"#2a3f5f\",\"gridcolor\":\"white\",\"linecolor\":\"white\",\"minorgridcolor\":\"white\",\"startlinecolor\":\"#2a3f5f\"},\"type\":\"carpet\"}],\"table\":[{\"cells\":{\"fill\":{\"color\":\"#EBF0F8\"},\"line\":{\"color\":\"white\"}},\"header\":{\"fill\":{\"color\":\"#C8D4E3\"},\"line\":{\"color\":\"white\"}},\"type\":\"table\"}],\"barpolar\":[{\"marker\":{\"line\":{\"color\":\"#E5ECF6\",\"width\":0.5},\"pattern\":{\"fillmode\":\"overlay\",\"size\":10,\"solidity\":0.2}},\"type\":\"barpolar\"}],\"pie\":[{\"automargin\":true,\"type\":\"pie\"}]},\"layout\":{\"autotypenumbers\":\"strict\",\"colorway\":[\"#636efa\",\"#EF553B\",\"#00cc96\",\"#ab63fa\",\"#FFA15A\",\"#19d3f3\",\"#FF6692\",\"#B6E880\",\"#FF97FF\",\"#FECB52\"],\"font\":{\"color\":\"#2a3f5f\"},\"hovermode\":\"closest\",\"hoverlabel\":{\"align\":\"left\"},\"paper_bgcolor\":\"white\",\"plot_bgcolor\":\"#E5ECF6\",\"polar\":{\"bgcolor\":\"#E5ECF6\",\"angularaxis\":{\"gridcolor\":\"white\",\"linecolor\":\"white\",\"ticks\":\"\"},\"radialaxis\":{\"gridcolor\":\"white\",\"linecolor\":\"white\",\"ticks\":\"\"}},\"ternary\":{\"bgcolor\":\"#E5ECF6\",\"aaxis\":{\"gridcolor\":\"white\",\"linecolor\":\"white\",\"ticks\":\"\"},\"baxis\":{\"gridcolor\":\"white\",\"linecolor\":\"white\",\"ticks\":\"\"},\"caxis\":{\"gridcolor\":\"white\",\"linecolor\":\"white\",\"ticks\":\"\"}},\"coloraxis\":{\"colorbar\":{\"outlinewidth\":0,\"ticks\":\"\"}},\"colorscale\":{\"sequential\":[[0.0,\"#0d0887\"],[0.1111111111111111,\"#46039f\"],[0.2222222222222222,\"#7201a8\"],[0.3333333333333333,\"#9c179e\"],[0.4444444444444444,\"#bd3786\"],[0.5555555555555556,\"#d8576b\"],[0.6666666666666666,\"#ed7953\"],[0.7777777777777778,\"#fb9f3a\"],[0.8888888888888888,\"#fdca26\"],[1.0,\"#f0f921\"]],\"sequentialminus\":[[0.0,\"#0d0887\"],[0.1111111111111111,\"#46039f\"],[0.2222222222222222,\"#7201a8\"],[0.3333333333333333,\"#9c179e\"],[0.4444444444444444,\"#bd3786\"],[0.5555555555555556,\"#d8576b\"],[0.6666666666666666,\"#ed7953\"],[0.7777777777777778,\"#fb9f3a\"],[0.8888888888888888,\"#fdca26\"],[1.0,\"#f0f921\"]],\"diverging\":[[0,\"#8e0152\"],[0.1,\"#c51b7d\"],[0.2,\"#de77ae\"],[0.3,\"#f1b6da\"],[0.4,\"#fde0ef\"],[0.5,\"#f7f7f7\"],[0.6,\"#e6f5d0\"],[0.7,\"#b8e186\"],[0.8,\"#7fbc41\"],[0.9,\"#4d9221\"],[1,\"#276419\"]]},\"xaxis\":{\"gridcolor\":\"white\",\"linecolor\":\"white\",\"ticks\":\"\",\"title\":{\"standoff\":15},\"zerolinecolor\":\"white\",\"automargin\":true,\"zerolinewidth\":2},\"yaxis\":{\"gridcolor\":\"white\",\"linecolor\":\"white\",\"ticks\":\"\",\"title\":{\"standoff\":15},\"zerolinecolor\":\"white\",\"automargin\":true,\"zerolinewidth\":2},\"scene\":{\"xaxis\":{\"backgroundcolor\":\"#E5ECF6\",\"gridcolor\":\"white\",\"linecolor\":\"white\",\"showbackground\":true,\"ticks\":\"\",\"zerolinecolor\":\"white\",\"gridwidth\":2},\"yaxis\":{\"backgroundcolor\":\"#E5ECF6\",\"gridcolor\":\"white\",\"linecolor\":\"white\",\"showbackground\":true,\"ticks\":\"\",\"zerolinecolor\":\"white\",\"gridwidth\":2},\"zaxis\":{\"backgroundcolor\":\"#E5ECF6\",\"gridcolor\":\"white\",\"linecolor\":\"white\",\"showbackground\":true,\"ticks\":\"\",\"zerolinecolor\":\"white\",\"gridwidth\":2}},\"shapedefaults\":{\"line\":{\"color\":\"#2a3f5f\"}},\"annotationdefaults\":{\"arrowcolor\":\"#2a3f5f\",\"arrowhead\":0,\"arrowwidth\":1},\"geo\":{\"bgcolor\":\"white\",\"landcolor\":\"#E5ECF6\",\"subunitcolor\":\"white\",\"showland\":true,\"showlakes\":true,\"lakecolor\":\"white\"},\"title\":{\"x\":0.05},\"mapbox\":{\"style\":\"light\"}}},\"scene\":{\"domain\":{\"x\":[0.0,1.0],\"y\":[0.0,1.0]},\"xaxis\":{\"title\":{\"text\":\"x_3d\"}},\"yaxis\":{\"title\":{\"text\":\"y_3d\"}},\"zaxis\":{\"title\":{\"text\":\"z_3d\"}}},\"legend\":{\"title\":{\"text\":\"Cluster\"},\"tracegroupgap\":0},\"title\":{\"text\":\"Clusters Fuzzy C-Means (3D)\"}},                        {\"responsive\": true}                    ).then(function(){\n",
       "                            \n",
       "var gd = document.getElementById('b863de8c-c5a4-4c92-afee-1b0899062478');\n",
       "var x = new MutationObserver(function (mutations, observer) {{\n",
       "        var display = window.getComputedStyle(gd).display;\n",
       "        if (!display || display === 'none') {{\n",
       "            console.log([gd, 'removed!']);\n",
       "            Plotly.purge(gd);\n",
       "            observer.disconnect();\n",
       "        }}\n",
       "}});\n",
       "\n",
       "// Listen for the removal of the full notebook cells\n",
       "var notebookContainer = gd.closest('#notebook-container');\n",
       "if (notebookContainer) {{\n",
       "    x.observe(notebookContainer, {childList: true});\n",
       "}}\n",
       "\n",
       "// Listen for the clearing of the current output cell\n",
       "var outputEl = gd.closest('.output');\n",
       "if (outputEl) {{\n",
       "    x.observe(outputEl, {childList: true});\n",
       "}}\n",
       "\n",
       "                        })                };                });            </script>        </div>"
      ]
     },
     "metadata": {},
     "output_type": "display_data"
    }
   ],
   "source": [
    "import plotly.express as px\n",
    "\n",
    "# Réduction de dimension en 3D\n",
    "pca_3d = PCA(n_components=3)\n",
    "X_3d = pca_3d.fit_transform(distances)\n",
    "\n",
    "# Ajouter les coordonnées 3D au DataFrame\n",
    "df['x_3d'] = X_3d[:, 0]\n",
    "df['y_3d'] = X_3d[:, 1]\n",
    "df['z_3d'] = X_3d[:, 2]\n",
    "\n",
    "# Visualisation des clusters Fuzzy C-Means en 3D\n",
    "fig = px.scatter_3d(df, x='x_3d', y='y_3d', z='z_3d',\n",
    "                    color=df['fcm_cluster'].astype(str),  # Colorier les clusters\n",
    "                    title='Clusters Fuzzy C-Means (3D)',\n",
    "                    labels={'color': 'Cluster'})\n",
    "fig.show()\n"
   ]
  },
  {
   "cell_type": "markdown",
   "id": "81ddc353-9830-42c4-8ef6-4c4c495afb29",
   "metadata": {},
   "source": [
    "##  Calculer les centroïdes des clusters # #"
   ]
  },
  {
   "cell_type": "code",
   "execution_count": 263,
   "id": "5606f744-a185-4d9c-ac45-dd1aa40bce46",
   "metadata": {},
   "outputs": [
    {
     "name": "stdout",
     "output_type": "stream",
     "text": [
      "Centroïde du cluster 3: x    0.354343\n",
      "y   -0.108096\n",
      "dtype: float64\n",
      "Centroïde du cluster 4: x   -0.311221\n",
      "y   -0.014687\n",
      "dtype: float64\n",
      "Centroïde du cluster 0: x    0.224099\n",
      "y    0.531090\n",
      "dtype: float64\n"
     ]
    }
   ],
   "source": [
    "import numpy as np\n",
    "from sklearn.metrics.pairwise import euclidean_distances\n",
    "\n",
    "# Fonction pour obtenir le centroïde de chaque cluster\n",
    "def get_centroids(df, cluster_column, coordinates_columns):\n",
    "    centroids = {}\n",
    "    for cluster in df[cluster_column].unique():\n",
    "        # Extraire les coordonnées des tweets appartenant à ce cluster\n",
    "        cluster_points = df[df[cluster_column] == cluster][coordinates_columns]\n",
    "        centroid = cluster_points.mean(axis=0)  # Calcul du centroïde (moyenne des points)\n",
    "        centroids[cluster] = centroid\n",
    "    return centroids\n",
    "\n",
    "# Calculer les centroïdes pour les clusters 2D\n",
    "coordinates_2d = ['x', 'y']\n",
    "centroids_2d = get_centroids(df, 'fcm_cluster', coordinates_2d)\n",
    "\n",
    "# Afficher les centroïdes\n",
    "for cluster, centroid in centroids_2d.items():\n",
    "    print(f\"Centroïde du cluster {cluster}: {centroid}\")\n"
   ]
  },
  {
   "cell_type": "markdown",
   "id": "5f2792b2-9921-4145-8765-e67715eb8b66",
   "metadata": {},
   "source": [
    "## obtenir le tweet le plus proche du centroïde ##"
   ]
  },
  {
   "cell_type": "code",
   "execution_count": 266,
   "id": "a4a07048-0c21-451b-a129-9a1d03a80807",
   "metadata": {},
   "outputs": [
    {
     "name": "stdout",
     "output_type": "stream",
     "text": [
      "Tweet représentant le cluster 3: Trump Golf Links at Ferry Point Grand Opening next Tuesday May 26th at 11 AM Jack Nicklaus will be joining me\n",
      "Tweet représentant le cluster 4: President Obama please take the 5M check for charity tomorrow It is so easy and could do so much good\n",
      "Tweet représentant le cluster 0: NRO cancelling my subscription you people are idiots  realDonaldTrump WILL be our next President  Trump2016  RNC\n"
     ]
    }
   ],
   "source": [
    "# Fonction pour obtenir le tweet le plus proche du centroïde\n",
    "def get_closest_tweet(df, cluster_column, coordinates_columns, centroids):\n",
    "    closest_tweets = []\n",
    "    for cluster in df[cluster_column].unique():\n",
    "        # Extraire les coordonnées des tweets appartenant à ce cluster\n",
    "        cluster_points = df[df[cluster_column] == cluster]\n",
    "        centroid = centroids[cluster]\n",
    "        \n",
    "        # Calculer la distance entre chaque tweet et le centroïde\n",
    "        distances = euclidean_distances(cluster_points[coordinates_columns], [centroid])\n",
    "        \n",
    "        # Trouver l'index du tweet le plus proche\n",
    "        closest_index = np.argmin(distances)  # Indice du tweet le plus proche\n",
    "        closest_tweet = cluster_points.iloc[closest_index]\n",
    "        \n",
    "        closest_tweets.append(closest_tweet)\n",
    "        \n",
    "    return closest_tweets\n",
    "\n",
    "# Trouver les tweets les plus proches des centroïdes\n",
    "closest_tweets = get_closest_tweet(df, 'fcm_cluster', coordinates_2d, centroids_2d)\n",
    "\n",
    "# Afficher les tweets les plus proches de chaque cluster\n",
    "for tweet in closest_tweets:\n",
    "    print(f\"Tweet représentant le cluster {tweet['fcm_cluster']}: {tweet['cleaned_content']}\")\n"
   ]
  },
  {
   "cell_type": "code",
   "execution_count": null,
   "id": "c35b2644-351c-4837-b07f-7415c4184f7a",
   "metadata": {},
   "outputs": [],
   "source": []
  }
 ],
 "metadata": {
  "kernelspec": {
   "display_name": "Python 3 (ipykernel)",
   "language": "python",
   "name": "python3"
  },
  "language_info": {
   "codemirror_mode": {
    "name": "ipython",
    "version": 3
   },
   "file_extension": ".py",
   "mimetype": "text/x-python",
   "name": "python",
   "nbconvert_exporter": "python",
   "pygments_lexer": "ipython3",
   "version": "3.12.4"
  }
 },
 "nbformat": 4,
 "nbformat_minor": 5
}
